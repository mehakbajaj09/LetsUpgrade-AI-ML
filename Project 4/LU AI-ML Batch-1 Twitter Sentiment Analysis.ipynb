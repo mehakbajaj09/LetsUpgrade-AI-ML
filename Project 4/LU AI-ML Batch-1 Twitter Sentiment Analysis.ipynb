{
 "cells": [
  {
   "cell_type": "markdown",
   "id": "0b9f6b07",
   "metadata": {},
   "source": [
    "We will collect text data using Twitter API."
   ]
  },
  {
   "cell_type": "code",
   "execution_count": 2,
   "id": "b50f4bf7",
   "metadata": {},
   "outputs": [
    {
     "name": "stdout",
     "output_type": "stream",
     "text": [
      "Collecting tweepy\n",
      "  Downloading tweepy-3.10.0-py2.py3-none-any.whl (30 kB)\n",
      "Requirement already satisfied: six>=1.10.0 in c:\\users\\dell\\anaconda3\\lib\\site-packages (from tweepy) (1.15.0)\n",
      "Requirement already satisfied: requests[socks]>=2.11.1 in c:\\users\\dell\\anaconda3\\lib\\site-packages (from tweepy) (2.25.1)\n",
      "Collecting requests-oauthlib>=0.7.0\n",
      "  Downloading requests_oauthlib-1.3.0-py2.py3-none-any.whl (23 kB)\n",
      "Collecting oauthlib>=3.0.0\n",
      "  Downloading oauthlib-3.1.1-py2.py3-none-any.whl (146 kB)\n",
      "Requirement already satisfied: certifi>=2017.4.17 in c:\\users\\dell\\anaconda3\\lib\\site-packages (from requests[socks]>=2.11.1->tweepy) (2020.12.5)\n",
      "Requirement already satisfied: chardet<5,>=3.0.2 in c:\\users\\dell\\anaconda3\\lib\\site-packages (from requests[socks]>=2.11.1->tweepy) (4.0.0)\n",
      "Requirement already satisfied: urllib3<1.27,>=1.21.1 in c:\\users\\dell\\anaconda3\\lib\\site-packages (from requests[socks]>=2.11.1->tweepy) (1.26.4)\n",
      "Requirement already satisfied: idna<3,>=2.5 in c:\\users\\dell\\anaconda3\\lib\\site-packages (from requests[socks]>=2.11.1->tweepy) (2.10)\n",
      "Requirement already satisfied: PySocks!=1.5.7,>=1.5.6 in c:\\users\\dell\\anaconda3\\lib\\site-packages (from requests[socks]>=2.11.1->tweepy) (1.7.1)\n",
      "Installing collected packages: oauthlib, requests-oauthlib, tweepy\n",
      "Successfully installed oauthlib-3.1.1 requests-oauthlib-1.3.0 tweepy-3.10.0\n"
     ]
    }
   ],
   "source": [
    "!pip install tweepy"
   ]
  },
  {
   "cell_type": "code",
   "execution_count": 3,
   "id": "91210e5b",
   "metadata": {},
   "outputs": [
    {
     "name": "stdout",
     "output_type": "stream",
     "text": [
      "Requirement already satisfied: openpyxl in c:\\users\\dell\\anaconda3\\lib\\site-packages (3.0.7)\n",
      "Requirement already satisfied: et-xmlfile in c:\\users\\dell\\anaconda3\\lib\\site-packages (from openpyxl) (1.0.1)\n"
     ]
    }
   ],
   "source": [
    "!pip install openpyxl"
   ]
  },
  {
   "cell_type": "code",
   "execution_count": 4,
   "id": "9ac2993d",
   "metadata": {},
   "outputs": [],
   "source": [
    "import numpy as np\n",
    "import pandas as pd\n",
    "import tweepy\n",
    "import json\n",
    "from tweepy import OAuthHandler"
   ]
  },
  {
   "cell_type": "code",
   "execution_count": 5,
   "id": "d43db10d",
   "metadata": {},
   "outputs": [],
   "source": [
    "consumer_key = \"LzsCOl12ZZ79FObx7BV9a1R3a\"\n",
    "consumer_secret = \"gODxZ1kHJHDGgYfyP12AUN37UTlDd6yn3OsSV9Tl0iwu0K0cRY\"\n",
    "access_token = \"296102538-kYIK8SULCmRK4vgvYD2DhKbwvSXrgTdTkWh0Nvsp\"\n",
    "access_token_secret = \"Ib9obwgcE5tZk4S6tY5rAqI5iXOeJc9FGFg28qHoa4YpP\""
   ]
  },
  {
   "cell_type": "code",
   "execution_count": 6,
   "id": "a2d7230d",
   "metadata": {},
   "outputs": [],
   "source": [
    "auth = tweepy.OAuthHandler( consumer_key , consumer_secret )\n",
    "auth.set_access_token( access_token , access_token_secret )\n",
    "api = tweepy.API(auth)"
   ]
  },
  {
   "cell_type": "code",
   "execution_count": 7,
   "id": "b00c9e2b",
   "metadata": {},
   "outputs": [],
   "source": [
    "query = \"RCB winning IPL\""
   ]
  },
  {
   "cell_type": "code",
   "execution_count": 8,
   "id": "9b4b3b03",
   "metadata": {},
   "outputs": [
    {
     "name": "stdout",
     "output_type": "stream",
     "text": [
      "Status(_api=<tweepy.api.API object at 0x000001EA30D842B0>, _json={'created_at': 'Sat Sep 25 08:00:43 +0000 2021', 'id': 1441674008349462528, 'id_str': '1441674008349462528', 'full_text': 'IPL TV coverage is a series of commercials with some cricket in between.\\nWhile the game is progressing along similar lines (MI and CSK winning, RCB losing), good to see new ads every year', 'truncated': False, 'display_text_range': [0, 187], 'entities': {'hashtags': [], 'symbols': [], 'user_mentions': [], 'urls': []}, 'metadata': {'iso_language_code': 'en', 'result_type': 'recent'}, 'source': '<a href=\"http://twitter.com/download/android\" rel=\"nofollow\">Twitter for Android</a>', 'in_reply_to_status_id': None, 'in_reply_to_status_id_str': None, 'in_reply_to_user_id': None, 'in_reply_to_user_id_str': None, 'in_reply_to_screen_name': None, 'user': {'id': 52306451, 'id_str': '52306451', 'name': 'D Prasanth Nair', 'screen_name': 'DPrasanthNair', 'location': 'Mumbai', 'description': 'Doctorate-IIMA,Angel Investor,Founder, Honoured to be followed by Respected PM, Ex-Hd HR(Thomas Cook,Cipla), Member Adv Board- Nasscom Comm; Husband of Doctor', 'url': None, 'entities': {'description': {'urls': []}}, 'protected': False, 'followers_count': 8977, 'friends_count': 2315, 'listed_count': 402, 'created_at': 'Tue Jun 30 04:46:44 +0000 2009', 'favourites_count': 72013, 'utc_offset': None, 'time_zone': None, 'geo_enabled': True, 'verified': False, 'statuses_count': 57995, 'lang': None, 'contributors_enabled': False, 'is_translator': False, 'is_translation_enabled': False, 'profile_background_color': 'C0DEED', 'profile_background_image_url': 'http://abs.twimg.com/images/themes/theme1/bg.png', 'profile_background_image_url_https': 'https://abs.twimg.com/images/themes/theme1/bg.png', 'profile_background_tile': False, 'profile_image_url': 'http://pbs.twimg.com/profile_images/645988015223926785/dz0tY8RR_normal.jpg', 'profile_image_url_https': 'https://pbs.twimg.com/profile_images/645988015223926785/dz0tY8RR_normal.jpg', 'profile_link_color': '1DA1F2', 'profile_sidebar_border_color': 'C0DEED', 'profile_sidebar_fill_color': 'DDEEF6', 'profile_text_color': '333333', 'profile_use_background_image': True, 'has_extended_profile': True, 'default_profile': True, 'default_profile_image': False, 'following': False, 'follow_request_sent': False, 'notifications': False, 'translator_type': 'none', 'withheld_in_countries': []}, 'geo': None, 'coordinates': None, 'place': None, 'contributors': None, 'is_quote_status': False, 'retweet_count': 0, 'favorite_count': 1, 'favorited': False, 'retweeted': False, 'lang': 'en'}, created_at=datetime.datetime(2021, 9, 25, 8, 0, 43), id=1441674008349462528, id_str='1441674008349462528', full_text='IPL TV coverage is a series of commercials with some cricket in between.\\nWhile the game is progressing along similar lines (MI and CSK winning, RCB losing), good to see new ads every year', truncated=False, display_text_range=[0, 187], entities={'hashtags': [], 'symbols': [], 'user_mentions': [], 'urls': []}, metadata={'iso_language_code': 'en', 'result_type': 'recent'}, source='Twitter for Android', source_url='http://twitter.com/download/android', in_reply_to_status_id=None, in_reply_to_status_id_str=None, in_reply_to_user_id=None, in_reply_to_user_id_str=None, in_reply_to_screen_name=None, author=User(_api=<tweepy.api.API object at 0x000001EA30D842B0>, _json={'id': 52306451, 'id_str': '52306451', 'name': 'D Prasanth Nair', 'screen_name': 'DPrasanthNair', 'location': 'Mumbai', 'description': 'Doctorate-IIMA,Angel Investor,Founder, Honoured to be followed by Respected PM, Ex-Hd HR(Thomas Cook,Cipla), Member Adv Board- Nasscom Comm; Husband of Doctor', 'url': None, 'entities': {'description': {'urls': []}}, 'protected': False, 'followers_count': 8977, 'friends_count': 2315, 'listed_count': 402, 'created_at': 'Tue Jun 30 04:46:44 +0000 2009', 'favourites_count': 72013, 'utc_offset': None, 'time_zone': None, 'geo_enabled': True, 'verified': False, 'statuses_count': 57995, 'lang': None, 'contributors_enabled': False, 'is_translator': False, 'is_translation_enabled': False, 'profile_background_color': 'C0DEED', 'profile_background_image_url': 'http://abs.twimg.com/images/themes/theme1/bg.png', 'profile_background_image_url_https': 'https://abs.twimg.com/images/themes/theme1/bg.png', 'profile_background_tile': False, 'profile_image_url': 'http://pbs.twimg.com/profile_images/645988015223926785/dz0tY8RR_normal.jpg', 'profile_image_url_https': 'https://pbs.twimg.com/profile_images/645988015223926785/dz0tY8RR_normal.jpg', 'profile_link_color': '1DA1F2', 'profile_sidebar_border_color': 'C0DEED', 'profile_sidebar_fill_color': 'DDEEF6', 'profile_text_color': '333333', 'profile_use_background_image': True, 'has_extended_profile': True, 'default_profile': True, 'default_profile_image': False, 'following': False, 'follow_request_sent': False, 'notifications': False, 'translator_type': 'none', 'withheld_in_countries': []}, id=52306451, id_str='52306451', name='D Prasanth Nair', screen_name='DPrasanthNair', location='Mumbai', description='Doctorate-IIMA,Angel Investor,Founder, Honoured to be followed by Respected PM, Ex-Hd HR(Thomas Cook,Cipla), Member Adv Board- Nasscom Comm; Husband of Doctor', url=None, entities={'description': {'urls': []}}, protected=False, followers_count=8977, friends_count=2315, listed_count=402, created_at=datetime.datetime(2009, 6, 30, 4, 46, 44), favourites_count=72013, utc_offset=None, time_zone=None, geo_enabled=True, verified=False, statuses_count=57995, lang=None, contributors_enabled=False, is_translator=False, is_translation_enabled=False, profile_background_color='C0DEED', profile_background_image_url='http://abs.twimg.com/images/themes/theme1/bg.png', profile_background_image_url_https='https://abs.twimg.com/images/themes/theme1/bg.png', profile_background_tile=False, profile_image_url='http://pbs.twimg.com/profile_images/645988015223926785/dz0tY8RR_normal.jpg', profile_image_url_https='https://pbs.twimg.com/profile_images/645988015223926785/dz0tY8RR_normal.jpg', profile_link_color='1DA1F2', profile_sidebar_border_color='C0DEED', profile_sidebar_fill_color='DDEEF6', profile_text_color='333333', profile_use_background_image=True, has_extended_profile=True, default_profile=True, default_profile_image=False, following=False, follow_request_sent=False, notifications=False, translator_type='none', withheld_in_countries=[]), user=User(_api=<tweepy.api.API object at 0x000001EA30D842B0>, _json={'id': 52306451, 'id_str': '52306451', 'name': 'D Prasanth Nair', 'screen_name': 'DPrasanthNair', 'location': 'Mumbai', 'description': 'Doctorate-IIMA,Angel Investor,Founder, Honoured to be followed by Respected PM, Ex-Hd HR(Thomas Cook,Cipla), Member Adv Board- Nasscom Comm; Husband of Doctor', 'url': None, 'entities': {'description': {'urls': []}}, 'protected': False, 'followers_count': 8977, 'friends_count': 2315, 'listed_count': 402, 'created_at': 'Tue Jun 30 04:46:44 +0000 2009', 'favourites_count': 72013, 'utc_offset': None, 'time_zone': None, 'geo_enabled': True, 'verified': False, 'statuses_count': 57995, 'lang': None, 'contributors_enabled': False, 'is_translator': False, 'is_translation_enabled': False, 'profile_background_color': 'C0DEED', 'profile_background_image_url': 'http://abs.twimg.com/images/themes/theme1/bg.png', 'profile_background_image_url_https': 'https://abs.twimg.com/images/themes/theme1/bg.png', 'profile_background_tile': False, 'profile_image_url': 'http://pbs.twimg.com/profile_images/645988015223926785/dz0tY8RR_normal.jpg', 'profile_image_url_https': 'https://pbs.twimg.com/profile_images/645988015223926785/dz0tY8RR_normal.jpg', 'profile_link_color': '1DA1F2', 'profile_sidebar_border_color': 'C0DEED', 'profile_sidebar_fill_color': 'DDEEF6', 'profile_text_color': '333333', 'profile_use_background_image': True, 'has_extended_profile': True, 'default_profile': True, 'default_profile_image': False, 'following': False, 'follow_request_sent': False, 'notifications': False, 'translator_type': 'none', 'withheld_in_countries': []}, id=52306451, id_str='52306451', name='D Prasanth Nair', screen_name='DPrasanthNair', location='Mumbai', description='Doctorate-IIMA,Angel Investor,Founder, Honoured to be followed by Respected PM, Ex-Hd HR(Thomas Cook,Cipla), Member Adv Board- Nasscom Comm; Husband of Doctor', url=None, entities={'description': {'urls': []}}, protected=False, followers_count=8977, friends_count=2315, listed_count=402, created_at=datetime.datetime(2009, 6, 30, 4, 46, 44), favourites_count=72013, utc_offset=None, time_zone=None, geo_enabled=True, verified=False, statuses_count=57995, lang=None, contributors_enabled=False, is_translator=False, is_translation_enabled=False, profile_background_color='C0DEED', profile_background_image_url='http://abs.twimg.com/images/themes/theme1/bg.png', profile_background_image_url_https='https://abs.twimg.com/images/themes/theme1/bg.png', profile_background_tile=False, profile_image_url='http://pbs.twimg.com/profile_images/645988015223926785/dz0tY8RR_normal.jpg', profile_image_url_https='https://pbs.twimg.com/profile_images/645988015223926785/dz0tY8RR_normal.jpg', profile_link_color='1DA1F2', profile_sidebar_border_color='C0DEED', profile_sidebar_fill_color='DDEEF6', profile_text_color='333333', profile_use_background_image=True, has_extended_profile=True, default_profile=True, default_profile_image=False, following=False, follow_request_sent=False, notifications=False, translator_type='none', withheld_in_countries=[]), geo=None, coordinates=None, place=None, contributors=None, is_quote_status=False, retweet_count=0, favorite_count=1, favorited=False, retweeted=False, lang='en') \n",
      "\n",
      ".....................................\n",
      "\n",
      "Status(_api=<tweepy.api.API object at 0x000001EA30D842B0>, _json={'created_at': 'Sat Sep 25 07:30:51 +0000 2021', 'id': 1441666494102859782, 'id_str': '1441666494102859782', 'full_text': 'Reason behind RCB not winning IPL trophy yet https://t.co/B0hA8l6iIQ', 'truncated': False, 'display_text_range': [0, 44], 'entities': {'hashtags': [], 'symbols': [], 'user_mentions': [], 'urls': [], 'media': [{'id': 1441666479108202498, 'id_str': '1441666479108202498', 'indices': [45, 68], 'media_url': 'http://pbs.twimg.com/media/FAHUBkPVIAI41hA.jpg', 'media_url_https': 'https://pbs.twimg.com/media/FAHUBkPVIAI41hA.jpg', 'url': 'https://t.co/B0hA8l6iIQ', 'display_url': 'pic.twitter.com/B0hA8l6iIQ', 'expanded_url': 'https://twitter.com/aye_its_ly/status/1441666494102859782/photo/1', 'type': 'photo', 'sizes': {'thumb': {'w': 150, 'h': 150, 'resize': 'crop'}, 'large': {'w': 1945, 'h': 2048, 'resize': 'fit'}, 'small': {'w': 646, 'h': 680, 'resize': 'fit'}, 'medium': {'w': 1140, 'h': 1200, 'resize': 'fit'}}}]}, 'extended_entities': {'media': [{'id': 1441666479108202498, 'id_str': '1441666479108202498', 'indices': [45, 68], 'media_url': 'http://pbs.twimg.com/media/FAHUBkPVIAI41hA.jpg', 'media_url_https': 'https://pbs.twimg.com/media/FAHUBkPVIAI41hA.jpg', 'url': 'https://t.co/B0hA8l6iIQ', 'display_url': 'pic.twitter.com/B0hA8l6iIQ', 'expanded_url': 'https://twitter.com/aye_its_ly/status/1441666494102859782/photo/1', 'type': 'photo', 'sizes': {'thumb': {'w': 150, 'h': 150, 'resize': 'crop'}, 'large': {'w': 1945, 'h': 2048, 'resize': 'fit'}, 'small': {'w': 646, 'h': 680, 'resize': 'fit'}, 'medium': {'w': 1140, 'h': 1200, 'resize': 'fit'}}}]}, 'metadata': {'iso_language_code': 'en', 'result_type': 'recent'}, 'source': '<a href=\"http://twitter.com/download/android\" rel=\"nofollow\">Twitter for Android</a>', 'in_reply_to_status_id': None, 'in_reply_to_status_id_str': None, 'in_reply_to_user_id': None, 'in_reply_to_user_id_str': None, 'in_reply_to_screen_name': None, 'user': {'id': 1427462282489995265, 'id_str': '1427462282489995265', 'name': 'ladki_baaz', 'screen_name': 'aye_its_ly', 'location': '', 'description': '19💫 || गुंतलेला श्वास हा सोडवू दे , थांब ना ... तोल माझा सावरू दे थांब ना :)\\n@_siddhesh_wagh :-O', 'url': None, 'entities': {'description': {'urls': []}}, 'protected': False, 'followers_count': 37, 'friends_count': 12, 'listed_count': 0, 'created_at': 'Tue Aug 17 02:48:47 +0000 2021', 'favourites_count': 326, 'utc_offset': None, 'time_zone': None, 'geo_enabled': False, 'verified': False, 'statuses_count': 261, 'lang': None, 'contributors_enabled': False, 'is_translator': False, 'is_translation_enabled': False, 'profile_background_color': 'F5F8FA', 'profile_background_image_url': None, 'profile_background_image_url_https': None, 'profile_background_tile': False, 'profile_image_url': 'http://pbs.twimg.com/profile_images/1441335098494709784/lZVfQOGE_normal.jpg', 'profile_image_url_https': 'https://pbs.twimg.com/profile_images/1441335098494709784/lZVfQOGE_normal.jpg', 'profile_banner_url': 'https://pbs.twimg.com/profile_banners/1427462282489995265/1632412095', 'profile_link_color': '1DA1F2', 'profile_sidebar_border_color': 'C0DEED', 'profile_sidebar_fill_color': 'DDEEF6', 'profile_text_color': '333333', 'profile_use_background_image': True, 'has_extended_profile': False, 'default_profile': True, 'default_profile_image': False, 'following': False, 'follow_request_sent': False, 'notifications': False, 'translator_type': 'none', 'withheld_in_countries': []}, 'geo': None, 'coordinates': None, 'place': None, 'contributors': None, 'is_quote_status': False, 'retweet_count': 0, 'favorite_count': 2, 'favorited': False, 'retweeted': False, 'possibly_sensitive': False, 'lang': 'en'}, created_at=datetime.datetime(2021, 9, 25, 7, 30, 51), id=1441666494102859782, id_str='1441666494102859782', full_text='Reason behind RCB not winning IPL trophy yet https://t.co/B0hA8l6iIQ', truncated=False, display_text_range=[0, 44], entities={'hashtags': [], 'symbols': [], 'user_mentions': [], 'urls': [], 'media': [{'id': 1441666479108202498, 'id_str': '1441666479108202498', 'indices': [45, 68], 'media_url': 'http://pbs.twimg.com/media/FAHUBkPVIAI41hA.jpg', 'media_url_https': 'https://pbs.twimg.com/media/FAHUBkPVIAI41hA.jpg', 'url': 'https://t.co/B0hA8l6iIQ', 'display_url': 'pic.twitter.com/B0hA8l6iIQ', 'expanded_url': 'https://twitter.com/aye_its_ly/status/1441666494102859782/photo/1', 'type': 'photo', 'sizes': {'thumb': {'w': 150, 'h': 150, 'resize': 'crop'}, 'large': {'w': 1945, 'h': 2048, 'resize': 'fit'}, 'small': {'w': 646, 'h': 680, 'resize': 'fit'}, 'medium': {'w': 1140, 'h': 1200, 'resize': 'fit'}}}]}, extended_entities={'media': [{'id': 1441666479108202498, 'id_str': '1441666479108202498', 'indices': [45, 68], 'media_url': 'http://pbs.twimg.com/media/FAHUBkPVIAI41hA.jpg', 'media_url_https': 'https://pbs.twimg.com/media/FAHUBkPVIAI41hA.jpg', 'url': 'https://t.co/B0hA8l6iIQ', 'display_url': 'pic.twitter.com/B0hA8l6iIQ', 'expanded_url': 'https://twitter.com/aye_its_ly/status/1441666494102859782/photo/1', 'type': 'photo', 'sizes': {'thumb': {'w': 150, 'h': 150, 'resize': 'crop'}, 'large': {'w': 1945, 'h': 2048, 'resize': 'fit'}, 'small': {'w': 646, 'h': 680, 'resize': 'fit'}, 'medium': {'w': 1140, 'h': 1200, 'resize': 'fit'}}}]}, metadata={'iso_language_code': 'en', 'result_type': 'recent'}, source='Twitter for Android', source_url='http://twitter.com/download/android', in_reply_to_status_id=None, in_reply_to_status_id_str=None, in_reply_to_user_id=None, in_reply_to_user_id_str=None, in_reply_to_screen_name=None, author=User(_api=<tweepy.api.API object at 0x000001EA30D842B0>, _json={'id': 1427462282489995265, 'id_str': '1427462282489995265', 'name': 'ladki_baaz', 'screen_name': 'aye_its_ly', 'location': '', 'description': '19💫 || गुंतलेला श्वास हा सोडवू दे , थांब ना ... तोल माझा सावरू दे थांब ना :)\\n@_siddhesh_wagh :-O', 'url': None, 'entities': {'description': {'urls': []}}, 'protected': False, 'followers_count': 37, 'friends_count': 12, 'listed_count': 0, 'created_at': 'Tue Aug 17 02:48:47 +0000 2021', 'favourites_count': 326, 'utc_offset': None, 'time_zone': None, 'geo_enabled': False, 'verified': False, 'statuses_count': 261, 'lang': None, 'contributors_enabled': False, 'is_translator': False, 'is_translation_enabled': False, 'profile_background_color': 'F5F8FA', 'profile_background_image_url': None, 'profile_background_image_url_https': None, 'profile_background_tile': False, 'profile_image_url': 'http://pbs.twimg.com/profile_images/1441335098494709784/lZVfQOGE_normal.jpg', 'profile_image_url_https': 'https://pbs.twimg.com/profile_images/1441335098494709784/lZVfQOGE_normal.jpg', 'profile_banner_url': 'https://pbs.twimg.com/profile_banners/1427462282489995265/1632412095', 'profile_link_color': '1DA1F2', 'profile_sidebar_border_color': 'C0DEED', 'profile_sidebar_fill_color': 'DDEEF6', 'profile_text_color': '333333', 'profile_use_background_image': True, 'has_extended_profile': False, 'default_profile': True, 'default_profile_image': False, 'following': False, 'follow_request_sent': False, 'notifications': False, 'translator_type': 'none', 'withheld_in_countries': []}, id=1427462282489995265, id_str='1427462282489995265', name='ladki_baaz', screen_name='aye_its_ly', location='', description='19💫 || गुंतलेला श्वास हा सोडवू दे , थांब ना ... तोल माझा सावरू दे थांब ना :)\\n@_siddhesh_wagh :-O', url=None, entities={'description': {'urls': []}}, protected=False, followers_count=37, friends_count=12, listed_count=0, created_at=datetime.datetime(2021, 8, 17, 2, 48, 47), favourites_count=326, utc_offset=None, time_zone=None, geo_enabled=False, verified=False, statuses_count=261, lang=None, contributors_enabled=False, is_translator=False, is_translation_enabled=False, profile_background_color='F5F8FA', profile_background_image_url=None, profile_background_image_url_https=None, profile_background_tile=False, profile_image_url='http://pbs.twimg.com/profile_images/1441335098494709784/lZVfQOGE_normal.jpg', profile_image_url_https='https://pbs.twimg.com/profile_images/1441335098494709784/lZVfQOGE_normal.jpg', profile_banner_url='https://pbs.twimg.com/profile_banners/1427462282489995265/1632412095', profile_link_color='1DA1F2', profile_sidebar_border_color='C0DEED', profile_sidebar_fill_color='DDEEF6', profile_text_color='333333', profile_use_background_image=True, has_extended_profile=False, default_profile=True, default_profile_image=False, following=False, follow_request_sent=False, notifications=False, translator_type='none', withheld_in_countries=[]), user=User(_api=<tweepy.api.API object at 0x000001EA30D842B0>, _json={'id': 1427462282489995265, 'id_str': '1427462282489995265', 'name': 'ladki_baaz', 'screen_name': 'aye_its_ly', 'location': '', 'description': '19💫 || गुंतलेला श्वास हा सोडवू दे , थांब ना ... तोल माझा सावरू दे थांब ना :)\\n@_siddhesh_wagh :-O', 'url': None, 'entities': {'description': {'urls': []}}, 'protected': False, 'followers_count': 37, 'friends_count': 12, 'listed_count': 0, 'created_at': 'Tue Aug 17 02:48:47 +0000 2021', 'favourites_count': 326, 'utc_offset': None, 'time_zone': None, 'geo_enabled': False, 'verified': False, 'statuses_count': 261, 'lang': None, 'contributors_enabled': False, 'is_translator': False, 'is_translation_enabled': False, 'profile_background_color': 'F5F8FA', 'profile_background_image_url': None, 'profile_background_image_url_https': None, 'profile_background_tile': False, 'profile_image_url': 'http://pbs.twimg.com/profile_images/1441335098494709784/lZVfQOGE_normal.jpg', 'profile_image_url_https': 'https://pbs.twimg.com/profile_images/1441335098494709784/lZVfQOGE_normal.jpg', 'profile_banner_url': 'https://pbs.twimg.com/profile_banners/1427462282489995265/1632412095', 'profile_link_color': '1DA1F2', 'profile_sidebar_border_color': 'C0DEED', 'profile_sidebar_fill_color': 'DDEEF6', 'profile_text_color': '333333', 'profile_use_background_image': True, 'has_extended_profile': False, 'default_profile': True, 'default_profile_image': False, 'following': False, 'follow_request_sent': False, 'notifications': False, 'translator_type': 'none', 'withheld_in_countries': []}, id=1427462282489995265, id_str='1427462282489995265', name='ladki_baaz', screen_name='aye_its_ly', location='', description='19💫 || गुंतलेला श्वास हा सोडवू दे , थांब ना ... तोल माझा सावरू दे थांब ना :)\\n@_siddhesh_wagh :-O', url=None, entities={'description': {'urls': []}}, protected=False, followers_count=37, friends_count=12, listed_count=0, created_at=datetime.datetime(2021, 8, 17, 2, 48, 47), favourites_count=326, utc_offset=None, time_zone=None, geo_enabled=False, verified=False, statuses_count=261, lang=None, contributors_enabled=False, is_translator=False, is_translation_enabled=False, profile_background_color='F5F8FA', profile_background_image_url=None, profile_background_image_url_https=None, profile_background_tile=False, profile_image_url='http://pbs.twimg.com/profile_images/1441335098494709784/lZVfQOGE_normal.jpg', profile_image_url_https='https://pbs.twimg.com/profile_images/1441335098494709784/lZVfQOGE_normal.jpg', profile_banner_url='https://pbs.twimg.com/profile_banners/1427462282489995265/1632412095', profile_link_color='1DA1F2', profile_sidebar_border_color='C0DEED', profile_sidebar_fill_color='DDEEF6', profile_text_color='333333', profile_use_background_image=True, has_extended_profile=False, default_profile=True, default_profile_image=False, following=False, follow_request_sent=False, notifications=False, translator_type='none', withheld_in_countries=[]), geo=None, coordinates=None, place=None, contributors=None, is_quote_status=False, retweet_count=0, favorite_count=2, favorited=False, retweeted=False, possibly_sensitive=False, lang='en') \n",
      "\n",
      ".....................................\n",
      "\n",
      "Status(_api=<tweepy.api.API object at 0x000001EA30D842B0>, _json={'created_at': 'Sat Sep 25 07:25:10 +0000 2021', 'id': 1441665064122163204, 'id_str': '1441665064122163204', 'full_text': \"“Got to get on that winning run again. This one is a bit more disappointing. The first one we just weren't in the game. Have to show more courage in crunch moments,” @imVkohli said. \\n\\n#RCB #RCBvCSK #IPL2021 \\nhttps://t.co/XMaErDts0q\", 'truncated': False, 'display_text_range': [0, 231], 'entities': {'hashtags': [{'text': 'RCB', 'indices': [184, 188]}, {'text': 'RCBvCSK', 'indices': [189, 197]}, {'text': 'IPL2021', 'indices': [198, 206]}], 'symbols': [], 'user_mentions': [{'screen_name': 'imVkohli', 'name': 'Virat Kohli', 'id': 71201743, 'id_str': '71201743', 'indices': [166, 175]}], 'urls': [{'url': 'https://t.co/XMaErDts0q', 'expanded_url': 'https://circleofcricket.com/category/IPL/69504/ipl-2021-have-to-show-more-courage-in-crunch-moments-says-virat-kohli-after-consecutive-defeats', 'display_url': 'circleofcricket.com/category/IPL/6…', 'indices': [208, 231]}]}, 'metadata': {'iso_language_code': 'en', 'result_type': 'recent'}, 'source': '<a href=\"http://twitter.com/download/iphone\" rel=\"nofollow\">Twitter for iPhone</a>', 'in_reply_to_status_id': None, 'in_reply_to_status_id_str': None, 'in_reply_to_user_id': None, 'in_reply_to_user_id_str': None, 'in_reply_to_screen_name': None, 'user': {'id': 259843963, 'id_str': '259843963', 'name': 'Circle of Cricket', 'screen_name': 'circleofcricket', 'location': '', 'description': 'For all the latest cricket updates, follow us! For Advertisement queries - ishan@tsdcorp.co @beingishancric', 'url': 'https://t.co/EnHrTO0vj3', 'entities': {'url': {'urls': [{'url': 'https://t.co/EnHrTO0vj3', 'expanded_url': 'http://circleofcricket.com', 'display_url': 'circleofcricket.com', 'indices': [0, 23]}]}, 'description': {'urls': []}}, 'protected': False, 'followers_count': 142164, 'friends_count': 870, 'listed_count': 325, 'created_at': 'Wed Mar 02 18:21:08 +0000 2011', 'favourites_count': 353, 'utc_offset': None, 'time_zone': None, 'geo_enabled': True, 'verified': True, 'statuses_count': 88138, 'lang': None, 'contributors_enabled': False, 'is_translator': False, 'is_translation_enabled': False, 'profile_background_color': 'FFF04D', 'profile_background_image_url': 'http://abs.twimg.com/images/themes/theme14/bg.gif', 'profile_background_image_url_https': 'https://abs.twimg.com/images/themes/theme14/bg.gif', 'profile_background_tile': True, 'profile_image_url': 'http://pbs.twimg.com/profile_images/1428062104884502529/R3w_zxev_normal.jpg', 'profile_image_url_https': 'https://pbs.twimg.com/profile_images/1428062104884502529/R3w_zxev_normal.jpg', 'profile_banner_url': 'https://pbs.twimg.com/profile_banners/259843963/1631284759', 'profile_link_color': '0F29D4', 'profile_sidebar_border_color': 'FFFFFF', 'profile_sidebar_fill_color': 'F0C35B', 'profile_text_color': '333333', 'profile_use_background_image': True, 'has_extended_profile': False, 'default_profile': False, 'default_profile_image': False, 'following': False, 'follow_request_sent': False, 'notifications': False, 'translator_type': 'none', 'withheld_in_countries': []}, 'geo': None, 'coordinates': None, 'place': None, 'contributors': None, 'is_quote_status': False, 'retweet_count': 1, 'favorite_count': 11, 'favorited': False, 'retweeted': False, 'possibly_sensitive': False, 'lang': 'en'}, created_at=datetime.datetime(2021, 9, 25, 7, 25, 10), id=1441665064122163204, id_str='1441665064122163204', full_text=\"“Got to get on that winning run again. This one is a bit more disappointing. The first one we just weren't in the game. Have to show more courage in crunch moments,” @imVkohli said. \\n\\n#RCB #RCBvCSK #IPL2021 \\nhttps://t.co/XMaErDts0q\", truncated=False, display_text_range=[0, 231], entities={'hashtags': [{'text': 'RCB', 'indices': [184, 188]}, {'text': 'RCBvCSK', 'indices': [189, 197]}, {'text': 'IPL2021', 'indices': [198, 206]}], 'symbols': [], 'user_mentions': [{'screen_name': 'imVkohli', 'name': 'Virat Kohli', 'id': 71201743, 'id_str': '71201743', 'indices': [166, 175]}], 'urls': [{'url': 'https://t.co/XMaErDts0q', 'expanded_url': 'https://circleofcricket.com/category/IPL/69504/ipl-2021-have-to-show-more-courage-in-crunch-moments-says-virat-kohli-after-consecutive-defeats', 'display_url': 'circleofcricket.com/category/IPL/6…', 'indices': [208, 231]}]}, metadata={'iso_language_code': 'en', 'result_type': 'recent'}, source='Twitter for iPhone', source_url='http://twitter.com/download/iphone', in_reply_to_status_id=None, in_reply_to_status_id_str=None, in_reply_to_user_id=None, in_reply_to_user_id_str=None, in_reply_to_screen_name=None, author=User(_api=<tweepy.api.API object at 0x000001EA30D842B0>, _json={'id': 259843963, 'id_str': '259843963', 'name': 'Circle of Cricket', 'screen_name': 'circleofcricket', 'location': '', 'description': 'For all the latest cricket updates, follow us! For Advertisement queries - ishan@tsdcorp.co @beingishancric', 'url': 'https://t.co/EnHrTO0vj3', 'entities': {'url': {'urls': [{'url': 'https://t.co/EnHrTO0vj3', 'expanded_url': 'http://circleofcricket.com', 'display_url': 'circleofcricket.com', 'indices': [0, 23]}]}, 'description': {'urls': []}}, 'protected': False, 'followers_count': 142164, 'friends_count': 870, 'listed_count': 325, 'created_at': 'Wed Mar 02 18:21:08 +0000 2011', 'favourites_count': 353, 'utc_offset': None, 'time_zone': None, 'geo_enabled': True, 'verified': True, 'statuses_count': 88138, 'lang': None, 'contributors_enabled': False, 'is_translator': False, 'is_translation_enabled': False, 'profile_background_color': 'FFF04D', 'profile_background_image_url': 'http://abs.twimg.com/images/themes/theme14/bg.gif', 'profile_background_image_url_https': 'https://abs.twimg.com/images/themes/theme14/bg.gif', 'profile_background_tile': True, 'profile_image_url': 'http://pbs.twimg.com/profile_images/1428062104884502529/R3w_zxev_normal.jpg', 'profile_image_url_https': 'https://pbs.twimg.com/profile_images/1428062104884502529/R3w_zxev_normal.jpg', 'profile_banner_url': 'https://pbs.twimg.com/profile_banners/259843963/1631284759', 'profile_link_color': '0F29D4', 'profile_sidebar_border_color': 'FFFFFF', 'profile_sidebar_fill_color': 'F0C35B', 'profile_text_color': '333333', 'profile_use_background_image': True, 'has_extended_profile': False, 'default_profile': False, 'default_profile_image': False, 'following': False, 'follow_request_sent': False, 'notifications': False, 'translator_type': 'none', 'withheld_in_countries': []}, id=259843963, id_str='259843963', name='Circle of Cricket', screen_name='circleofcricket', location='', description='For all the latest cricket updates, follow us! For Advertisement queries - ishan@tsdcorp.co @beingishancric', url='https://t.co/EnHrTO0vj3', entities={'url': {'urls': [{'url': 'https://t.co/EnHrTO0vj3', 'expanded_url': 'http://circleofcricket.com', 'display_url': 'circleofcricket.com', 'indices': [0, 23]}]}, 'description': {'urls': []}}, protected=False, followers_count=142164, friends_count=870, listed_count=325, created_at=datetime.datetime(2011, 3, 2, 18, 21, 8), favourites_count=353, utc_offset=None, time_zone=None, geo_enabled=True, verified=True, statuses_count=88138, lang=None, contributors_enabled=False, is_translator=False, is_translation_enabled=False, profile_background_color='FFF04D', profile_background_image_url='http://abs.twimg.com/images/themes/theme14/bg.gif', profile_background_image_url_https='https://abs.twimg.com/images/themes/theme14/bg.gif', profile_background_tile=True, profile_image_url='http://pbs.twimg.com/profile_images/1428062104884502529/R3w_zxev_normal.jpg', profile_image_url_https='https://pbs.twimg.com/profile_images/1428062104884502529/R3w_zxev_normal.jpg', profile_banner_url='https://pbs.twimg.com/profile_banners/259843963/1631284759', profile_link_color='0F29D4', profile_sidebar_border_color='FFFFFF', profile_sidebar_fill_color='F0C35B', profile_text_color='333333', profile_use_background_image=True, has_extended_profile=False, default_profile=False, default_profile_image=False, following=False, follow_request_sent=False, notifications=False, translator_type='none', withheld_in_countries=[]), user=User(_api=<tweepy.api.API object at 0x000001EA30D842B0>, _json={'id': 259843963, 'id_str': '259843963', 'name': 'Circle of Cricket', 'screen_name': 'circleofcricket', 'location': '', 'description': 'For all the latest cricket updates, follow us! For Advertisement queries - ishan@tsdcorp.co @beingishancric', 'url': 'https://t.co/EnHrTO0vj3', 'entities': {'url': {'urls': [{'url': 'https://t.co/EnHrTO0vj3', 'expanded_url': 'http://circleofcricket.com', 'display_url': 'circleofcricket.com', 'indices': [0, 23]}]}, 'description': {'urls': []}}, 'protected': False, 'followers_count': 142164, 'friends_count': 870, 'listed_count': 325, 'created_at': 'Wed Mar 02 18:21:08 +0000 2011', 'favourites_count': 353, 'utc_offset': None, 'time_zone': None, 'geo_enabled': True, 'verified': True, 'statuses_count': 88138, 'lang': None, 'contributors_enabled': False, 'is_translator': False, 'is_translation_enabled': False, 'profile_background_color': 'FFF04D', 'profile_background_image_url': 'http://abs.twimg.com/images/themes/theme14/bg.gif', 'profile_background_image_url_https': 'https://abs.twimg.com/images/themes/theme14/bg.gif', 'profile_background_tile': True, 'profile_image_url': 'http://pbs.twimg.com/profile_images/1428062104884502529/R3w_zxev_normal.jpg', 'profile_image_url_https': 'https://pbs.twimg.com/profile_images/1428062104884502529/R3w_zxev_normal.jpg', 'profile_banner_url': 'https://pbs.twimg.com/profile_banners/259843963/1631284759', 'profile_link_color': '0F29D4', 'profile_sidebar_border_color': 'FFFFFF', 'profile_sidebar_fill_color': 'F0C35B', 'profile_text_color': '333333', 'profile_use_background_image': True, 'has_extended_profile': False, 'default_profile': False, 'default_profile_image': False, 'following': False, 'follow_request_sent': False, 'notifications': False, 'translator_type': 'none', 'withheld_in_countries': []}, id=259843963, id_str='259843963', name='Circle of Cricket', screen_name='circleofcricket', location='', description='For all the latest cricket updates, follow us! For Advertisement queries - ishan@tsdcorp.co @beingishancric', url='https://t.co/EnHrTO0vj3', entities={'url': {'urls': [{'url': 'https://t.co/EnHrTO0vj3', 'expanded_url': 'http://circleofcricket.com', 'display_url': 'circleofcricket.com', 'indices': [0, 23]}]}, 'description': {'urls': []}}, protected=False, followers_count=142164, friends_count=870, listed_count=325, created_at=datetime.datetime(2011, 3, 2, 18, 21, 8), favourites_count=353, utc_offset=None, time_zone=None, geo_enabled=True, verified=True, statuses_count=88138, lang=None, contributors_enabled=False, is_translator=False, is_translation_enabled=False, profile_background_color='FFF04D', profile_background_image_url='http://abs.twimg.com/images/themes/theme14/bg.gif', profile_background_image_url_https='https://abs.twimg.com/images/themes/theme14/bg.gif', profile_background_tile=True, profile_image_url='http://pbs.twimg.com/profile_images/1428062104884502529/R3w_zxev_normal.jpg', profile_image_url_https='https://pbs.twimg.com/profile_images/1428062104884502529/R3w_zxev_normal.jpg', profile_banner_url='https://pbs.twimg.com/profile_banners/259843963/1631284759', profile_link_color='0F29D4', profile_sidebar_border_color='FFFFFF', profile_sidebar_fill_color='F0C35B', profile_text_color='333333', profile_use_background_image=True, has_extended_profile=False, default_profile=False, default_profile_image=False, following=False, follow_request_sent=False, notifications=False, translator_type='none', withheld_in_countries=[]), geo=None, coordinates=None, place=None, contributors=None, is_quote_status=False, retweet_count=1, favorite_count=11, favorited=False, retweeted=False, possibly_sensitive=False, lang='en') \n",
      "\n",
      ".....................................\n",
      "\n",
      "Status(_api=<tweepy.api.API object at 0x000001EA30D842B0>, _json={'created_at': 'Sat Sep 25 06:18:25 +0000 2021', 'id': 1441648266303586304, 'id_str': '1441648266303586304', 'full_text': 'IPL Teams winning %\\nCSK is in top with 60.48 Percent winning in the IPL. MI has 59.04 % winning. SRH is at NO. 3 with winning Percent of 51.9, KKR has 51.25 winning %. RR has a winning % of 50.3, RCB has 47.98 winning %. DC is on 7 with 45.50 winning %; PBKS is on 8 with 47.75 %. https://t.co/fd85fSceBQ', 'truncated': False, 'display_text_range': [0, 280], 'entities': {'hashtags': [], 'symbols': [], 'user_mentions': [], 'urls': [], 'media': [{'id': 1441648232132534277, 'id_str': '1441648232132534277', 'indices': [281, 304], 'media_url': 'http://pbs.twimg.com/media/FAHDbc9UYAUswr5.jpg', 'media_url_https': 'https://pbs.twimg.com/media/FAHDbc9UYAUswr5.jpg', 'url': 'https://t.co/fd85fSceBQ', 'display_url': 'pic.twitter.com/fd85fSceBQ', 'expanded_url': 'https://twitter.com/sportsmatik/status/1441648266303586304/photo/1', 'type': 'photo', 'sizes': {'medium': {'w': 1080, 'h': 1080, 'resize': 'fit'}, 'thumb': {'w': 150, 'h': 150, 'resize': 'crop'}, 'large': {'w': 1080, 'h': 1080, 'resize': 'fit'}, 'small': {'w': 680, 'h': 680, 'resize': 'fit'}}}]}, 'extended_entities': {'media': [{'id': 1441648232132534277, 'id_str': '1441648232132534277', 'indices': [281, 304], 'media_url': 'http://pbs.twimg.com/media/FAHDbc9UYAUswr5.jpg', 'media_url_https': 'https://pbs.twimg.com/media/FAHDbc9UYAUswr5.jpg', 'url': 'https://t.co/fd85fSceBQ', 'display_url': 'pic.twitter.com/fd85fSceBQ', 'expanded_url': 'https://twitter.com/sportsmatik/status/1441648266303586304/photo/1', 'type': 'photo', 'sizes': {'medium': {'w': 1080, 'h': 1080, 'resize': 'fit'}, 'thumb': {'w': 150, 'h': 150, 'resize': 'crop'}, 'large': {'w': 1080, 'h': 1080, 'resize': 'fit'}, 'small': {'w': 680, 'h': 680, 'resize': 'fit'}}}]}, 'metadata': {'iso_language_code': 'en', 'result_type': 'recent'}, 'source': '<a href=\"https://mobile.twitter.com\" rel=\"nofollow\">Twitter Web App</a>', 'in_reply_to_status_id': None, 'in_reply_to_status_id_str': None, 'in_reply_to_user_id': None, 'in_reply_to_user_id_str': None, 'in_reply_to_screen_name': None, 'user': {'id': 891636633841180672, 'id_str': '891636633841180672', 'name': 'Sportsmatik', 'screen_name': 'sportsmatik', 'location': 'India', 'description': 'https://t.co/6aQnuQw8dU is a digital solution for SPORTS where users sign-up for free to connect with other sports entities by sharing profiles and game statistics', 'url': 'https://t.co/HoobVHnckO', 'entities': {'url': {'urls': [{'url': 'https://t.co/HoobVHnckO', 'expanded_url': 'https://www.sportsmatik.com', 'display_url': 'sportsmatik.com', 'indices': [0, 23]}]}, 'description': {'urls': [{'url': 'https://t.co/6aQnuQw8dU', 'expanded_url': 'http://Sportsmatik.com', 'display_url': 'Sportsmatik.com', 'indices': [0, 23]}]}}, 'protected': False, 'followers_count': 15103, 'friends_count': 759, 'listed_count': 9, 'created_at': 'Sun Jul 30 12:28:34 +0000 2017', 'favourites_count': 3598, 'utc_offset': None, 'time_zone': None, 'geo_enabled': False, 'verified': False, 'statuses_count': 4806, 'lang': None, 'contributors_enabled': False, 'is_translator': False, 'is_translation_enabled': False, 'profile_background_color': 'F5F8FA', 'profile_background_image_url': None, 'profile_background_image_url_https': None, 'profile_background_tile': False, 'profile_image_url': 'http://pbs.twimg.com/profile_images/1374225234400743425/HrA7_biH_normal.jpg', 'profile_image_url_https': 'https://pbs.twimg.com/profile_images/1374225234400743425/HrA7_biH_normal.jpg', 'profile_banner_url': 'https://pbs.twimg.com/profile_banners/891636633841180672/1631595812', 'profile_link_color': '1DA1F2', 'profile_sidebar_border_color': 'C0DEED', 'profile_sidebar_fill_color': 'DDEEF6', 'profile_text_color': '333333', 'profile_use_background_image': True, 'has_extended_profile': True, 'default_profile': True, 'default_profile_image': False, 'following': False, 'follow_request_sent': False, 'notifications': False, 'translator_type': 'none', 'withheld_in_countries': []}, 'geo': None, 'coordinates': None, 'place': None, 'contributors': None, 'is_quote_status': False, 'retweet_count': 0, 'favorite_count': 2, 'favorited': False, 'retweeted': False, 'possibly_sensitive': False, 'lang': 'en'}, created_at=datetime.datetime(2021, 9, 25, 6, 18, 25), id=1441648266303586304, id_str='1441648266303586304', full_text='IPL Teams winning %\\nCSK is in top with 60.48 Percent winning in the IPL. MI has 59.04 % winning. SRH is at NO. 3 with winning Percent of 51.9, KKR has 51.25 winning %. RR has a winning % of 50.3, RCB has 47.98 winning %. DC is on 7 with 45.50 winning %; PBKS is on 8 with 47.75 %. https://t.co/fd85fSceBQ', truncated=False, display_text_range=[0, 280], entities={'hashtags': [], 'symbols': [], 'user_mentions': [], 'urls': [], 'media': [{'id': 1441648232132534277, 'id_str': '1441648232132534277', 'indices': [281, 304], 'media_url': 'http://pbs.twimg.com/media/FAHDbc9UYAUswr5.jpg', 'media_url_https': 'https://pbs.twimg.com/media/FAHDbc9UYAUswr5.jpg', 'url': 'https://t.co/fd85fSceBQ', 'display_url': 'pic.twitter.com/fd85fSceBQ', 'expanded_url': 'https://twitter.com/sportsmatik/status/1441648266303586304/photo/1', 'type': 'photo', 'sizes': {'medium': {'w': 1080, 'h': 1080, 'resize': 'fit'}, 'thumb': {'w': 150, 'h': 150, 'resize': 'crop'}, 'large': {'w': 1080, 'h': 1080, 'resize': 'fit'}, 'small': {'w': 680, 'h': 680, 'resize': 'fit'}}}]}, extended_entities={'media': [{'id': 1441648232132534277, 'id_str': '1441648232132534277', 'indices': [281, 304], 'media_url': 'http://pbs.twimg.com/media/FAHDbc9UYAUswr5.jpg', 'media_url_https': 'https://pbs.twimg.com/media/FAHDbc9UYAUswr5.jpg', 'url': 'https://t.co/fd85fSceBQ', 'display_url': 'pic.twitter.com/fd85fSceBQ', 'expanded_url': 'https://twitter.com/sportsmatik/status/1441648266303586304/photo/1', 'type': 'photo', 'sizes': {'medium': {'w': 1080, 'h': 1080, 'resize': 'fit'}, 'thumb': {'w': 150, 'h': 150, 'resize': 'crop'}, 'large': {'w': 1080, 'h': 1080, 'resize': 'fit'}, 'small': {'w': 680, 'h': 680, 'resize': 'fit'}}}]}, metadata={'iso_language_code': 'en', 'result_type': 'recent'}, source='Twitter Web App', source_url='https://mobile.twitter.com', in_reply_to_status_id=None, in_reply_to_status_id_str=None, in_reply_to_user_id=None, in_reply_to_user_id_str=None, in_reply_to_screen_name=None, author=User(_api=<tweepy.api.API object at 0x000001EA30D842B0>, _json={'id': 891636633841180672, 'id_str': '891636633841180672', 'name': 'Sportsmatik', 'screen_name': 'sportsmatik', 'location': 'India', 'description': 'https://t.co/6aQnuQw8dU is a digital solution for SPORTS where users sign-up for free to connect with other sports entities by sharing profiles and game statistics', 'url': 'https://t.co/HoobVHnckO', 'entities': {'url': {'urls': [{'url': 'https://t.co/HoobVHnckO', 'expanded_url': 'https://www.sportsmatik.com', 'display_url': 'sportsmatik.com', 'indices': [0, 23]}]}, 'description': {'urls': [{'url': 'https://t.co/6aQnuQw8dU', 'expanded_url': 'http://Sportsmatik.com', 'display_url': 'Sportsmatik.com', 'indices': [0, 23]}]}}, 'protected': False, 'followers_count': 15103, 'friends_count': 759, 'listed_count': 9, 'created_at': 'Sun Jul 30 12:28:34 +0000 2017', 'favourites_count': 3598, 'utc_offset': None, 'time_zone': None, 'geo_enabled': False, 'verified': False, 'statuses_count': 4806, 'lang': None, 'contributors_enabled': False, 'is_translator': False, 'is_translation_enabled': False, 'profile_background_color': 'F5F8FA', 'profile_background_image_url': None, 'profile_background_image_url_https': None, 'profile_background_tile': False, 'profile_image_url': 'http://pbs.twimg.com/profile_images/1374225234400743425/HrA7_biH_normal.jpg', 'profile_image_url_https': 'https://pbs.twimg.com/profile_images/1374225234400743425/HrA7_biH_normal.jpg', 'profile_banner_url': 'https://pbs.twimg.com/profile_banners/891636633841180672/1631595812', 'profile_link_color': '1DA1F2', 'profile_sidebar_border_color': 'C0DEED', 'profile_sidebar_fill_color': 'DDEEF6', 'profile_text_color': '333333', 'profile_use_background_image': True, 'has_extended_profile': True, 'default_profile': True, 'default_profile_image': False, 'following': False, 'follow_request_sent': False, 'notifications': False, 'translator_type': 'none', 'withheld_in_countries': []}, id=891636633841180672, id_str='891636633841180672', name='Sportsmatik', screen_name='sportsmatik', location='India', description='https://t.co/6aQnuQw8dU is a digital solution for SPORTS where users sign-up for free to connect with other sports entities by sharing profiles and game statistics', url='https://t.co/HoobVHnckO', entities={'url': {'urls': [{'url': 'https://t.co/HoobVHnckO', 'expanded_url': 'https://www.sportsmatik.com', 'display_url': 'sportsmatik.com', 'indices': [0, 23]}]}, 'description': {'urls': [{'url': 'https://t.co/6aQnuQw8dU', 'expanded_url': 'http://Sportsmatik.com', 'display_url': 'Sportsmatik.com', 'indices': [0, 23]}]}}, protected=False, followers_count=15103, friends_count=759, listed_count=9, created_at=datetime.datetime(2017, 7, 30, 12, 28, 34), favourites_count=3598, utc_offset=None, time_zone=None, geo_enabled=False, verified=False, statuses_count=4806, lang=None, contributors_enabled=False, is_translator=False, is_translation_enabled=False, profile_background_color='F5F8FA', profile_background_image_url=None, profile_background_image_url_https=None, profile_background_tile=False, profile_image_url='http://pbs.twimg.com/profile_images/1374225234400743425/HrA7_biH_normal.jpg', profile_image_url_https='https://pbs.twimg.com/profile_images/1374225234400743425/HrA7_biH_normal.jpg', profile_banner_url='https://pbs.twimg.com/profile_banners/891636633841180672/1631595812', profile_link_color='1DA1F2', profile_sidebar_border_color='C0DEED', profile_sidebar_fill_color='DDEEF6', profile_text_color='333333', profile_use_background_image=True, has_extended_profile=True, default_profile=True, default_profile_image=False, following=False, follow_request_sent=False, notifications=False, translator_type='none', withheld_in_countries=[]), user=User(_api=<tweepy.api.API object at 0x000001EA30D842B0>, _json={'id': 891636633841180672, 'id_str': '891636633841180672', 'name': 'Sportsmatik', 'screen_name': 'sportsmatik', 'location': 'India', 'description': 'https://t.co/6aQnuQw8dU is a digital solution for SPORTS where users sign-up for free to connect with other sports entities by sharing profiles and game statistics', 'url': 'https://t.co/HoobVHnckO', 'entities': {'url': {'urls': [{'url': 'https://t.co/HoobVHnckO', 'expanded_url': 'https://www.sportsmatik.com', 'display_url': 'sportsmatik.com', 'indices': [0, 23]}]}, 'description': {'urls': [{'url': 'https://t.co/6aQnuQw8dU', 'expanded_url': 'http://Sportsmatik.com', 'display_url': 'Sportsmatik.com', 'indices': [0, 23]}]}}, 'protected': False, 'followers_count': 15103, 'friends_count': 759, 'listed_count': 9, 'created_at': 'Sun Jul 30 12:28:34 +0000 2017', 'favourites_count': 3598, 'utc_offset': None, 'time_zone': None, 'geo_enabled': False, 'verified': False, 'statuses_count': 4806, 'lang': None, 'contributors_enabled': False, 'is_translator': False, 'is_translation_enabled': False, 'profile_background_color': 'F5F8FA', 'profile_background_image_url': None, 'profile_background_image_url_https': None, 'profile_background_tile': False, 'profile_image_url': 'http://pbs.twimg.com/profile_images/1374225234400743425/HrA7_biH_normal.jpg', 'profile_image_url_https': 'https://pbs.twimg.com/profile_images/1374225234400743425/HrA7_biH_normal.jpg', 'profile_banner_url': 'https://pbs.twimg.com/profile_banners/891636633841180672/1631595812', 'profile_link_color': '1DA1F2', 'profile_sidebar_border_color': 'C0DEED', 'profile_sidebar_fill_color': 'DDEEF6', 'profile_text_color': '333333', 'profile_use_background_image': True, 'has_extended_profile': True, 'default_profile': True, 'default_profile_image': False, 'following': False, 'follow_request_sent': False, 'notifications': False, 'translator_type': 'none', 'withheld_in_countries': []}, id=891636633841180672, id_str='891636633841180672', name='Sportsmatik', screen_name='sportsmatik', location='India', description='https://t.co/6aQnuQw8dU is a digital solution for SPORTS where users sign-up for free to connect with other sports entities by sharing profiles and game statistics', url='https://t.co/HoobVHnckO', entities={'url': {'urls': [{'url': 'https://t.co/HoobVHnckO', 'expanded_url': 'https://www.sportsmatik.com', 'display_url': 'sportsmatik.com', 'indices': [0, 23]}]}, 'description': {'urls': [{'url': 'https://t.co/6aQnuQw8dU', 'expanded_url': 'http://Sportsmatik.com', 'display_url': 'Sportsmatik.com', 'indices': [0, 23]}]}}, protected=False, followers_count=15103, friends_count=759, listed_count=9, created_at=datetime.datetime(2017, 7, 30, 12, 28, 34), favourites_count=3598, utc_offset=None, time_zone=None, geo_enabled=False, verified=False, statuses_count=4806, lang=None, contributors_enabled=False, is_translator=False, is_translation_enabled=False, profile_background_color='F5F8FA', profile_background_image_url=None, profile_background_image_url_https=None, profile_background_tile=False, profile_image_url='http://pbs.twimg.com/profile_images/1374225234400743425/HrA7_biH_normal.jpg', profile_image_url_https='https://pbs.twimg.com/profile_images/1374225234400743425/HrA7_biH_normal.jpg', profile_banner_url='https://pbs.twimg.com/profile_banners/891636633841180672/1631595812', profile_link_color='1DA1F2', profile_sidebar_border_color='C0DEED', profile_sidebar_fill_color='DDEEF6', profile_text_color='333333', profile_use_background_image=True, has_extended_profile=True, default_profile=True, default_profile_image=False, following=False, follow_request_sent=False, notifications=False, translator_type='none', withheld_in_countries=[]), geo=None, coordinates=None, place=None, contributors=None, is_quote_status=False, retweet_count=0, favorite_count=2, favorited=False, retweeted=False, possibly_sensitive=False, lang='en') \n",
      "\n",
      ".....................................\n",
      "\n",
      "Status(_api=<tweepy.api.API object at 0x000001EA30D842B0>, _json={'created_at': 'Sat Sep 25 04:09:00 +0000 2021', 'id': 1441615694743883776, 'id_str': '1441615694743883776', 'full_text': \"#RCB has been a trailtail.\\n\\nSimilar to #IPL2020, winning is becoming difficult towards the end of the season\\n\\n#RCBvCSK #CSKvRCB #IPL2021 #CricketBloggers\\n\\nHere's more about it:\\nhttps://t.co/fpUbZaxz57\", 'truncated': False, 'display_text_range': [0, 200], 'entities': {'hashtags': [{'text': 'RCB', 'indices': [0, 4]}, {'text': 'IPL2020', 'indices': [39, 47]}, {'text': 'RCBvCSK', 'indices': [110, 118]}, {'text': 'CSKvRCB', 'indices': [119, 127]}, {'text': 'IPL2021', 'indices': [128, 136]}, {'text': 'CricketBloggers', 'indices': [137, 153]}], 'symbols': [], 'user_mentions': [], 'urls': [{'url': 'https://t.co/fpUbZaxz57', 'expanded_url': 'https://www.cricketbloggers.com/trailtail-rcb-at-ipl-2020/', 'display_url': 'cricketbloggers.com/trailtail-rcb-…', 'indices': [177, 200]}]}, 'metadata': {'iso_language_code': 'en', 'result_type': 'recent'}, 'source': '<a href=\"https://mobile.twitter.com\" rel=\"nofollow\">Twitter Web App</a>', 'in_reply_to_status_id': None, 'in_reply_to_status_id_str': None, 'in_reply_to_user_id': None, 'in_reply_to_user_id_str': None, 'in_reply_to_screen_name': None, 'user': {'id': 3237865782, 'id_str': '3237865782', 'name': 'Cricket Bloggers', 'screen_name': 'CricBloggers', 'location': 'Cricket', 'description': 'Team #CricketBloggers|Tweets/RTs own thoughts | Visit cricketbloggers.com-ProgressiveWebApp🏏DM for collab/blogging @ CricketBloggers|https://t.co/yMPZnHBWsi', 'url': 'https://t.co/qPYT0CJ3rG', 'entities': {'url': {'urls': [{'url': 'https://t.co/qPYT0CJ3rG', 'expanded_url': 'https://www.cricketbloggers.com', 'display_url': 'cricketbloggers.com', 'indices': [0, 23]}]}, 'description': {'urls': [{'url': 'https://t.co/yMPZnHBWsi', 'expanded_url': 'http://instagram.com/cricbloggers', 'display_url': 'instagram.com/cricbloggers', 'indices': [133, 156]}]}}, 'protected': False, 'followers_count': 415, 'friends_count': 195, 'listed_count': 10, 'created_at': 'Sat Jun 06 13:37:15 +0000 2015', 'favourites_count': 8111, 'utc_offset': None, 'time_zone': None, 'geo_enabled': False, 'verified': False, 'statuses_count': 12755, 'lang': None, 'contributors_enabled': False, 'is_translator': False, 'is_translation_enabled': False, 'profile_background_color': 'C0DEED', 'profile_background_image_url': 'http://abs.twimg.com/images/themes/theme1/bg.png', 'profile_background_image_url_https': 'https://abs.twimg.com/images/themes/theme1/bg.png', 'profile_background_tile': False, 'profile_image_url': 'http://pbs.twimg.com/profile_images/1223621752514727936/XECCpYyY_normal.jpg', 'profile_image_url_https': 'https://pbs.twimg.com/profile_images/1223621752514727936/XECCpYyY_normal.jpg', 'profile_banner_url': 'https://pbs.twimg.com/profile_banners/3237865782/1557078487', 'profile_link_color': '1DA1F2', 'profile_sidebar_border_color': 'C0DEED', 'profile_sidebar_fill_color': 'DDEEF6', 'profile_text_color': '333333', 'profile_use_background_image': True, 'has_extended_profile': False, 'default_profile': True, 'default_profile_image': False, 'following': False, 'follow_request_sent': False, 'notifications': False, 'translator_type': 'none', 'withheld_in_countries': []}, 'geo': None, 'coordinates': None, 'place': None, 'contributors': None, 'is_quote_status': False, 'retweet_count': 1, 'favorite_count': 2, 'favorited': False, 'retweeted': False, 'possibly_sensitive': False, 'lang': 'en'}, created_at=datetime.datetime(2021, 9, 25, 4, 9), id=1441615694743883776, id_str='1441615694743883776', full_text=\"#RCB has been a trailtail.\\n\\nSimilar to #IPL2020, winning is becoming difficult towards the end of the season\\n\\n#RCBvCSK #CSKvRCB #IPL2021 #CricketBloggers\\n\\nHere's more about it:\\nhttps://t.co/fpUbZaxz57\", truncated=False, display_text_range=[0, 200], entities={'hashtags': [{'text': 'RCB', 'indices': [0, 4]}, {'text': 'IPL2020', 'indices': [39, 47]}, {'text': 'RCBvCSK', 'indices': [110, 118]}, {'text': 'CSKvRCB', 'indices': [119, 127]}, {'text': 'IPL2021', 'indices': [128, 136]}, {'text': 'CricketBloggers', 'indices': [137, 153]}], 'symbols': [], 'user_mentions': [], 'urls': [{'url': 'https://t.co/fpUbZaxz57', 'expanded_url': 'https://www.cricketbloggers.com/trailtail-rcb-at-ipl-2020/', 'display_url': 'cricketbloggers.com/trailtail-rcb-…', 'indices': [177, 200]}]}, metadata={'iso_language_code': 'en', 'result_type': 'recent'}, source='Twitter Web App', source_url='https://mobile.twitter.com', in_reply_to_status_id=None, in_reply_to_status_id_str=None, in_reply_to_user_id=None, in_reply_to_user_id_str=None, in_reply_to_screen_name=None, author=User(_api=<tweepy.api.API object at 0x000001EA30D842B0>, _json={'id': 3237865782, 'id_str': '3237865782', 'name': 'Cricket Bloggers', 'screen_name': 'CricBloggers', 'location': 'Cricket', 'description': 'Team #CricketBloggers|Tweets/RTs own thoughts | Visit cricketbloggers.com-ProgressiveWebApp🏏DM for collab/blogging @ CricketBloggers|https://t.co/yMPZnHBWsi', 'url': 'https://t.co/qPYT0CJ3rG', 'entities': {'url': {'urls': [{'url': 'https://t.co/qPYT0CJ3rG', 'expanded_url': 'https://www.cricketbloggers.com', 'display_url': 'cricketbloggers.com', 'indices': [0, 23]}]}, 'description': {'urls': [{'url': 'https://t.co/yMPZnHBWsi', 'expanded_url': 'http://instagram.com/cricbloggers', 'display_url': 'instagram.com/cricbloggers', 'indices': [133, 156]}]}}, 'protected': False, 'followers_count': 415, 'friends_count': 195, 'listed_count': 10, 'created_at': 'Sat Jun 06 13:37:15 +0000 2015', 'favourites_count': 8111, 'utc_offset': None, 'time_zone': None, 'geo_enabled': False, 'verified': False, 'statuses_count': 12755, 'lang': None, 'contributors_enabled': False, 'is_translator': False, 'is_translation_enabled': False, 'profile_background_color': 'C0DEED', 'profile_background_image_url': 'http://abs.twimg.com/images/themes/theme1/bg.png', 'profile_background_image_url_https': 'https://abs.twimg.com/images/themes/theme1/bg.png', 'profile_background_tile': False, 'profile_image_url': 'http://pbs.twimg.com/profile_images/1223621752514727936/XECCpYyY_normal.jpg', 'profile_image_url_https': 'https://pbs.twimg.com/profile_images/1223621752514727936/XECCpYyY_normal.jpg', 'profile_banner_url': 'https://pbs.twimg.com/profile_banners/3237865782/1557078487', 'profile_link_color': '1DA1F2', 'profile_sidebar_border_color': 'C0DEED', 'profile_sidebar_fill_color': 'DDEEF6', 'profile_text_color': '333333', 'profile_use_background_image': True, 'has_extended_profile': False, 'default_profile': True, 'default_profile_image': False, 'following': False, 'follow_request_sent': False, 'notifications': False, 'translator_type': 'none', 'withheld_in_countries': []}, id=3237865782, id_str='3237865782', name='Cricket Bloggers', screen_name='CricBloggers', location='Cricket', description='Team #CricketBloggers|Tweets/RTs own thoughts | Visit cricketbloggers.com-ProgressiveWebApp🏏DM for collab/blogging @ CricketBloggers|https://t.co/yMPZnHBWsi', url='https://t.co/qPYT0CJ3rG', entities={'url': {'urls': [{'url': 'https://t.co/qPYT0CJ3rG', 'expanded_url': 'https://www.cricketbloggers.com', 'display_url': 'cricketbloggers.com', 'indices': [0, 23]}]}, 'description': {'urls': [{'url': 'https://t.co/yMPZnHBWsi', 'expanded_url': 'http://instagram.com/cricbloggers', 'display_url': 'instagram.com/cricbloggers', 'indices': [133, 156]}]}}, protected=False, followers_count=415, friends_count=195, listed_count=10, created_at=datetime.datetime(2015, 6, 6, 13, 37, 15), favourites_count=8111, utc_offset=None, time_zone=None, geo_enabled=False, verified=False, statuses_count=12755, lang=None, contributors_enabled=False, is_translator=False, is_translation_enabled=False, profile_background_color='C0DEED', profile_background_image_url='http://abs.twimg.com/images/themes/theme1/bg.png', profile_background_image_url_https='https://abs.twimg.com/images/themes/theme1/bg.png', profile_background_tile=False, profile_image_url='http://pbs.twimg.com/profile_images/1223621752514727936/XECCpYyY_normal.jpg', profile_image_url_https='https://pbs.twimg.com/profile_images/1223621752514727936/XECCpYyY_normal.jpg', profile_banner_url='https://pbs.twimg.com/profile_banners/3237865782/1557078487', profile_link_color='1DA1F2', profile_sidebar_border_color='C0DEED', profile_sidebar_fill_color='DDEEF6', profile_text_color='333333', profile_use_background_image=True, has_extended_profile=False, default_profile=True, default_profile_image=False, following=False, follow_request_sent=False, notifications=False, translator_type='none', withheld_in_countries=[]), user=User(_api=<tweepy.api.API object at 0x000001EA30D842B0>, _json={'id': 3237865782, 'id_str': '3237865782', 'name': 'Cricket Bloggers', 'screen_name': 'CricBloggers', 'location': 'Cricket', 'description': 'Team #CricketBloggers|Tweets/RTs own thoughts | Visit cricketbloggers.com-ProgressiveWebApp🏏DM for collab/blogging @ CricketBloggers|https://t.co/yMPZnHBWsi', 'url': 'https://t.co/qPYT0CJ3rG', 'entities': {'url': {'urls': [{'url': 'https://t.co/qPYT0CJ3rG', 'expanded_url': 'https://www.cricketbloggers.com', 'display_url': 'cricketbloggers.com', 'indices': [0, 23]}]}, 'description': {'urls': [{'url': 'https://t.co/yMPZnHBWsi', 'expanded_url': 'http://instagram.com/cricbloggers', 'display_url': 'instagram.com/cricbloggers', 'indices': [133, 156]}]}}, 'protected': False, 'followers_count': 415, 'friends_count': 195, 'listed_count': 10, 'created_at': 'Sat Jun 06 13:37:15 +0000 2015', 'favourites_count': 8111, 'utc_offset': None, 'time_zone': None, 'geo_enabled': False, 'verified': False, 'statuses_count': 12755, 'lang': None, 'contributors_enabled': False, 'is_translator': False, 'is_translation_enabled': False, 'profile_background_color': 'C0DEED', 'profile_background_image_url': 'http://abs.twimg.com/images/themes/theme1/bg.png', 'profile_background_image_url_https': 'https://abs.twimg.com/images/themes/theme1/bg.png', 'profile_background_tile': False, 'profile_image_url': 'http://pbs.twimg.com/profile_images/1223621752514727936/XECCpYyY_normal.jpg', 'profile_image_url_https': 'https://pbs.twimg.com/profile_images/1223621752514727936/XECCpYyY_normal.jpg', 'profile_banner_url': 'https://pbs.twimg.com/profile_banners/3237865782/1557078487', 'profile_link_color': '1DA1F2', 'profile_sidebar_border_color': 'C0DEED', 'profile_sidebar_fill_color': 'DDEEF6', 'profile_text_color': '333333', 'profile_use_background_image': True, 'has_extended_profile': False, 'default_profile': True, 'default_profile_image': False, 'following': False, 'follow_request_sent': False, 'notifications': False, 'translator_type': 'none', 'withheld_in_countries': []}, id=3237865782, id_str='3237865782', name='Cricket Bloggers', screen_name='CricBloggers', location='Cricket', description='Team #CricketBloggers|Tweets/RTs own thoughts | Visit cricketbloggers.com-ProgressiveWebApp🏏DM for collab/blogging @ CricketBloggers|https://t.co/yMPZnHBWsi', url='https://t.co/qPYT0CJ3rG', entities={'url': {'urls': [{'url': 'https://t.co/qPYT0CJ3rG', 'expanded_url': 'https://www.cricketbloggers.com', 'display_url': 'cricketbloggers.com', 'indices': [0, 23]}]}, 'description': {'urls': [{'url': 'https://t.co/yMPZnHBWsi', 'expanded_url': 'http://instagram.com/cricbloggers', 'display_url': 'instagram.com/cricbloggers', 'indices': [133, 156]}]}}, protected=False, followers_count=415, friends_count=195, listed_count=10, created_at=datetime.datetime(2015, 6, 6, 13, 37, 15), favourites_count=8111, utc_offset=None, time_zone=None, geo_enabled=False, verified=False, statuses_count=12755, lang=None, contributors_enabled=False, is_translator=False, is_translation_enabled=False, profile_background_color='C0DEED', profile_background_image_url='http://abs.twimg.com/images/themes/theme1/bg.png', profile_background_image_url_https='https://abs.twimg.com/images/themes/theme1/bg.png', profile_background_tile=False, profile_image_url='http://pbs.twimg.com/profile_images/1223621752514727936/XECCpYyY_normal.jpg', profile_image_url_https='https://pbs.twimg.com/profile_images/1223621752514727936/XECCpYyY_normal.jpg', profile_banner_url='https://pbs.twimg.com/profile_banners/3237865782/1557078487', profile_link_color='1DA1F2', profile_sidebar_border_color='C0DEED', profile_sidebar_fill_color='DDEEF6', profile_text_color='333333', profile_use_background_image=True, has_extended_profile=False, default_profile=True, default_profile_image=False, following=False, follow_request_sent=False, notifications=False, translator_type='none', withheld_in_countries=[]), geo=None, coordinates=None, place=None, contributors=None, is_quote_status=False, retweet_count=1, favorite_count=2, favorited=False, retweeted=False, possibly_sensitive=False, lang='en') \n",
      "\n",
      ".....................................\n",
      "\n",
      "Status(_api=<tweepy.api.API object at 0x000001EA30D842B0>, _json={'created_at': 'Sat Sep 25 03:26:26 +0000 2021', 'id': 1441604985788108806, 'id_str': '1441604985788108806', 'full_text': 'CSK vs RCB: \\nVirat Kohli ‘very unhappy’ as RCB scores only 45 runs in last 9 overs.\\n\\nIPL 2021: AFter suffering 8 wicket loss to CSK on Friday, RCB Skipper Virat Kohli said that the team was left out 15-20 runs with 175 being a winning total.', 'truncated': False, 'display_text_range': [0, 241], 'entities': {'hashtags': [], 'symbols': [], 'user_mentions': [], 'urls': []}, 'metadata': {'iso_language_code': 'en', 'result_type': 'recent'}, 'source': '<a href=\"http://twitter.com/download/android\" rel=\"nofollow\">Twitter for Android</a>', 'in_reply_to_status_id': None, 'in_reply_to_status_id_str': None, 'in_reply_to_user_id': None, 'in_reply_to_user_id_str': None, 'in_reply_to_screen_name': None, 'user': {'id': 2309711658, 'id_str': '2309711658', 'name': 'Bhakt 🇮🇳🌷🇮🇳', 'screen_name': 'AgarJugal', 'location': 'वसुधैव कुटुंबकम्', 'description': \"#MainBhiChowkidar🌷'अहिंसा परमोधर्म: धर्म हिंसा तदैवच'\\nRetweets are not my views.Followd by @GKapoor.\\nBJP membership No.1073738617\", 'url': None, 'entities': {'description': {'urls': []}}, 'protected': False, 'followers_count': 398, 'friends_count': 389, 'listed_count': 2, 'created_at': 'Sat Jan 25 09:19:52 +0000 2014', 'favourites_count': 52087, 'utc_offset': None, 'time_zone': None, 'geo_enabled': True, 'verified': False, 'statuses_count': 78804, 'lang': None, 'contributors_enabled': False, 'is_translator': False, 'is_translation_enabled': False, 'profile_background_color': 'C0DEED', 'profile_background_image_url': 'http://abs.twimg.com/images/themes/theme1/bg.png', 'profile_background_image_url_https': 'https://abs.twimg.com/images/themes/theme1/bg.png', 'profile_background_tile': False, 'profile_image_url': 'http://pbs.twimg.com/profile_images/1357682542720155656/yCEmVOuf_normal.jpg', 'profile_image_url_https': 'https://pbs.twimg.com/profile_images/1357682542720155656/yCEmVOuf_normal.jpg', 'profile_banner_url': 'https://pbs.twimg.com/profile_banners/2309711658/1552751825', 'profile_link_color': '1DA1F2', 'profile_sidebar_border_color': 'C0DEED', 'profile_sidebar_fill_color': 'DDEEF6', 'profile_text_color': '333333', 'profile_use_background_image': True, 'has_extended_profile': True, 'default_profile': True, 'default_profile_image': False, 'following': False, 'follow_request_sent': False, 'notifications': False, 'translator_type': 'none', 'withheld_in_countries': []}, 'geo': None, 'coordinates': None, 'place': None, 'contributors': None, 'is_quote_status': False, 'retweet_count': 0, 'favorite_count': 0, 'favorited': False, 'retweeted': False, 'lang': 'en'}, created_at=datetime.datetime(2021, 9, 25, 3, 26, 26), id=1441604985788108806, id_str='1441604985788108806', full_text='CSK vs RCB: \\nVirat Kohli ‘very unhappy’ as RCB scores only 45 runs in last 9 overs.\\n\\nIPL 2021: AFter suffering 8 wicket loss to CSK on Friday, RCB Skipper Virat Kohli said that the team was left out 15-20 runs with 175 being a winning total.', truncated=False, display_text_range=[0, 241], entities={'hashtags': [], 'symbols': [], 'user_mentions': [], 'urls': []}, metadata={'iso_language_code': 'en', 'result_type': 'recent'}, source='Twitter for Android', source_url='http://twitter.com/download/android', in_reply_to_status_id=None, in_reply_to_status_id_str=None, in_reply_to_user_id=None, in_reply_to_user_id_str=None, in_reply_to_screen_name=None, author=User(_api=<tweepy.api.API object at 0x000001EA30D842B0>, _json={'id': 2309711658, 'id_str': '2309711658', 'name': 'Bhakt 🇮🇳🌷🇮🇳', 'screen_name': 'AgarJugal', 'location': 'वसुधैव कुटुंबकम्', 'description': \"#MainBhiChowkidar🌷'अहिंसा परमोधर्म: धर्म हिंसा तदैवच'\\nRetweets are not my views.Followd by @GKapoor.\\nBJP membership No.1073738617\", 'url': None, 'entities': {'description': {'urls': []}}, 'protected': False, 'followers_count': 398, 'friends_count': 389, 'listed_count': 2, 'created_at': 'Sat Jan 25 09:19:52 +0000 2014', 'favourites_count': 52087, 'utc_offset': None, 'time_zone': None, 'geo_enabled': True, 'verified': False, 'statuses_count': 78804, 'lang': None, 'contributors_enabled': False, 'is_translator': False, 'is_translation_enabled': False, 'profile_background_color': 'C0DEED', 'profile_background_image_url': 'http://abs.twimg.com/images/themes/theme1/bg.png', 'profile_background_image_url_https': 'https://abs.twimg.com/images/themes/theme1/bg.png', 'profile_background_tile': False, 'profile_image_url': 'http://pbs.twimg.com/profile_images/1357682542720155656/yCEmVOuf_normal.jpg', 'profile_image_url_https': 'https://pbs.twimg.com/profile_images/1357682542720155656/yCEmVOuf_normal.jpg', 'profile_banner_url': 'https://pbs.twimg.com/profile_banners/2309711658/1552751825', 'profile_link_color': '1DA1F2', 'profile_sidebar_border_color': 'C0DEED', 'profile_sidebar_fill_color': 'DDEEF6', 'profile_text_color': '333333', 'profile_use_background_image': True, 'has_extended_profile': True, 'default_profile': True, 'default_profile_image': False, 'following': False, 'follow_request_sent': False, 'notifications': False, 'translator_type': 'none', 'withheld_in_countries': []}, id=2309711658, id_str='2309711658', name='Bhakt 🇮🇳🌷🇮🇳', screen_name='AgarJugal', location='वसुधैव कुटुंबकम्', description=\"#MainBhiChowkidar🌷'अहिंसा परमोधर्म: धर्म हिंसा तदैवच'\\nRetweets are not my views.Followd by @GKapoor.\\nBJP membership No.1073738617\", url=None, entities={'description': {'urls': []}}, protected=False, followers_count=398, friends_count=389, listed_count=2, created_at=datetime.datetime(2014, 1, 25, 9, 19, 52), favourites_count=52087, utc_offset=None, time_zone=None, geo_enabled=True, verified=False, statuses_count=78804, lang=None, contributors_enabled=False, is_translator=False, is_translation_enabled=False, profile_background_color='C0DEED', profile_background_image_url='http://abs.twimg.com/images/themes/theme1/bg.png', profile_background_image_url_https='https://abs.twimg.com/images/themes/theme1/bg.png', profile_background_tile=False, profile_image_url='http://pbs.twimg.com/profile_images/1357682542720155656/yCEmVOuf_normal.jpg', profile_image_url_https='https://pbs.twimg.com/profile_images/1357682542720155656/yCEmVOuf_normal.jpg', profile_banner_url='https://pbs.twimg.com/profile_banners/2309711658/1552751825', profile_link_color='1DA1F2', profile_sidebar_border_color='C0DEED', profile_sidebar_fill_color='DDEEF6', profile_text_color='333333', profile_use_background_image=True, has_extended_profile=True, default_profile=True, default_profile_image=False, following=False, follow_request_sent=False, notifications=False, translator_type='none', withheld_in_countries=[]), user=User(_api=<tweepy.api.API object at 0x000001EA30D842B0>, _json={'id': 2309711658, 'id_str': '2309711658', 'name': 'Bhakt 🇮🇳🌷🇮🇳', 'screen_name': 'AgarJugal', 'location': 'वसुधैव कुटुंबकम्', 'description': \"#MainBhiChowkidar🌷'अहिंसा परमोधर्म: धर्म हिंसा तदैवच'\\nRetweets are not my views.Followd by @GKapoor.\\nBJP membership No.1073738617\", 'url': None, 'entities': {'description': {'urls': []}}, 'protected': False, 'followers_count': 398, 'friends_count': 389, 'listed_count': 2, 'created_at': 'Sat Jan 25 09:19:52 +0000 2014', 'favourites_count': 52087, 'utc_offset': None, 'time_zone': None, 'geo_enabled': True, 'verified': False, 'statuses_count': 78804, 'lang': None, 'contributors_enabled': False, 'is_translator': False, 'is_translation_enabled': False, 'profile_background_color': 'C0DEED', 'profile_background_image_url': 'http://abs.twimg.com/images/themes/theme1/bg.png', 'profile_background_image_url_https': 'https://abs.twimg.com/images/themes/theme1/bg.png', 'profile_background_tile': False, 'profile_image_url': 'http://pbs.twimg.com/profile_images/1357682542720155656/yCEmVOuf_normal.jpg', 'profile_image_url_https': 'https://pbs.twimg.com/profile_images/1357682542720155656/yCEmVOuf_normal.jpg', 'profile_banner_url': 'https://pbs.twimg.com/profile_banners/2309711658/1552751825', 'profile_link_color': '1DA1F2', 'profile_sidebar_border_color': 'C0DEED', 'profile_sidebar_fill_color': 'DDEEF6', 'profile_text_color': '333333', 'profile_use_background_image': True, 'has_extended_profile': True, 'default_profile': True, 'default_profile_image': False, 'following': False, 'follow_request_sent': False, 'notifications': False, 'translator_type': 'none', 'withheld_in_countries': []}, id=2309711658, id_str='2309711658', name='Bhakt 🇮🇳🌷🇮🇳', screen_name='AgarJugal', location='वसुधैव कुटुंबकम्', description=\"#MainBhiChowkidar🌷'अहिंसा परमोधर्म: धर्म हिंसा तदैवच'\\nRetweets are not my views.Followd by @GKapoor.\\nBJP membership No.1073738617\", url=None, entities={'description': {'urls': []}}, protected=False, followers_count=398, friends_count=389, listed_count=2, created_at=datetime.datetime(2014, 1, 25, 9, 19, 52), favourites_count=52087, utc_offset=None, time_zone=None, geo_enabled=True, verified=False, statuses_count=78804, lang=None, contributors_enabled=False, is_translator=False, is_translation_enabled=False, profile_background_color='C0DEED', profile_background_image_url='http://abs.twimg.com/images/themes/theme1/bg.png', profile_background_image_url_https='https://abs.twimg.com/images/themes/theme1/bg.png', profile_background_tile=False, profile_image_url='http://pbs.twimg.com/profile_images/1357682542720155656/yCEmVOuf_normal.jpg', profile_image_url_https='https://pbs.twimg.com/profile_images/1357682542720155656/yCEmVOuf_normal.jpg', profile_banner_url='https://pbs.twimg.com/profile_banners/2309711658/1552751825', profile_link_color='1DA1F2', profile_sidebar_border_color='C0DEED', profile_sidebar_fill_color='DDEEF6', profile_text_color='333333', profile_use_background_image=True, has_extended_profile=True, default_profile=True, default_profile_image=False, following=False, follow_request_sent=False, notifications=False, translator_type='none', withheld_in_countries=[]), geo=None, coordinates=None, place=None, contributors=None, is_quote_status=False, retweet_count=0, favorite_count=0, favorited=False, retweeted=False, lang='en') \n",
      "\n",
      ".....................................\n",
      "\n",
      "Status(_api=<tweepy.api.API object at 0x000001EA30D842B0>, _json={'created_at': 'Sat Sep 25 03:09:45 +0000 2021', 'id': 1441600787050741763, 'id_str': '1441600787050741763', 'full_text': \"'You can gain momentum through winning and then you can gain momentum through losing as well': Pietersen\\n\\n#IPL2021 #RCBvCSK\\n\\nhttps://t.co/bOjybW6OAJ\", 'truncated': False, 'display_text_range': [0, 148], 'entities': {'hashtags': [{'text': 'IPL2021', 'indices': [106, 114]}, {'text': 'RCBvCSK', 'indices': [115, 123]}], 'symbols': [], 'user_mentions': [], 'urls': [{'url': 'https://t.co/bOjybW6OAJ', 'expanded_url': 'https://www.hindustantimes.com/cricket/ipl-2020-you-were-111-for-no-loss-and-then-go-on-to-lose-the-game-that-s-a-real-issue-pietersen-after-csk-beat-rcb-by-6-wickets-101632536013887.html', 'display_url': 'hindustantimes.com/cricket/ipl-20…', 'indices': [125, 148]}]}, 'metadata': {'iso_language_code': 'en', 'result_type': 'recent'}, 'source': '<a href=\"https://about.twitter.com/products/tweetdeck\" rel=\"nofollow\">TweetDeck</a>', 'in_reply_to_status_id': None, 'in_reply_to_status_id_str': None, 'in_reply_to_user_id': None, 'in_reply_to_user_id_str': None, 'in_reply_to_screen_name': None, 'user': {'id': 2532884354, 'id_str': '2532884354', 'name': 'HT Sports', 'screen_name': 'HTSportsNews', 'location': 'India', 'description': \"India's premier destination for cricket, football, tennis and other sports from all over the world.\", 'url': 'http://t.co/4q7tpTsmJ2', 'entities': {'url': {'urls': [{'url': 'http://t.co/4q7tpTsmJ2', 'expanded_url': 'http://hindustantimes.com', 'display_url': 'hindustantimes.com', 'indices': [0, 22]}]}, 'description': {'urls': []}}, 'protected': False, 'followers_count': 104279, 'friends_count': 351, 'listed_count': 387, 'created_at': 'Thu May 29 15:42:59 +0000 2014', 'favourites_count': 339, 'utc_offset': None, 'time_zone': None, 'geo_enabled': False, 'verified': True, 'statuses_count': 130583, 'lang': None, 'contributors_enabled': False, 'is_translator': False, 'is_translation_enabled': False, 'profile_background_color': 'C0DEED', 'profile_background_image_url': 'http://abs.twimg.com/images/themes/theme1/bg.png', 'profile_background_image_url_https': 'https://abs.twimg.com/images/themes/theme1/bg.png', 'profile_background_tile': True, 'profile_image_url': 'http://pbs.twimg.com/profile_images/1299777577742073857/TzFpLDLX_normal.jpg', 'profile_image_url_https': 'https://pbs.twimg.com/profile_images/1299777577742073857/TzFpLDLX_normal.jpg', 'profile_banner_url': 'https://pbs.twimg.com/profile_banners/2532884354/1628733362', 'profile_link_color': '0084B4', 'profile_sidebar_border_color': 'FFFFFF', 'profile_sidebar_fill_color': 'DDEEF6', 'profile_text_color': '333333', 'profile_use_background_image': False, 'has_extended_profile': False, 'default_profile': False, 'default_profile_image': False, 'following': False, 'follow_request_sent': False, 'notifications': False, 'translator_type': 'none', 'withheld_in_countries': []}, 'geo': None, 'coordinates': None, 'place': None, 'contributors': None, 'is_quote_status': False, 'retweet_count': 1, 'favorite_count': 12, 'favorited': False, 'retweeted': False, 'possibly_sensitive': False, 'lang': 'en'}, created_at=datetime.datetime(2021, 9, 25, 3, 9, 45), id=1441600787050741763, id_str='1441600787050741763', full_text=\"'You can gain momentum through winning and then you can gain momentum through losing as well': Pietersen\\n\\n#IPL2021 #RCBvCSK\\n\\nhttps://t.co/bOjybW6OAJ\", truncated=False, display_text_range=[0, 148], entities={'hashtags': [{'text': 'IPL2021', 'indices': [106, 114]}, {'text': 'RCBvCSK', 'indices': [115, 123]}], 'symbols': [], 'user_mentions': [], 'urls': [{'url': 'https://t.co/bOjybW6OAJ', 'expanded_url': 'https://www.hindustantimes.com/cricket/ipl-2020-you-were-111-for-no-loss-and-then-go-on-to-lose-the-game-that-s-a-real-issue-pietersen-after-csk-beat-rcb-by-6-wickets-101632536013887.html', 'display_url': 'hindustantimes.com/cricket/ipl-20…', 'indices': [125, 148]}]}, metadata={'iso_language_code': 'en', 'result_type': 'recent'}, source='TweetDeck', source_url='https://about.twitter.com/products/tweetdeck', in_reply_to_status_id=None, in_reply_to_status_id_str=None, in_reply_to_user_id=None, in_reply_to_user_id_str=None, in_reply_to_screen_name=None, author=User(_api=<tweepy.api.API object at 0x000001EA30D842B0>, _json={'id': 2532884354, 'id_str': '2532884354', 'name': 'HT Sports', 'screen_name': 'HTSportsNews', 'location': 'India', 'description': \"India's premier destination for cricket, football, tennis and other sports from all over the world.\", 'url': 'http://t.co/4q7tpTsmJ2', 'entities': {'url': {'urls': [{'url': 'http://t.co/4q7tpTsmJ2', 'expanded_url': 'http://hindustantimes.com', 'display_url': 'hindustantimes.com', 'indices': [0, 22]}]}, 'description': {'urls': []}}, 'protected': False, 'followers_count': 104279, 'friends_count': 351, 'listed_count': 387, 'created_at': 'Thu May 29 15:42:59 +0000 2014', 'favourites_count': 339, 'utc_offset': None, 'time_zone': None, 'geo_enabled': False, 'verified': True, 'statuses_count': 130583, 'lang': None, 'contributors_enabled': False, 'is_translator': False, 'is_translation_enabled': False, 'profile_background_color': 'C0DEED', 'profile_background_image_url': 'http://abs.twimg.com/images/themes/theme1/bg.png', 'profile_background_image_url_https': 'https://abs.twimg.com/images/themes/theme1/bg.png', 'profile_background_tile': True, 'profile_image_url': 'http://pbs.twimg.com/profile_images/1299777577742073857/TzFpLDLX_normal.jpg', 'profile_image_url_https': 'https://pbs.twimg.com/profile_images/1299777577742073857/TzFpLDLX_normal.jpg', 'profile_banner_url': 'https://pbs.twimg.com/profile_banners/2532884354/1628733362', 'profile_link_color': '0084B4', 'profile_sidebar_border_color': 'FFFFFF', 'profile_sidebar_fill_color': 'DDEEF6', 'profile_text_color': '333333', 'profile_use_background_image': False, 'has_extended_profile': False, 'default_profile': False, 'default_profile_image': False, 'following': False, 'follow_request_sent': False, 'notifications': False, 'translator_type': 'none', 'withheld_in_countries': []}, id=2532884354, id_str='2532884354', name='HT Sports', screen_name='HTSportsNews', location='India', description=\"India's premier destination for cricket, football, tennis and other sports from all over the world.\", url='http://t.co/4q7tpTsmJ2', entities={'url': {'urls': [{'url': 'http://t.co/4q7tpTsmJ2', 'expanded_url': 'http://hindustantimes.com', 'display_url': 'hindustantimes.com', 'indices': [0, 22]}]}, 'description': {'urls': []}}, protected=False, followers_count=104279, friends_count=351, listed_count=387, created_at=datetime.datetime(2014, 5, 29, 15, 42, 59), favourites_count=339, utc_offset=None, time_zone=None, geo_enabled=False, verified=True, statuses_count=130583, lang=None, contributors_enabled=False, is_translator=False, is_translation_enabled=False, profile_background_color='C0DEED', profile_background_image_url='http://abs.twimg.com/images/themes/theme1/bg.png', profile_background_image_url_https='https://abs.twimg.com/images/themes/theme1/bg.png', profile_background_tile=True, profile_image_url='http://pbs.twimg.com/profile_images/1299777577742073857/TzFpLDLX_normal.jpg', profile_image_url_https='https://pbs.twimg.com/profile_images/1299777577742073857/TzFpLDLX_normal.jpg', profile_banner_url='https://pbs.twimg.com/profile_banners/2532884354/1628733362', profile_link_color='0084B4', profile_sidebar_border_color='FFFFFF', profile_sidebar_fill_color='DDEEF6', profile_text_color='333333', profile_use_background_image=False, has_extended_profile=False, default_profile=False, default_profile_image=False, following=False, follow_request_sent=False, notifications=False, translator_type='none', withheld_in_countries=[]), user=User(_api=<tweepy.api.API object at 0x000001EA30D842B0>, _json={'id': 2532884354, 'id_str': '2532884354', 'name': 'HT Sports', 'screen_name': 'HTSportsNews', 'location': 'India', 'description': \"India's premier destination for cricket, football, tennis and other sports from all over the world.\", 'url': 'http://t.co/4q7tpTsmJ2', 'entities': {'url': {'urls': [{'url': 'http://t.co/4q7tpTsmJ2', 'expanded_url': 'http://hindustantimes.com', 'display_url': 'hindustantimes.com', 'indices': [0, 22]}]}, 'description': {'urls': []}}, 'protected': False, 'followers_count': 104279, 'friends_count': 351, 'listed_count': 387, 'created_at': 'Thu May 29 15:42:59 +0000 2014', 'favourites_count': 339, 'utc_offset': None, 'time_zone': None, 'geo_enabled': False, 'verified': True, 'statuses_count': 130583, 'lang': None, 'contributors_enabled': False, 'is_translator': False, 'is_translation_enabled': False, 'profile_background_color': 'C0DEED', 'profile_background_image_url': 'http://abs.twimg.com/images/themes/theme1/bg.png', 'profile_background_image_url_https': 'https://abs.twimg.com/images/themes/theme1/bg.png', 'profile_background_tile': True, 'profile_image_url': 'http://pbs.twimg.com/profile_images/1299777577742073857/TzFpLDLX_normal.jpg', 'profile_image_url_https': 'https://pbs.twimg.com/profile_images/1299777577742073857/TzFpLDLX_normal.jpg', 'profile_banner_url': 'https://pbs.twimg.com/profile_banners/2532884354/1628733362', 'profile_link_color': '0084B4', 'profile_sidebar_border_color': 'FFFFFF', 'profile_sidebar_fill_color': 'DDEEF6', 'profile_text_color': '333333', 'profile_use_background_image': False, 'has_extended_profile': False, 'default_profile': False, 'default_profile_image': False, 'following': False, 'follow_request_sent': False, 'notifications': False, 'translator_type': 'none', 'withheld_in_countries': []}, id=2532884354, id_str='2532884354', name='HT Sports', screen_name='HTSportsNews', location='India', description=\"India's premier destination for cricket, football, tennis and other sports from all over the world.\", url='http://t.co/4q7tpTsmJ2', entities={'url': {'urls': [{'url': 'http://t.co/4q7tpTsmJ2', 'expanded_url': 'http://hindustantimes.com', 'display_url': 'hindustantimes.com', 'indices': [0, 22]}]}, 'description': {'urls': []}}, protected=False, followers_count=104279, friends_count=351, listed_count=387, created_at=datetime.datetime(2014, 5, 29, 15, 42, 59), favourites_count=339, utc_offset=None, time_zone=None, geo_enabled=False, verified=True, statuses_count=130583, lang=None, contributors_enabled=False, is_translator=False, is_translation_enabled=False, profile_background_color='C0DEED', profile_background_image_url='http://abs.twimg.com/images/themes/theme1/bg.png', profile_background_image_url_https='https://abs.twimg.com/images/themes/theme1/bg.png', profile_background_tile=True, profile_image_url='http://pbs.twimg.com/profile_images/1299777577742073857/TzFpLDLX_normal.jpg', profile_image_url_https='https://pbs.twimg.com/profile_images/1299777577742073857/TzFpLDLX_normal.jpg', profile_banner_url='https://pbs.twimg.com/profile_banners/2532884354/1628733362', profile_link_color='0084B4', profile_sidebar_border_color='FFFFFF', profile_sidebar_fill_color='DDEEF6', profile_text_color='333333', profile_use_background_image=False, has_extended_profile=False, default_profile=False, default_profile_image=False, following=False, follow_request_sent=False, notifications=False, translator_type='none', withheld_in_countries=[]), geo=None, coordinates=None, place=None, contributors=None, is_quote_status=False, retweet_count=1, favorite_count=12, favorited=False, retweeted=False, possibly_sensitive=False, lang='en') \n",
      "\n",
      ".....................................\n",
      "\n",
      "Status(_api=<tweepy.api.API object at 0x000001EA30D842B0>, _json={'created_at': 'Sat Sep 25 02:02:22 +0000 2021', 'id': 1441583826484875270, 'id_str': '1441583826484875270', 'full_text': 'RCB winning IPL my only sporting dream unfulfilled 😩 https://t.co/ei5uDwCk7Z', 'truncated': False, 'display_text_range': [0, 52], 'entities': {'hashtags': [], 'symbols': [], 'user_mentions': [], 'urls': [{'url': 'https://t.co/ei5uDwCk7Z', 'expanded_url': 'https://twitter.com/dneurosx/status/1441462692879876096', 'display_url': 'twitter.com/dneurosx/statu…', 'indices': [53, 76]}]}, 'metadata': {'iso_language_code': 'en', 'result_type': 'recent'}, 'source': '<a href=\"http://twitter.com/download/iphone\" rel=\"nofollow\">Twitter for iPhone</a>', 'in_reply_to_status_id': None, 'in_reply_to_status_id_str': None, 'in_reply_to_user_id': None, 'in_reply_to_user_id_str': None, 'in_reply_to_screen_name': None, 'user': {'id': 392697813, 'id_str': '392697813', 'name': 'Arpit Awasthi', 'screen_name': 'arpzrocz', 'location': '', 'description': '', 'url': None, 'entities': {'description': {'urls': []}}, 'protected': False, 'followers_count': 282, 'friends_count': 645, 'listed_count': 0, 'created_at': 'Mon Oct 17 12:53:21 +0000 2011', 'favourites_count': 7296, 'utc_offset': None, 'time_zone': None, 'geo_enabled': True, 'verified': False, 'statuses_count': 9644, 'lang': None, 'contributors_enabled': False, 'is_translator': False, 'is_translation_enabled': False, 'profile_background_color': 'C0DEED', 'profile_background_image_url': 'http://abs.twimg.com/images/themes/theme1/bg.png', 'profile_background_image_url_https': 'https://abs.twimg.com/images/themes/theme1/bg.png', 'profile_background_tile': False, 'profile_image_url': 'http://pbs.twimg.com/profile_images/1407979712039702536/6CIyhXYT_normal.jpg', 'profile_image_url_https': 'https://pbs.twimg.com/profile_images/1407979712039702536/6CIyhXYT_normal.jpg', 'profile_banner_url': 'https://pbs.twimg.com/profile_banners/392697813/1612194801', 'profile_link_color': '1DA1F2', 'profile_sidebar_border_color': 'C0DEED', 'profile_sidebar_fill_color': 'DDEEF6', 'profile_text_color': '333333', 'profile_use_background_image': True, 'has_extended_profile': True, 'default_profile': True, 'default_profile_image': False, 'following': False, 'follow_request_sent': False, 'notifications': False, 'translator_type': 'none', 'withheld_in_countries': []}, 'geo': None, 'coordinates': None, 'place': None, 'contributors': None, 'is_quote_status': True, 'quoted_status_id': 1441462692879876096, 'quoted_status_id_str': '1441462692879876096', 'quoted_status': {'created_at': 'Fri Sep 24 18:01:01 +0000 2021', 'id': 1441462692879876096, 'id_str': '1441462692879876096', 'full_text': 'RCB is Pfizer of Covid vaccines …\\n\\nMuch Hyped, Huge Expectations, Costliest, Highly Advertised and yet the results are miserable !!', 'truncated': False, 'display_text_range': [0, 131], 'entities': {'hashtags': [], 'symbols': [], 'user_mentions': [], 'urls': []}, 'metadata': {'iso_language_code': 'en', 'result_type': 'recent'}, 'source': '<a href=\"http://twitter.com/download/iphone\" rel=\"nofollow\">Twitter for iPhone</a>', 'in_reply_to_status_id': None, 'in_reply_to_status_id_str': None, 'in_reply_to_user_id': None, 'in_reply_to_user_id_str': None, 'in_reply_to_screen_name': None, 'user': {'id': 1017070559283343360, 'id_str': '1017070559283343360', 'name': 'The Brain Doctor', 'screen_name': 'DNeurosx', 'location': 'Inside Third Ventricle.', 'description': 'Consultant Neurosurgeon : Brain is the Organ of Destiny !! SectumSempra 💫 !! #Georgian !!', 'url': None, 'entities': {'description': {'urls': []}}, 'protected': False, 'followers_count': 21145, 'friends_count': 979, 'listed_count': 51, 'created_at': 'Wed Jul 11 15:38:12 +0000 2018', 'favourites_count': 55634, 'utc_offset': None, 'time_zone': None, 'geo_enabled': True, 'verified': False, 'statuses_count': 43910, 'lang': None, 'contributors_enabled': False, 'is_translator': False, 'is_translation_enabled': False, 'profile_background_color': 'F5F8FA', 'profile_background_image_url': None, 'profile_background_image_url_https': None, 'profile_background_tile': False, 'profile_image_url': 'http://pbs.twimg.com/profile_images/1439668850388205568/U7xW2ydd_normal.jpg', 'profile_image_url_https': 'https://pbs.twimg.com/profile_images/1439668850388205568/U7xW2ydd_normal.jpg', 'profile_banner_url': 'https://pbs.twimg.com/profile_banners/1017070559283343360/1600630463', 'profile_link_color': '1DA1F2', 'profile_sidebar_border_color': 'C0DEED', 'profile_sidebar_fill_color': 'DDEEF6', 'profile_text_color': '333333', 'profile_use_background_image': True, 'has_extended_profile': False, 'default_profile': True, 'default_profile_image': False, 'following': False, 'follow_request_sent': False, 'notifications': False, 'translator_type': 'none', 'withheld_in_countries': []}, 'geo': None, 'coordinates': None, 'place': None, 'contributors': None, 'is_quote_status': False, 'retweet_count': 59, 'favorite_count': 644, 'favorited': False, 'retweeted': False, 'lang': 'en'}, 'retweet_count': 0, 'favorite_count': 0, 'favorited': False, 'retweeted': False, 'possibly_sensitive': False, 'lang': 'en'}, created_at=datetime.datetime(2021, 9, 25, 2, 2, 22), id=1441583826484875270, id_str='1441583826484875270', full_text='RCB winning IPL my only sporting dream unfulfilled 😩 https://t.co/ei5uDwCk7Z', truncated=False, display_text_range=[0, 52], entities={'hashtags': [], 'symbols': [], 'user_mentions': [], 'urls': [{'url': 'https://t.co/ei5uDwCk7Z', 'expanded_url': 'https://twitter.com/dneurosx/status/1441462692879876096', 'display_url': 'twitter.com/dneurosx/statu…', 'indices': [53, 76]}]}, metadata={'iso_language_code': 'en', 'result_type': 'recent'}, source='Twitter for iPhone', source_url='http://twitter.com/download/iphone', in_reply_to_status_id=None, in_reply_to_status_id_str=None, in_reply_to_user_id=None, in_reply_to_user_id_str=None, in_reply_to_screen_name=None, author=User(_api=<tweepy.api.API object at 0x000001EA30D842B0>, _json={'id': 392697813, 'id_str': '392697813', 'name': 'Arpit Awasthi', 'screen_name': 'arpzrocz', 'location': '', 'description': '', 'url': None, 'entities': {'description': {'urls': []}}, 'protected': False, 'followers_count': 282, 'friends_count': 645, 'listed_count': 0, 'created_at': 'Mon Oct 17 12:53:21 +0000 2011', 'favourites_count': 7296, 'utc_offset': None, 'time_zone': None, 'geo_enabled': True, 'verified': False, 'statuses_count': 9644, 'lang': None, 'contributors_enabled': False, 'is_translator': False, 'is_translation_enabled': False, 'profile_background_color': 'C0DEED', 'profile_background_image_url': 'http://abs.twimg.com/images/themes/theme1/bg.png', 'profile_background_image_url_https': 'https://abs.twimg.com/images/themes/theme1/bg.png', 'profile_background_tile': False, 'profile_image_url': 'http://pbs.twimg.com/profile_images/1407979712039702536/6CIyhXYT_normal.jpg', 'profile_image_url_https': 'https://pbs.twimg.com/profile_images/1407979712039702536/6CIyhXYT_normal.jpg', 'profile_banner_url': 'https://pbs.twimg.com/profile_banners/392697813/1612194801', 'profile_link_color': '1DA1F2', 'profile_sidebar_border_color': 'C0DEED', 'profile_sidebar_fill_color': 'DDEEF6', 'profile_text_color': '333333', 'profile_use_background_image': True, 'has_extended_profile': True, 'default_profile': True, 'default_profile_image': False, 'following': False, 'follow_request_sent': False, 'notifications': False, 'translator_type': 'none', 'withheld_in_countries': []}, id=392697813, id_str='392697813', name='Arpit Awasthi', screen_name='arpzrocz', location='', description='', url=None, entities={'description': {'urls': []}}, protected=False, followers_count=282, friends_count=645, listed_count=0, created_at=datetime.datetime(2011, 10, 17, 12, 53, 21), favourites_count=7296, utc_offset=None, time_zone=None, geo_enabled=True, verified=False, statuses_count=9644, lang=None, contributors_enabled=False, is_translator=False, is_translation_enabled=False, profile_background_color='C0DEED', profile_background_image_url='http://abs.twimg.com/images/themes/theme1/bg.png', profile_background_image_url_https='https://abs.twimg.com/images/themes/theme1/bg.png', profile_background_tile=False, profile_image_url='http://pbs.twimg.com/profile_images/1407979712039702536/6CIyhXYT_normal.jpg', profile_image_url_https='https://pbs.twimg.com/profile_images/1407979712039702536/6CIyhXYT_normal.jpg', profile_banner_url='https://pbs.twimg.com/profile_banners/392697813/1612194801', profile_link_color='1DA1F2', profile_sidebar_border_color='C0DEED', profile_sidebar_fill_color='DDEEF6', profile_text_color='333333', profile_use_background_image=True, has_extended_profile=True, default_profile=True, default_profile_image=False, following=False, follow_request_sent=False, notifications=False, translator_type='none', withheld_in_countries=[]), user=User(_api=<tweepy.api.API object at 0x000001EA30D842B0>, _json={'id': 392697813, 'id_str': '392697813', 'name': 'Arpit Awasthi', 'screen_name': 'arpzrocz', 'location': '', 'description': '', 'url': None, 'entities': {'description': {'urls': []}}, 'protected': False, 'followers_count': 282, 'friends_count': 645, 'listed_count': 0, 'created_at': 'Mon Oct 17 12:53:21 +0000 2011', 'favourites_count': 7296, 'utc_offset': None, 'time_zone': None, 'geo_enabled': True, 'verified': False, 'statuses_count': 9644, 'lang': None, 'contributors_enabled': False, 'is_translator': False, 'is_translation_enabled': False, 'profile_background_color': 'C0DEED', 'profile_background_image_url': 'http://abs.twimg.com/images/themes/theme1/bg.png', 'profile_background_image_url_https': 'https://abs.twimg.com/images/themes/theme1/bg.png', 'profile_background_tile': False, 'profile_image_url': 'http://pbs.twimg.com/profile_images/1407979712039702536/6CIyhXYT_normal.jpg', 'profile_image_url_https': 'https://pbs.twimg.com/profile_images/1407979712039702536/6CIyhXYT_normal.jpg', 'profile_banner_url': 'https://pbs.twimg.com/profile_banners/392697813/1612194801', 'profile_link_color': '1DA1F2', 'profile_sidebar_border_color': 'C0DEED', 'profile_sidebar_fill_color': 'DDEEF6', 'profile_text_color': '333333', 'profile_use_background_image': True, 'has_extended_profile': True, 'default_profile': True, 'default_profile_image': False, 'following': False, 'follow_request_sent': False, 'notifications': False, 'translator_type': 'none', 'withheld_in_countries': []}, id=392697813, id_str='392697813', name='Arpit Awasthi', screen_name='arpzrocz', location='', description='', url=None, entities={'description': {'urls': []}}, protected=False, followers_count=282, friends_count=645, listed_count=0, created_at=datetime.datetime(2011, 10, 17, 12, 53, 21), favourites_count=7296, utc_offset=None, time_zone=None, geo_enabled=True, verified=False, statuses_count=9644, lang=None, contributors_enabled=False, is_translator=False, is_translation_enabled=False, profile_background_color='C0DEED', profile_background_image_url='http://abs.twimg.com/images/themes/theme1/bg.png', profile_background_image_url_https='https://abs.twimg.com/images/themes/theme1/bg.png', profile_background_tile=False, profile_image_url='http://pbs.twimg.com/profile_images/1407979712039702536/6CIyhXYT_normal.jpg', profile_image_url_https='https://pbs.twimg.com/profile_images/1407979712039702536/6CIyhXYT_normal.jpg', profile_banner_url='https://pbs.twimg.com/profile_banners/392697813/1612194801', profile_link_color='1DA1F2', profile_sidebar_border_color='C0DEED', profile_sidebar_fill_color='DDEEF6', profile_text_color='333333', profile_use_background_image=True, has_extended_profile=True, default_profile=True, default_profile_image=False, following=False, follow_request_sent=False, notifications=False, translator_type='none', withheld_in_countries=[]), geo=None, coordinates=None, place=None, contributors=None, is_quote_status=True, quoted_status_id=1441462692879876096, quoted_status_id_str='1441462692879876096', quoted_status=Status(_api=<tweepy.api.API object at 0x000001EA30D842B0>, _json={'created_at': 'Fri Sep 24 18:01:01 +0000 2021', 'id': 1441462692879876096, 'id_str': '1441462692879876096', 'full_text': 'RCB is Pfizer of Covid vaccines …\\n\\nMuch Hyped, Huge Expectations, Costliest, Highly Advertised and yet the results are miserable !!', 'truncated': False, 'display_text_range': [0, 131], 'entities': {'hashtags': [], 'symbols': [], 'user_mentions': [], 'urls': []}, 'metadata': {'iso_language_code': 'en', 'result_type': 'recent'}, 'source': '<a href=\"http://twitter.com/download/iphone\" rel=\"nofollow\">Twitter for iPhone</a>', 'in_reply_to_status_id': None, 'in_reply_to_status_id_str': None, 'in_reply_to_user_id': None, 'in_reply_to_user_id_str': None, 'in_reply_to_screen_name': None, 'user': {'id': 1017070559283343360, 'id_str': '1017070559283343360', 'name': 'The Brain Doctor', 'screen_name': 'DNeurosx', 'location': 'Inside Third Ventricle.', 'description': 'Consultant Neurosurgeon : Brain is the Organ of Destiny !! SectumSempra 💫 !! #Georgian !!', 'url': None, 'entities': {'description': {'urls': []}}, 'protected': False, 'followers_count': 21145, 'friends_count': 979, 'listed_count': 51, 'created_at': 'Wed Jul 11 15:38:12 +0000 2018', 'favourites_count': 55634, 'utc_offset': None, 'time_zone': None, 'geo_enabled': True, 'verified': False, 'statuses_count': 43910, 'lang': None, 'contributors_enabled': False, 'is_translator': False, 'is_translation_enabled': False, 'profile_background_color': 'F5F8FA', 'profile_background_image_url': None, 'profile_background_image_url_https': None, 'profile_background_tile': False, 'profile_image_url': 'http://pbs.twimg.com/profile_images/1439668850388205568/U7xW2ydd_normal.jpg', 'profile_image_url_https': 'https://pbs.twimg.com/profile_images/1439668850388205568/U7xW2ydd_normal.jpg', 'profile_banner_url': 'https://pbs.twimg.com/profile_banners/1017070559283343360/1600630463', 'profile_link_color': '1DA1F2', 'profile_sidebar_border_color': 'C0DEED', 'profile_sidebar_fill_color': 'DDEEF6', 'profile_text_color': '333333', 'profile_use_background_image': True, 'has_extended_profile': False, 'default_profile': True, 'default_profile_image': False, 'following': False, 'follow_request_sent': False, 'notifications': False, 'translator_type': 'none', 'withheld_in_countries': []}, 'geo': None, 'coordinates': None, 'place': None, 'contributors': None, 'is_quote_status': False, 'retweet_count': 59, 'favorite_count': 644, 'favorited': False, 'retweeted': False, 'lang': 'en'}, created_at=datetime.datetime(2021, 9, 24, 18, 1, 1), id=1441462692879876096, id_str='1441462692879876096', full_text='RCB is Pfizer of Covid vaccines …\\n\\nMuch Hyped, Huge Expectations, Costliest, Highly Advertised and yet the results are miserable !!', truncated=False, display_text_range=[0, 131], entities={'hashtags': [], 'symbols': [], 'user_mentions': [], 'urls': []}, metadata={'iso_language_code': 'en', 'result_type': 'recent'}, source='Twitter for iPhone', source_url='http://twitter.com/download/iphone', in_reply_to_status_id=None, in_reply_to_status_id_str=None, in_reply_to_user_id=None, in_reply_to_user_id_str=None, in_reply_to_screen_name=None, author=User(_api=<tweepy.api.API object at 0x000001EA30D842B0>, _json={'id': 1017070559283343360, 'id_str': '1017070559283343360', 'name': 'The Brain Doctor', 'screen_name': 'DNeurosx', 'location': 'Inside Third Ventricle.', 'description': 'Consultant Neurosurgeon : Brain is the Organ of Destiny !! SectumSempra 💫 !! #Georgian !!', 'url': None, 'entities': {'description': {'urls': []}}, 'protected': False, 'followers_count': 21145, 'friends_count': 979, 'listed_count': 51, 'created_at': 'Wed Jul 11 15:38:12 +0000 2018', 'favourites_count': 55634, 'utc_offset': None, 'time_zone': None, 'geo_enabled': True, 'verified': False, 'statuses_count': 43910, 'lang': None, 'contributors_enabled': False, 'is_translator': False, 'is_translation_enabled': False, 'profile_background_color': 'F5F8FA', 'profile_background_image_url': None, 'profile_background_image_url_https': None, 'profile_background_tile': False, 'profile_image_url': 'http://pbs.twimg.com/profile_images/1439668850388205568/U7xW2ydd_normal.jpg', 'profile_image_url_https': 'https://pbs.twimg.com/profile_images/1439668850388205568/U7xW2ydd_normal.jpg', 'profile_banner_url': 'https://pbs.twimg.com/profile_banners/1017070559283343360/1600630463', 'profile_link_color': '1DA1F2', 'profile_sidebar_border_color': 'C0DEED', 'profile_sidebar_fill_color': 'DDEEF6', 'profile_text_color': '333333', 'profile_use_background_image': True, 'has_extended_profile': False, 'default_profile': True, 'default_profile_image': False, 'following': False, 'follow_request_sent': False, 'notifications': False, 'translator_type': 'none', 'withheld_in_countries': []}, id=1017070559283343360, id_str='1017070559283343360', name='The Brain Doctor', screen_name='DNeurosx', location='Inside Third Ventricle.', description='Consultant Neurosurgeon : Brain is the Organ of Destiny !! SectumSempra 💫 !! #Georgian !!', url=None, entities={'description': {'urls': []}}, protected=False, followers_count=21145, friends_count=979, listed_count=51, created_at=datetime.datetime(2018, 7, 11, 15, 38, 12), favourites_count=55634, utc_offset=None, time_zone=None, geo_enabled=True, verified=False, statuses_count=43910, lang=None, contributors_enabled=False, is_translator=False, is_translation_enabled=False, profile_background_color='F5F8FA', profile_background_image_url=None, profile_background_image_url_https=None, profile_background_tile=False, profile_image_url='http://pbs.twimg.com/profile_images/1439668850388205568/U7xW2ydd_normal.jpg', profile_image_url_https='https://pbs.twimg.com/profile_images/1439668850388205568/U7xW2ydd_normal.jpg', profile_banner_url='https://pbs.twimg.com/profile_banners/1017070559283343360/1600630463', profile_link_color='1DA1F2', profile_sidebar_border_color='C0DEED', profile_sidebar_fill_color='DDEEF6', profile_text_color='333333', profile_use_background_image=True, has_extended_profile=False, default_profile=True, default_profile_image=False, following=False, follow_request_sent=False, notifications=False, translator_type='none', withheld_in_countries=[]), user=User(_api=<tweepy.api.API object at 0x000001EA30D842B0>, _json={'id': 1017070559283343360, 'id_str': '1017070559283343360', 'name': 'The Brain Doctor', 'screen_name': 'DNeurosx', 'location': 'Inside Third Ventricle.', 'description': 'Consultant Neurosurgeon : Brain is the Organ of Destiny !! SectumSempra 💫 !! #Georgian !!', 'url': None, 'entities': {'description': {'urls': []}}, 'protected': False, 'followers_count': 21145, 'friends_count': 979, 'listed_count': 51, 'created_at': 'Wed Jul 11 15:38:12 +0000 2018', 'favourites_count': 55634, 'utc_offset': None, 'time_zone': None, 'geo_enabled': True, 'verified': False, 'statuses_count': 43910, 'lang': None, 'contributors_enabled': False, 'is_translator': False, 'is_translation_enabled': False, 'profile_background_color': 'F5F8FA', 'profile_background_image_url': None, 'profile_background_image_url_https': None, 'profile_background_tile': False, 'profile_image_url': 'http://pbs.twimg.com/profile_images/1439668850388205568/U7xW2ydd_normal.jpg', 'profile_image_url_https': 'https://pbs.twimg.com/profile_images/1439668850388205568/U7xW2ydd_normal.jpg', 'profile_banner_url': 'https://pbs.twimg.com/profile_banners/1017070559283343360/1600630463', 'profile_link_color': '1DA1F2', 'profile_sidebar_border_color': 'C0DEED', 'profile_sidebar_fill_color': 'DDEEF6', 'profile_text_color': '333333', 'profile_use_background_image': True, 'has_extended_profile': False, 'default_profile': True, 'default_profile_image': False, 'following': False, 'follow_request_sent': False, 'notifications': False, 'translator_type': 'none', 'withheld_in_countries': []}, id=1017070559283343360, id_str='1017070559283343360', name='The Brain Doctor', screen_name='DNeurosx', location='Inside Third Ventricle.', description='Consultant Neurosurgeon : Brain is the Organ of Destiny !! SectumSempra 💫 !! #Georgian !!', url=None, entities={'description': {'urls': []}}, protected=False, followers_count=21145, friends_count=979, listed_count=51, created_at=datetime.datetime(2018, 7, 11, 15, 38, 12), favourites_count=55634, utc_offset=None, time_zone=None, geo_enabled=True, verified=False, statuses_count=43910, lang=None, contributors_enabled=False, is_translator=False, is_translation_enabled=False, profile_background_color='F5F8FA', profile_background_image_url=None, profile_background_image_url_https=None, profile_background_tile=False, profile_image_url='http://pbs.twimg.com/profile_images/1439668850388205568/U7xW2ydd_normal.jpg', profile_image_url_https='https://pbs.twimg.com/profile_images/1439668850388205568/U7xW2ydd_normal.jpg', profile_banner_url='https://pbs.twimg.com/profile_banners/1017070559283343360/1600630463', profile_link_color='1DA1F2', profile_sidebar_border_color='C0DEED', profile_sidebar_fill_color='DDEEF6', profile_text_color='333333', profile_use_background_image=True, has_extended_profile=False, default_profile=True, default_profile_image=False, following=False, follow_request_sent=False, notifications=False, translator_type='none', withheld_in_countries=[]), geo=None, coordinates=None, place=None, contributors=None, is_quote_status=False, retweet_count=59, favorite_count=644, favorited=False, retweeted=False, lang='en'), retweet_count=0, favorite_count=0, favorited=False, retweeted=False, possibly_sensitive=False, lang='en') \n",
      "\n",
      ".....................................\n",
      "\n",
      "Status(_api=<tweepy.api.API object at 0x000001EA30D842B0>, _json={'created_at': 'Sat Sep 25 00:02:13 +0000 2021', 'id': 1441553591530000389, 'id_str': '1441553591530000389', 'full_text': 'Highlights IPL 2021 Score, RCB vs CSK: Chennai Super Kings Maintain Winning Run, Defeat Royal Challengers Bangalore By Six\\xa0Wickets https://t.co/QkDfnbKbpI', 'truncated': False, 'display_text_range': [0, 154], 'entities': {'hashtags': [], 'symbols': [], 'user_mentions': [], 'urls': [{'url': 'https://t.co/QkDfnbKbpI', 'expanded_url': 'https://news3.reformertech.com/highlights-ipl-2021-score-rcb-vs-csk-chennai-super-kings-maintain-winning-run-defeat-royal-challengers-bangalore-by-six-wickets/', 'display_url': 'news3.reformertech.com/highlights-ipl…', 'indices': [131, 154]}]}, 'metadata': {'iso_language_code': 'en', 'result_type': 'recent'}, 'source': '<a href=\"http://publicize.wp.com/\" rel=\"nofollow\">WordPress.com</a>', 'in_reply_to_status_id': None, 'in_reply_to_status_id_str': None, 'in_reply_to_user_id': None, 'in_reply_to_user_id_str': None, 'in_reply_to_screen_name': None, 'user': {'id': 1334907115857534976, 'id_str': '1334907115857534976', 'name': 'ReformerNews', 'screen_name': 'ReformerNews1', 'location': '', 'description': 'Voice of Reality', 'url': 'https://t.co/Y07i8CMWvS', 'entities': {'url': {'urls': [{'url': 'https://t.co/Y07i8CMWvS', 'expanded_url': 'https://news.reformertech.com/', 'display_url': 'news.reformertech.com', 'indices': [0, 23]}]}, 'description': {'urls': []}}, 'protected': False, 'followers_count': 28, 'friends_count': 2, 'listed_count': 2, 'created_at': 'Fri Dec 04 17:07:25 +0000 2020', 'favourites_count': 27, 'utc_offset': None, 'time_zone': None, 'geo_enabled': False, 'verified': False, 'statuses_count': 89124, 'lang': None, 'contributors_enabled': False, 'is_translator': False, 'is_translation_enabled': False, 'profile_background_color': 'F5F8FA', 'profile_background_image_url': None, 'profile_background_image_url_https': None, 'profile_background_tile': False, 'profile_image_url': 'http://pbs.twimg.com/profile_images/1334907227178614784/0HmX2qR4_normal.jpg', 'profile_image_url_https': 'https://pbs.twimg.com/profile_images/1334907227178614784/0HmX2qR4_normal.jpg', 'profile_banner_url': 'https://pbs.twimg.com/profile_banners/1334907115857534976/1607320080', 'profile_link_color': '1DA1F2', 'profile_sidebar_border_color': 'C0DEED', 'profile_sidebar_fill_color': 'DDEEF6', 'profile_text_color': '333333', 'profile_use_background_image': True, 'has_extended_profile': True, 'default_profile': True, 'default_profile_image': False, 'following': False, 'follow_request_sent': False, 'notifications': False, 'translator_type': 'none', 'withheld_in_countries': []}, 'geo': None, 'coordinates': None, 'place': None, 'contributors': None, 'is_quote_status': False, 'retweet_count': 0, 'favorite_count': 0, 'favorited': False, 'retweeted': False, 'possibly_sensitive': False, 'lang': 'en'}, created_at=datetime.datetime(2021, 9, 25, 0, 2, 13), id=1441553591530000389, id_str='1441553591530000389', full_text='Highlights IPL 2021 Score, RCB vs CSK: Chennai Super Kings Maintain Winning Run, Defeat Royal Challengers Bangalore By Six\\xa0Wickets https://t.co/QkDfnbKbpI', truncated=False, display_text_range=[0, 154], entities={'hashtags': [], 'symbols': [], 'user_mentions': [], 'urls': [{'url': 'https://t.co/QkDfnbKbpI', 'expanded_url': 'https://news3.reformertech.com/highlights-ipl-2021-score-rcb-vs-csk-chennai-super-kings-maintain-winning-run-defeat-royal-challengers-bangalore-by-six-wickets/', 'display_url': 'news3.reformertech.com/highlights-ipl…', 'indices': [131, 154]}]}, metadata={'iso_language_code': 'en', 'result_type': 'recent'}, source='WordPress.com', source_url='http://publicize.wp.com/', in_reply_to_status_id=None, in_reply_to_status_id_str=None, in_reply_to_user_id=None, in_reply_to_user_id_str=None, in_reply_to_screen_name=None, author=User(_api=<tweepy.api.API object at 0x000001EA30D842B0>, _json={'id': 1334907115857534976, 'id_str': '1334907115857534976', 'name': 'ReformerNews', 'screen_name': 'ReformerNews1', 'location': '', 'description': 'Voice of Reality', 'url': 'https://t.co/Y07i8CMWvS', 'entities': {'url': {'urls': [{'url': 'https://t.co/Y07i8CMWvS', 'expanded_url': 'https://news.reformertech.com/', 'display_url': 'news.reformertech.com', 'indices': [0, 23]}]}, 'description': {'urls': []}}, 'protected': False, 'followers_count': 28, 'friends_count': 2, 'listed_count': 2, 'created_at': 'Fri Dec 04 17:07:25 +0000 2020', 'favourites_count': 27, 'utc_offset': None, 'time_zone': None, 'geo_enabled': False, 'verified': False, 'statuses_count': 89124, 'lang': None, 'contributors_enabled': False, 'is_translator': False, 'is_translation_enabled': False, 'profile_background_color': 'F5F8FA', 'profile_background_image_url': None, 'profile_background_image_url_https': None, 'profile_background_tile': False, 'profile_image_url': 'http://pbs.twimg.com/profile_images/1334907227178614784/0HmX2qR4_normal.jpg', 'profile_image_url_https': 'https://pbs.twimg.com/profile_images/1334907227178614784/0HmX2qR4_normal.jpg', 'profile_banner_url': 'https://pbs.twimg.com/profile_banners/1334907115857534976/1607320080', 'profile_link_color': '1DA1F2', 'profile_sidebar_border_color': 'C0DEED', 'profile_sidebar_fill_color': 'DDEEF6', 'profile_text_color': '333333', 'profile_use_background_image': True, 'has_extended_profile': True, 'default_profile': True, 'default_profile_image': False, 'following': False, 'follow_request_sent': False, 'notifications': False, 'translator_type': 'none', 'withheld_in_countries': []}, id=1334907115857534976, id_str='1334907115857534976', name='ReformerNews', screen_name='ReformerNews1', location='', description='Voice of Reality', url='https://t.co/Y07i8CMWvS', entities={'url': {'urls': [{'url': 'https://t.co/Y07i8CMWvS', 'expanded_url': 'https://news.reformertech.com/', 'display_url': 'news.reformertech.com', 'indices': [0, 23]}]}, 'description': {'urls': []}}, protected=False, followers_count=28, friends_count=2, listed_count=2, created_at=datetime.datetime(2020, 12, 4, 17, 7, 25), favourites_count=27, utc_offset=None, time_zone=None, geo_enabled=False, verified=False, statuses_count=89124, lang=None, contributors_enabled=False, is_translator=False, is_translation_enabled=False, profile_background_color='F5F8FA', profile_background_image_url=None, profile_background_image_url_https=None, profile_background_tile=False, profile_image_url='http://pbs.twimg.com/profile_images/1334907227178614784/0HmX2qR4_normal.jpg', profile_image_url_https='https://pbs.twimg.com/profile_images/1334907227178614784/0HmX2qR4_normal.jpg', profile_banner_url='https://pbs.twimg.com/profile_banners/1334907115857534976/1607320080', profile_link_color='1DA1F2', profile_sidebar_border_color='C0DEED', profile_sidebar_fill_color='DDEEF6', profile_text_color='333333', profile_use_background_image=True, has_extended_profile=True, default_profile=True, default_profile_image=False, following=False, follow_request_sent=False, notifications=False, translator_type='none', withheld_in_countries=[]), user=User(_api=<tweepy.api.API object at 0x000001EA30D842B0>, _json={'id': 1334907115857534976, 'id_str': '1334907115857534976', 'name': 'ReformerNews', 'screen_name': 'ReformerNews1', 'location': '', 'description': 'Voice of Reality', 'url': 'https://t.co/Y07i8CMWvS', 'entities': {'url': {'urls': [{'url': 'https://t.co/Y07i8CMWvS', 'expanded_url': 'https://news.reformertech.com/', 'display_url': 'news.reformertech.com', 'indices': [0, 23]}]}, 'description': {'urls': []}}, 'protected': False, 'followers_count': 28, 'friends_count': 2, 'listed_count': 2, 'created_at': 'Fri Dec 04 17:07:25 +0000 2020', 'favourites_count': 27, 'utc_offset': None, 'time_zone': None, 'geo_enabled': False, 'verified': False, 'statuses_count': 89124, 'lang': None, 'contributors_enabled': False, 'is_translator': False, 'is_translation_enabled': False, 'profile_background_color': 'F5F8FA', 'profile_background_image_url': None, 'profile_background_image_url_https': None, 'profile_background_tile': False, 'profile_image_url': 'http://pbs.twimg.com/profile_images/1334907227178614784/0HmX2qR4_normal.jpg', 'profile_image_url_https': 'https://pbs.twimg.com/profile_images/1334907227178614784/0HmX2qR4_normal.jpg', 'profile_banner_url': 'https://pbs.twimg.com/profile_banners/1334907115857534976/1607320080', 'profile_link_color': '1DA1F2', 'profile_sidebar_border_color': 'C0DEED', 'profile_sidebar_fill_color': 'DDEEF6', 'profile_text_color': '333333', 'profile_use_background_image': True, 'has_extended_profile': True, 'default_profile': True, 'default_profile_image': False, 'following': False, 'follow_request_sent': False, 'notifications': False, 'translator_type': 'none', 'withheld_in_countries': []}, id=1334907115857534976, id_str='1334907115857534976', name='ReformerNews', screen_name='ReformerNews1', location='', description='Voice of Reality', url='https://t.co/Y07i8CMWvS', entities={'url': {'urls': [{'url': 'https://t.co/Y07i8CMWvS', 'expanded_url': 'https://news.reformertech.com/', 'display_url': 'news.reformertech.com', 'indices': [0, 23]}]}, 'description': {'urls': []}}, protected=False, followers_count=28, friends_count=2, listed_count=2, created_at=datetime.datetime(2020, 12, 4, 17, 7, 25), favourites_count=27, utc_offset=None, time_zone=None, geo_enabled=False, verified=False, statuses_count=89124, lang=None, contributors_enabled=False, is_translator=False, is_translation_enabled=False, profile_background_color='F5F8FA', profile_background_image_url=None, profile_background_image_url_https=None, profile_background_tile=False, profile_image_url='http://pbs.twimg.com/profile_images/1334907227178614784/0HmX2qR4_normal.jpg', profile_image_url_https='https://pbs.twimg.com/profile_images/1334907227178614784/0HmX2qR4_normal.jpg', profile_banner_url='https://pbs.twimg.com/profile_banners/1334907115857534976/1607320080', profile_link_color='1DA1F2', profile_sidebar_border_color='C0DEED', profile_sidebar_fill_color='DDEEF6', profile_text_color='333333', profile_use_background_image=True, has_extended_profile=True, default_profile=True, default_profile_image=False, following=False, follow_request_sent=False, notifications=False, translator_type='none', withheld_in_countries=[]), geo=None, coordinates=None, place=None, contributors=None, is_quote_status=False, retweet_count=0, favorite_count=0, favorited=False, retweeted=False, possibly_sensitive=False, lang='en') \n",
      "\n",
      ".....................................\n",
      "\n",
      "Status(_api=<tweepy.api.API object at 0x000001EA30D842B0>, _json={'created_at': 'Fri Sep 24 23:49:57 +0000 2021', 'id': 1441550502764814344, 'id_str': '1441550502764814344', 'full_text': 'Highlights IPL 2021 Score, RCB vs CSK: Chennai Super Kings Maintain Winning Run, Defeat Royal Challengers Bangalore By Six\\xa0Wickets https://t.co/EplDc6xeZ8', 'truncated': False, 'display_text_range': [0, 154], 'entities': {'hashtags': [], 'symbols': [], 'user_mentions': [], 'urls': [{'url': 'https://t.co/EplDc6xeZ8', 'expanded_url': 'https://news2.reformertech.com/highlights-ipl-2021-score-rcb-vs-csk-chennai-super-kings-maintain-winning-run-defeat-royal-challengers-bangalore-by-six-wickets/', 'display_url': 'news2.reformertech.com/highlights-ipl…', 'indices': [131, 154]}]}, 'metadata': {'iso_language_code': 'en', 'result_type': 'recent'}, 'source': '<a href=\"http://publicize.wp.com/\" rel=\"nofollow\">WordPress.com</a>', 'in_reply_to_status_id': None, 'in_reply_to_status_id_str': None, 'in_reply_to_user_id': None, 'in_reply_to_user_id_str': None, 'in_reply_to_screen_name': None, 'user': {'id': 1334907115857534976, 'id_str': '1334907115857534976', 'name': 'ReformerNews', 'screen_name': 'ReformerNews1', 'location': '', 'description': 'Voice of Reality', 'url': 'https://t.co/Y07i8CMWvS', 'entities': {'url': {'urls': [{'url': 'https://t.co/Y07i8CMWvS', 'expanded_url': 'https://news.reformertech.com/', 'display_url': 'news.reformertech.com', 'indices': [0, 23]}]}, 'description': {'urls': []}}, 'protected': False, 'followers_count': 28, 'friends_count': 2, 'listed_count': 2, 'created_at': 'Fri Dec 04 17:07:25 +0000 2020', 'favourites_count': 27, 'utc_offset': None, 'time_zone': None, 'geo_enabled': False, 'verified': False, 'statuses_count': 89124, 'lang': None, 'contributors_enabled': False, 'is_translator': False, 'is_translation_enabled': False, 'profile_background_color': 'F5F8FA', 'profile_background_image_url': None, 'profile_background_image_url_https': None, 'profile_background_tile': False, 'profile_image_url': 'http://pbs.twimg.com/profile_images/1334907227178614784/0HmX2qR4_normal.jpg', 'profile_image_url_https': 'https://pbs.twimg.com/profile_images/1334907227178614784/0HmX2qR4_normal.jpg', 'profile_banner_url': 'https://pbs.twimg.com/profile_banners/1334907115857534976/1607320080', 'profile_link_color': '1DA1F2', 'profile_sidebar_border_color': 'C0DEED', 'profile_sidebar_fill_color': 'DDEEF6', 'profile_text_color': '333333', 'profile_use_background_image': True, 'has_extended_profile': True, 'default_profile': True, 'default_profile_image': False, 'following': False, 'follow_request_sent': False, 'notifications': False, 'translator_type': 'none', 'withheld_in_countries': []}, 'geo': None, 'coordinates': None, 'place': None, 'contributors': None, 'is_quote_status': False, 'retweet_count': 0, 'favorite_count': 0, 'favorited': False, 'retweeted': False, 'possibly_sensitive': False, 'lang': 'en'}, created_at=datetime.datetime(2021, 9, 24, 23, 49, 57), id=1441550502764814344, id_str='1441550502764814344', full_text='Highlights IPL 2021 Score, RCB vs CSK: Chennai Super Kings Maintain Winning Run, Defeat Royal Challengers Bangalore By Six\\xa0Wickets https://t.co/EplDc6xeZ8', truncated=False, display_text_range=[0, 154], entities={'hashtags': [], 'symbols': [], 'user_mentions': [], 'urls': [{'url': 'https://t.co/EplDc6xeZ8', 'expanded_url': 'https://news2.reformertech.com/highlights-ipl-2021-score-rcb-vs-csk-chennai-super-kings-maintain-winning-run-defeat-royal-challengers-bangalore-by-six-wickets/', 'display_url': 'news2.reformertech.com/highlights-ipl…', 'indices': [131, 154]}]}, metadata={'iso_language_code': 'en', 'result_type': 'recent'}, source='WordPress.com', source_url='http://publicize.wp.com/', in_reply_to_status_id=None, in_reply_to_status_id_str=None, in_reply_to_user_id=None, in_reply_to_user_id_str=None, in_reply_to_screen_name=None, author=User(_api=<tweepy.api.API object at 0x000001EA30D842B0>, _json={'id': 1334907115857534976, 'id_str': '1334907115857534976', 'name': 'ReformerNews', 'screen_name': 'ReformerNews1', 'location': '', 'description': 'Voice of Reality', 'url': 'https://t.co/Y07i8CMWvS', 'entities': {'url': {'urls': [{'url': 'https://t.co/Y07i8CMWvS', 'expanded_url': 'https://news.reformertech.com/', 'display_url': 'news.reformertech.com', 'indices': [0, 23]}]}, 'description': {'urls': []}}, 'protected': False, 'followers_count': 28, 'friends_count': 2, 'listed_count': 2, 'created_at': 'Fri Dec 04 17:07:25 +0000 2020', 'favourites_count': 27, 'utc_offset': None, 'time_zone': None, 'geo_enabled': False, 'verified': False, 'statuses_count': 89124, 'lang': None, 'contributors_enabled': False, 'is_translator': False, 'is_translation_enabled': False, 'profile_background_color': 'F5F8FA', 'profile_background_image_url': None, 'profile_background_image_url_https': None, 'profile_background_tile': False, 'profile_image_url': 'http://pbs.twimg.com/profile_images/1334907227178614784/0HmX2qR4_normal.jpg', 'profile_image_url_https': 'https://pbs.twimg.com/profile_images/1334907227178614784/0HmX2qR4_normal.jpg', 'profile_banner_url': 'https://pbs.twimg.com/profile_banners/1334907115857534976/1607320080', 'profile_link_color': '1DA1F2', 'profile_sidebar_border_color': 'C0DEED', 'profile_sidebar_fill_color': 'DDEEF6', 'profile_text_color': '333333', 'profile_use_background_image': True, 'has_extended_profile': True, 'default_profile': True, 'default_profile_image': False, 'following': False, 'follow_request_sent': False, 'notifications': False, 'translator_type': 'none', 'withheld_in_countries': []}, id=1334907115857534976, id_str='1334907115857534976', name='ReformerNews', screen_name='ReformerNews1', location='', description='Voice of Reality', url='https://t.co/Y07i8CMWvS', entities={'url': {'urls': [{'url': 'https://t.co/Y07i8CMWvS', 'expanded_url': 'https://news.reformertech.com/', 'display_url': 'news.reformertech.com', 'indices': [0, 23]}]}, 'description': {'urls': []}}, protected=False, followers_count=28, friends_count=2, listed_count=2, created_at=datetime.datetime(2020, 12, 4, 17, 7, 25), favourites_count=27, utc_offset=None, time_zone=None, geo_enabled=False, verified=False, statuses_count=89124, lang=None, contributors_enabled=False, is_translator=False, is_translation_enabled=False, profile_background_color='F5F8FA', profile_background_image_url=None, profile_background_image_url_https=None, profile_background_tile=False, profile_image_url='http://pbs.twimg.com/profile_images/1334907227178614784/0HmX2qR4_normal.jpg', profile_image_url_https='https://pbs.twimg.com/profile_images/1334907227178614784/0HmX2qR4_normal.jpg', profile_banner_url='https://pbs.twimg.com/profile_banners/1334907115857534976/1607320080', profile_link_color='1DA1F2', profile_sidebar_border_color='C0DEED', profile_sidebar_fill_color='DDEEF6', profile_text_color='333333', profile_use_background_image=True, has_extended_profile=True, default_profile=True, default_profile_image=False, following=False, follow_request_sent=False, notifications=False, translator_type='none', withheld_in_countries=[]), user=User(_api=<tweepy.api.API object at 0x000001EA30D842B0>, _json={'id': 1334907115857534976, 'id_str': '1334907115857534976', 'name': 'ReformerNews', 'screen_name': 'ReformerNews1', 'location': '', 'description': 'Voice of Reality', 'url': 'https://t.co/Y07i8CMWvS', 'entities': {'url': {'urls': [{'url': 'https://t.co/Y07i8CMWvS', 'expanded_url': 'https://news.reformertech.com/', 'display_url': 'news.reformertech.com', 'indices': [0, 23]}]}, 'description': {'urls': []}}, 'protected': False, 'followers_count': 28, 'friends_count': 2, 'listed_count': 2, 'created_at': 'Fri Dec 04 17:07:25 +0000 2020', 'favourites_count': 27, 'utc_offset': None, 'time_zone': None, 'geo_enabled': False, 'verified': False, 'statuses_count': 89124, 'lang': None, 'contributors_enabled': False, 'is_translator': False, 'is_translation_enabled': False, 'profile_background_color': 'F5F8FA', 'profile_background_image_url': None, 'profile_background_image_url_https': None, 'profile_background_tile': False, 'profile_image_url': 'http://pbs.twimg.com/profile_images/1334907227178614784/0HmX2qR4_normal.jpg', 'profile_image_url_https': 'https://pbs.twimg.com/profile_images/1334907227178614784/0HmX2qR4_normal.jpg', 'profile_banner_url': 'https://pbs.twimg.com/profile_banners/1334907115857534976/1607320080', 'profile_link_color': '1DA1F2', 'profile_sidebar_border_color': 'C0DEED', 'profile_sidebar_fill_color': 'DDEEF6', 'profile_text_color': '333333', 'profile_use_background_image': True, 'has_extended_profile': True, 'default_profile': True, 'default_profile_image': False, 'following': False, 'follow_request_sent': False, 'notifications': False, 'translator_type': 'none', 'withheld_in_countries': []}, id=1334907115857534976, id_str='1334907115857534976', name='ReformerNews', screen_name='ReformerNews1', location='', description='Voice of Reality', url='https://t.co/Y07i8CMWvS', entities={'url': {'urls': [{'url': 'https://t.co/Y07i8CMWvS', 'expanded_url': 'https://news.reformertech.com/', 'display_url': 'news.reformertech.com', 'indices': [0, 23]}]}, 'description': {'urls': []}}, protected=False, followers_count=28, friends_count=2, listed_count=2, created_at=datetime.datetime(2020, 12, 4, 17, 7, 25), favourites_count=27, utc_offset=None, time_zone=None, geo_enabled=False, verified=False, statuses_count=89124, lang=None, contributors_enabled=False, is_translator=False, is_translation_enabled=False, profile_background_color='F5F8FA', profile_background_image_url=None, profile_background_image_url_https=None, profile_background_tile=False, profile_image_url='http://pbs.twimg.com/profile_images/1334907227178614784/0HmX2qR4_normal.jpg', profile_image_url_https='https://pbs.twimg.com/profile_images/1334907227178614784/0HmX2qR4_normal.jpg', profile_banner_url='https://pbs.twimg.com/profile_banners/1334907115857534976/1607320080', profile_link_color='1DA1F2', profile_sidebar_border_color='C0DEED', profile_sidebar_fill_color='DDEEF6', profile_text_color='333333', profile_use_background_image=True, has_extended_profile=True, default_profile=True, default_profile_image=False, following=False, follow_request_sent=False, notifications=False, translator_type='none', withheld_in_countries=[]), geo=None, coordinates=None, place=None, contributors=None, is_quote_status=False, retweet_count=0, favorite_count=0, favorited=False, retweeted=False, possibly_sensitive=False, lang='en') \n",
      "\n",
      ".....................................\n",
      "\n"
     ]
    }
   ],
   "source": [
    "Tweets = api.search( query , count=10 , lang='en' , exclude='retweets' , tweet_mode='extended' )\n",
    "# tweet_mode='extended'\n",
    "# tweet_mode='compat'\n",
    "\n",
    "for tweet in Tweets:\n",
    "    print(tweet,\"\\n\")\n",
    "    print(\".....................................\\n\")"
   ]
  },
  {
   "cell_type": "markdown",
   "id": "5689d23f",
   "metadata": {},
   "source": [
    "Get the tweets and some Attributes"
   ]
  },
  {
   "cell_type": "code",
   "execution_count": 9,
   "id": "2b7f2e0f",
   "metadata": {},
   "outputs": [
    {
     "name": "stdout",
     "output_type": "stream",
     "text": [
      "Empty DataFrame\n",
      "Columns: [Tweets, User, User_statuses_count, user_followers, User_location, User_verified, fav_count, rt_count, tweet_date]\n",
      "Index: []\n"
     ]
    }
   ],
   "source": [
    "df = pd.DataFrame(columns = ['Tweets' , 'User' , 'User_statuses_count' , \n",
    "                            'user_followers' , 'User_location' , 'User_verified' ,\n",
    "                            'fav_count' , 'rt_count' , 'tweet_date'] )\n",
    "print(df)\n",
    "# print(df.shape)"
   ]
  },
  {
   "cell_type": "code",
   "execution_count": 10,
   "id": "76e43be2",
   "metadata": {},
   "outputs": [],
   "source": [
    "def stream(data, file_name):\n",
    "    i = 0\n",
    "    for tweet in tweepy.Cursor(api.search, q=data, count=100, lang='en').items():\n",
    "        print(i, end='\\r')\n",
    "        df.loc[i, 'Tweets'] = tweet.text\n",
    "        df.loc[i, 'User'] = tweet.user.name\n",
    "        df.loc[i, 'User_statuses_count'] = tweet.user.statuses_count\n",
    "        df.loc[i, 'user_followers'] = tweet.user.followers_count\n",
    "        df.loc[i, 'User_location'] = tweet.user.location\n",
    "        df.loc[i, 'User_verified'] = tweet.user.verified\n",
    "        df.loc[i, 'fav_count'] = tweet.favorite_count\n",
    "        df.loc[i, 'rt_count'] = tweet.retweet_count\n",
    "        df.loc[i, 'tweet_date'] = tweet.created_at\n",
    "        df.to_excel('{}.xlsx'.format(file_name))\n",
    "        i = i+1\n",
    "        if i == 1000:\n",
    "            break\n",
    "        else:\n",
    "            pass"
   ]
  },
  {
   "cell_type": "code",
   "execution_count": 11,
   "id": "9f500c3c",
   "metadata": {},
   "outputs": [
    {
     "name": "stdout",
     "output_type": "stream",
     "text": [
      "722\r"
     ]
    }
   ],
   "source": [
    "stream(data=[\"RCB winning IPL\"] , file_name='my_tweets')"
   ]
  },
  {
   "cell_type": "code",
   "execution_count": 12,
   "id": "57b9dbbb",
   "metadata": {},
   "outputs": [
    {
     "data": {
      "text/html": [
       "<div>\n",
       "<style scoped>\n",
       "    .dataframe tbody tr th:only-of-type {\n",
       "        vertical-align: middle;\n",
       "    }\n",
       "\n",
       "    .dataframe tbody tr th {\n",
       "        vertical-align: top;\n",
       "    }\n",
       "\n",
       "    .dataframe thead th {\n",
       "        text-align: right;\n",
       "    }\n",
       "</style>\n",
       "<table border=\"1\" class=\"dataframe\">\n",
       "  <thead>\n",
       "    <tr style=\"text-align: right;\">\n",
       "      <th></th>\n",
       "      <th>Tweets</th>\n",
       "      <th>User</th>\n",
       "      <th>User_statuses_count</th>\n",
       "      <th>user_followers</th>\n",
       "      <th>User_location</th>\n",
       "      <th>User_verified</th>\n",
       "      <th>fav_count</th>\n",
       "      <th>rt_count</th>\n",
       "      <th>tweet_date</th>\n",
       "    </tr>\n",
       "  </thead>\n",
       "  <tbody>\n",
       "    <tr>\n",
       "      <th>0</th>\n",
       "      <td>IPL TV coverage is a series of commercials wit...</td>\n",
       "      <td>D Prasanth Nair</td>\n",
       "      <td>57995</td>\n",
       "      <td>8977</td>\n",
       "      <td>Mumbai</td>\n",
       "      <td>False</td>\n",
       "      <td>1</td>\n",
       "      <td>0</td>\n",
       "      <td>2021-09-25 08:00:43</td>\n",
       "    </tr>\n",
       "    <tr>\n",
       "      <th>1</th>\n",
       "      <td>Reason behind RCB not winning IPL trophy yet h...</td>\n",
       "      <td>ladki_baaz</td>\n",
       "      <td>261</td>\n",
       "      <td>37</td>\n",
       "      <td></td>\n",
       "      <td>False</td>\n",
       "      <td>2</td>\n",
       "      <td>0</td>\n",
       "      <td>2021-09-25 07:30:51</td>\n",
       "    </tr>\n",
       "    <tr>\n",
       "      <th>2</th>\n",
       "      <td>“Got to get on that winning run again. This on...</td>\n",
       "      <td>Circle of Cricket</td>\n",
       "      <td>88138</td>\n",
       "      <td>142164</td>\n",
       "      <td></td>\n",
       "      <td>True</td>\n",
       "      <td>11</td>\n",
       "      <td>1</td>\n",
       "      <td>2021-09-25 07:25:10</td>\n",
       "    </tr>\n",
       "    <tr>\n",
       "      <th>3</th>\n",
       "      <td>IPL Teams winning %\\nCSK is in top with 60.48 ...</td>\n",
       "      <td>Sportsmatik</td>\n",
       "      <td>4806</td>\n",
       "      <td>15103</td>\n",
       "      <td>India</td>\n",
       "      <td>False</td>\n",
       "      <td>2</td>\n",
       "      <td>0</td>\n",
       "      <td>2021-09-25 06:18:25</td>\n",
       "    </tr>\n",
       "    <tr>\n",
       "      <th>4</th>\n",
       "      <td>RT @CricBloggers: #RCB has been a trailtail.\\n...</td>\n",
       "      <td>#StayHome</td>\n",
       "      <td>908109</td>\n",
       "      <td>7696</td>\n",
       "      <td>കേരളം</td>\n",
       "      <td>False</td>\n",
       "      <td>0</td>\n",
       "      <td>1</td>\n",
       "      <td>2021-09-25 04:09:02</td>\n",
       "    </tr>\n",
       "  </tbody>\n",
       "</table>\n",
       "</div>"
      ],
      "text/plain": [
       "                                              Tweets               User  \\\n",
       "0  IPL TV coverage is a series of commercials wit...    D Prasanth Nair   \n",
       "1  Reason behind RCB not winning IPL trophy yet h...         ladki_baaz   \n",
       "2  “Got to get on that winning run again. This on...  Circle of Cricket   \n",
       "3  IPL Teams winning %\\nCSK is in top with 60.48 ...        Sportsmatik   \n",
       "4  RT @CricBloggers: #RCB has been a trailtail.\\n...          #StayHome   \n",
       "\n",
       "  User_statuses_count user_followers User_location User_verified fav_count  \\\n",
       "0               57995           8977        Mumbai         False         1   \n",
       "1                 261             37                       False         2   \n",
       "2               88138         142164                        True        11   \n",
       "3                4806          15103         India         False         2   \n",
       "4              908109           7696         കേരളം         False         0   \n",
       "\n",
       "  rt_count           tweet_date  \n",
       "0        0  2021-09-25 08:00:43  \n",
       "1        0  2021-09-25 07:30:51  \n",
       "2        1  2021-09-25 07:25:10  \n",
       "3        0  2021-09-25 06:18:25  \n",
       "4        1  2021-09-25 04:09:02  "
      ]
     },
     "execution_count": 12,
     "metadata": {},
     "output_type": "execute_result"
    }
   ],
   "source": [
    "df.head()"
   ]
  },
  {
   "cell_type": "code",
   "execution_count": 13,
   "id": "0151a8b7",
   "metadata": {},
   "outputs": [
    {
     "name": "stdout",
     "output_type": "stream",
     "text": [
      "Collecting textblob\n",
      "  Downloading textblob-0.15.3-py2.py3-none-any.whl (636 kB)\n",
      "Requirement already satisfied: nltk>=3.1 in c:\\users\\dell\\anaconda3\\lib\\site-packages (from textblob) (3.6.1)\n",
      "Requirement already satisfied: regex in c:\\users\\dell\\anaconda3\\lib\\site-packages (from nltk>=3.1->textblob) (2021.4.4)\n",
      "Requirement already satisfied: tqdm in c:\\users\\dell\\anaconda3\\lib\\site-packages (from nltk>=3.1->textblob) (4.59.0)\n",
      "Requirement already satisfied: click in c:\\users\\dell\\anaconda3\\lib\\site-packages (from nltk>=3.1->textblob) (7.1.2)\n",
      "Requirement already satisfied: joblib in c:\\users\\dell\\anaconda3\\lib\\site-packages (from nltk>=3.1->textblob) (1.0.1)\n",
      "Installing collected packages: textblob\n",
      "Successfully installed textblob-0.15.3\n"
     ]
    }
   ],
   "source": [
    "!pip install textblob"
   ]
  },
  {
   "cell_type": "markdown",
   "id": "8ab3db2d",
   "metadata": {},
   "source": [
    "Sentiment(polarity, subjectivity)\n",
    "\n",
    "Polarity score: [-1 , +1]\n",
    "\n",
    "Subjectivity: [0.0 , 1.0] \n",
    "where 0.0 is very Objective and 1.0 is very Subjective."
   ]
  },
  {
   "cell_type": "code",
   "execution_count": 15,
   "id": "fdaf1631",
   "metadata": {},
   "outputs": [],
   "source": [
    "from textblob import TextBlob"
   ]
  },
  {
   "cell_type": "code",
   "execution_count": 16,
   "id": "2952e863",
   "metadata": {},
   "outputs": [],
   "source": [
    "import re\n",
    "def clean_tweet(tweet):\n",
    "    return ' '.join(re.sub('(@[A-Za-z0-9]+)|([^0-9A-Za-z \\t])|(\\w+:\\/\\/\\S+)', ' ', tweet).split())"
   ]
  },
  {
   "cell_type": "code",
   "execution_count": 17,
   "id": "59a0872d",
   "metadata": {},
   "outputs": [],
   "source": [
    "def analyze_sentiment(tweet):\n",
    "    analysis = TextBlob(tweet)\n",
    "    if analysis.sentiment.polarity > 0:\n",
    "        return 'Positive'\n",
    "    elif analysis.sentiment.polarity == 0:\n",
    "        return 'Neutral'\n",
    "    else:\n",
    "        return 'Negative'"
   ]
  },
  {
   "cell_type": "code",
   "execution_count": 18,
   "id": "8e5a5e2f",
   "metadata": {},
   "outputs": [],
   "source": [
    "df['clean_tweet'] = df['Tweets'].apply(lambda x : clean_tweet(x))"
   ]
  },
  {
   "cell_type": "code",
   "execution_count": 19,
   "id": "5cd7aeaa",
   "metadata": {},
   "outputs": [
    {
     "data": {
      "text/html": [
       "<div>\n",
       "<style scoped>\n",
       "    .dataframe tbody tr th:only-of-type {\n",
       "        vertical-align: middle;\n",
       "    }\n",
       "\n",
       "    .dataframe tbody tr th {\n",
       "        vertical-align: top;\n",
       "    }\n",
       "\n",
       "    .dataframe thead th {\n",
       "        text-align: right;\n",
       "    }\n",
       "</style>\n",
       "<table border=\"1\" class=\"dataframe\">\n",
       "  <thead>\n",
       "    <tr style=\"text-align: right;\">\n",
       "      <th></th>\n",
       "      <th>Tweets</th>\n",
       "      <th>User</th>\n",
       "      <th>User_statuses_count</th>\n",
       "      <th>user_followers</th>\n",
       "      <th>User_location</th>\n",
       "      <th>User_verified</th>\n",
       "      <th>fav_count</th>\n",
       "      <th>rt_count</th>\n",
       "      <th>tweet_date</th>\n",
       "      <th>clean_tweet</th>\n",
       "    </tr>\n",
       "  </thead>\n",
       "  <tbody>\n",
       "    <tr>\n",
       "      <th>0</th>\n",
       "      <td>IPL TV coverage is a series of commercials wit...</td>\n",
       "      <td>D Prasanth Nair</td>\n",
       "      <td>57995</td>\n",
       "      <td>8977</td>\n",
       "      <td>Mumbai</td>\n",
       "      <td>False</td>\n",
       "      <td>1</td>\n",
       "      <td>0</td>\n",
       "      <td>2021-09-25 08:00:43</td>\n",
       "      <td>IPL TV coverage is a series of commercials wit...</td>\n",
       "    </tr>\n",
       "    <tr>\n",
       "      <th>1</th>\n",
       "      <td>Reason behind RCB not winning IPL trophy yet h...</td>\n",
       "      <td>ladki_baaz</td>\n",
       "      <td>261</td>\n",
       "      <td>37</td>\n",
       "      <td></td>\n",
       "      <td>False</td>\n",
       "      <td>2</td>\n",
       "      <td>0</td>\n",
       "      <td>2021-09-25 07:30:51</td>\n",
       "      <td>Reason behind RCB not winning IPL trophy yet</td>\n",
       "    </tr>\n",
       "    <tr>\n",
       "      <th>2</th>\n",
       "      <td>“Got to get on that winning run again. This on...</td>\n",
       "      <td>Circle of Cricket</td>\n",
       "      <td>88138</td>\n",
       "      <td>142164</td>\n",
       "      <td></td>\n",
       "      <td>True</td>\n",
       "      <td>11</td>\n",
       "      <td>1</td>\n",
       "      <td>2021-09-25 07:25:10</td>\n",
       "      <td>Got to get on that winning run again This one ...</td>\n",
       "    </tr>\n",
       "    <tr>\n",
       "      <th>3</th>\n",
       "      <td>IPL Teams winning %\\nCSK is in top with 60.48 ...</td>\n",
       "      <td>Sportsmatik</td>\n",
       "      <td>4806</td>\n",
       "      <td>15103</td>\n",
       "      <td>India</td>\n",
       "      <td>False</td>\n",
       "      <td>2</td>\n",
       "      <td>0</td>\n",
       "      <td>2021-09-25 06:18:25</td>\n",
       "      <td>IPL Teams winning CSK is in top with 60 48 Per...</td>\n",
       "    </tr>\n",
       "    <tr>\n",
       "      <th>4</th>\n",
       "      <td>RT @CricBloggers: #RCB has been a trailtail.\\n...</td>\n",
       "      <td>#StayHome</td>\n",
       "      <td>908109</td>\n",
       "      <td>7696</td>\n",
       "      <td>കേരളം</td>\n",
       "      <td>False</td>\n",
       "      <td>0</td>\n",
       "      <td>1</td>\n",
       "      <td>2021-09-25 04:09:02</td>\n",
       "      <td>RT RCB has been a trailtail Similar to IPL2020...</td>\n",
       "    </tr>\n",
       "  </tbody>\n",
       "</table>\n",
       "</div>"
      ],
      "text/plain": [
       "                                              Tweets               User  \\\n",
       "0  IPL TV coverage is a series of commercials wit...    D Prasanth Nair   \n",
       "1  Reason behind RCB not winning IPL trophy yet h...         ladki_baaz   \n",
       "2  “Got to get on that winning run again. This on...  Circle of Cricket   \n",
       "3  IPL Teams winning %\\nCSK is in top with 60.48 ...        Sportsmatik   \n",
       "4  RT @CricBloggers: #RCB has been a trailtail.\\n...          #StayHome   \n",
       "\n",
       "  User_statuses_count user_followers User_location User_verified fav_count  \\\n",
       "0               57995           8977        Mumbai         False         1   \n",
       "1                 261             37                       False         2   \n",
       "2               88138         142164                        True        11   \n",
       "3                4806          15103         India         False         2   \n",
       "4              908109           7696         കേരളം         False         0   \n",
       "\n",
       "  rt_count           tweet_date  \\\n",
       "0        0  2021-09-25 08:00:43   \n",
       "1        0  2021-09-25 07:30:51   \n",
       "2        1  2021-09-25 07:25:10   \n",
       "3        0  2021-09-25 06:18:25   \n",
       "4        1  2021-09-25 04:09:02   \n",
       "\n",
       "                                         clean_tweet  \n",
       "0  IPL TV coverage is a series of commercials wit...  \n",
       "1       Reason behind RCB not winning IPL trophy yet  \n",
       "2  Got to get on that winning run again This one ...  \n",
       "3  IPL Teams winning CSK is in top with 60 48 Per...  \n",
       "4  RT RCB has been a trailtail Similar to IPL2020...  "
      ]
     },
     "execution_count": 19,
     "metadata": {},
     "output_type": "execute_result"
    }
   ],
   "source": [
    "df.head()"
   ]
  },
  {
   "cell_type": "code",
   "execution_count": 20,
   "id": "51054dcd",
   "metadata": {},
   "outputs": [
    {
     "data": {
      "text/html": [
       "<div>\n",
       "<style scoped>\n",
       "    .dataframe tbody tr th:only-of-type {\n",
       "        vertical-align: middle;\n",
       "    }\n",
       "\n",
       "    .dataframe tbody tr th {\n",
       "        vertical-align: top;\n",
       "    }\n",
       "\n",
       "    .dataframe thead th {\n",
       "        text-align: right;\n",
       "    }\n",
       "</style>\n",
       "<table border=\"1\" class=\"dataframe\">\n",
       "  <thead>\n",
       "    <tr style=\"text-align: right;\">\n",
       "      <th></th>\n",
       "      <th>Tweets</th>\n",
       "      <th>User</th>\n",
       "      <th>User_statuses_count</th>\n",
       "      <th>user_followers</th>\n",
       "      <th>User_location</th>\n",
       "      <th>User_verified</th>\n",
       "      <th>fav_count</th>\n",
       "      <th>rt_count</th>\n",
       "      <th>tweet_date</th>\n",
       "      <th>clean_tweet</th>\n",
       "      <th>Sentiment</th>\n",
       "    </tr>\n",
       "  </thead>\n",
       "  <tbody>\n",
       "    <tr>\n",
       "      <th>0</th>\n",
       "      <td>IPL TV coverage is a series of commercials wit...</td>\n",
       "      <td>D Prasanth Nair</td>\n",
       "      <td>57995</td>\n",
       "      <td>8977</td>\n",
       "      <td>Mumbai</td>\n",
       "      <td>False</td>\n",
       "      <td>1</td>\n",
       "      <td>0</td>\n",
       "      <td>2021-09-25 08:00:43</td>\n",
       "      <td>IPL TV coverage is a series of commercials wit...</td>\n",
       "      <td>Negative</td>\n",
       "    </tr>\n",
       "    <tr>\n",
       "      <th>1</th>\n",
       "      <td>Reason behind RCB not winning IPL trophy yet h...</td>\n",
       "      <td>ladki_baaz</td>\n",
       "      <td>261</td>\n",
       "      <td>37</td>\n",
       "      <td></td>\n",
       "      <td>False</td>\n",
       "      <td>2</td>\n",
       "      <td>0</td>\n",
       "      <td>2021-09-25 07:30:51</td>\n",
       "      <td>Reason behind RCB not winning IPL trophy yet</td>\n",
       "      <td>Negative</td>\n",
       "    </tr>\n",
       "    <tr>\n",
       "      <th>2</th>\n",
       "      <td>“Got to get on that winning run again. This on...</td>\n",
       "      <td>Circle of Cricket</td>\n",
       "      <td>88138</td>\n",
       "      <td>142164</td>\n",
       "      <td></td>\n",
       "      <td>True</td>\n",
       "      <td>11</td>\n",
       "      <td>1</td>\n",
       "      <td>2021-09-25 07:25:10</td>\n",
       "      <td>Got to get on that winning run again This one ...</td>\n",
       "      <td>Positive</td>\n",
       "    </tr>\n",
       "    <tr>\n",
       "      <th>3</th>\n",
       "      <td>IPL Teams winning %\\nCSK is in top with 60.48 ...</td>\n",
       "      <td>Sportsmatik</td>\n",
       "      <td>4806</td>\n",
       "      <td>15103</td>\n",
       "      <td>India</td>\n",
       "      <td>False</td>\n",
       "      <td>2</td>\n",
       "      <td>0</td>\n",
       "      <td>2021-09-25 06:18:25</td>\n",
       "      <td>IPL Teams winning CSK is in top with 60 48 Per...</td>\n",
       "      <td>Positive</td>\n",
       "    </tr>\n",
       "    <tr>\n",
       "      <th>4</th>\n",
       "      <td>RT @CricBloggers: #RCB has been a trailtail.\\n...</td>\n",
       "      <td>#StayHome</td>\n",
       "      <td>908109</td>\n",
       "      <td>7696</td>\n",
       "      <td>കേരളം</td>\n",
       "      <td>False</td>\n",
       "      <td>0</td>\n",
       "      <td>1</td>\n",
       "      <td>2021-09-25 04:09:02</td>\n",
       "      <td>RT RCB has been a trailtail Similar to IPL2020...</td>\n",
       "      <td>Positive</td>\n",
       "    </tr>\n",
       "  </tbody>\n",
       "</table>\n",
       "</div>"
      ],
      "text/plain": [
       "                                              Tweets               User  \\\n",
       "0  IPL TV coverage is a series of commercials wit...    D Prasanth Nair   \n",
       "1  Reason behind RCB not winning IPL trophy yet h...         ladki_baaz   \n",
       "2  “Got to get on that winning run again. This on...  Circle of Cricket   \n",
       "3  IPL Teams winning %\\nCSK is in top with 60.48 ...        Sportsmatik   \n",
       "4  RT @CricBloggers: #RCB has been a trailtail.\\n...          #StayHome   \n",
       "\n",
       "  User_statuses_count user_followers User_location User_verified fav_count  \\\n",
       "0               57995           8977        Mumbai         False         1   \n",
       "1                 261             37                       False         2   \n",
       "2               88138         142164                        True        11   \n",
       "3                4806          15103         India         False         2   \n",
       "4              908109           7696         കേരളം         False         0   \n",
       "\n",
       "  rt_count           tweet_date  \\\n",
       "0        0  2021-09-25 08:00:43   \n",
       "1        0  2021-09-25 07:30:51   \n",
       "2        1  2021-09-25 07:25:10   \n",
       "3        0  2021-09-25 06:18:25   \n",
       "4        1  2021-09-25 04:09:02   \n",
       "\n",
       "                                         clean_tweet Sentiment  \n",
       "0  IPL TV coverage is a series of commercials wit...  Negative  \n",
       "1       Reason behind RCB not winning IPL trophy yet  Negative  \n",
       "2  Got to get on that winning run again This one ...  Positive  \n",
       "3  IPL Teams winning CSK is in top with 60 48 Per...  Positive  \n",
       "4  RT RCB has been a trailtail Similar to IPL2020...  Positive  "
      ]
     },
     "execution_count": 20,
     "metadata": {},
     "output_type": "execute_result"
    }
   ],
   "source": [
    "df['Sentiment'] = df['clean_tweet'].apply(lambda x : analyze_sentiment(x) )\n",
    "df.head()"
   ]
  },
  {
   "cell_type": "code",
   "execution_count": 21,
   "id": "e1b0ccfb",
   "metadata": {},
   "outputs": [
    {
     "name": "stdout",
     "output_type": "stream",
     "text": [
      "Original tweet:\n",
      " Reason behind RCB not winning IPL trophy yet https://t.co/B0hA8l6iIQ\n",
      "\n",
      "Clean tweet:\n",
      " Reason behind RCB not winning IPL trophy yet\n",
      "\n",
      "Sentiment of the tweet:\n",
      " Negative\n"
     ]
    }
   ],
   "source": [
    "n = 1\n",
    "print(\"Original tweet:\\n\",df['Tweets'][n])\n",
    "print()\n",
    "print(\"Clean tweet:\\n\",df['clean_tweet'][n])\n",
    "print()\n",
    "print(\"Sentiment of the tweet:\\n\",df['Sentiment'][n])"
   ]
  },
  {
   "cell_type": "code",
   "execution_count": 22,
   "id": "eee45fb0",
   "metadata": {},
   "outputs": [
    {
     "name": "stdout",
     "output_type": "stream",
     "text": [
      "Original tweet:\n",
      " @Bounce_Bully Me as well get a lot of hate for DDP comments. \n",
      "\n",
      "One section of Kohli &amp; RCB fans are more invested in… https://t.co/3NgZtILLVm\n",
      "\n",
      "Clean tweet:\n",
      " Bully Me as well get a lot of hate for DDP comments One section of Kohli amp RCB fans are more invested in\n",
      "\n",
      "Sentiment of the tweet:\n",
      " Negative\n"
     ]
    }
   ],
   "source": [
    "n = 20\n",
    "print(\"Original tweet:\\n\",df['Tweets'][n])\n",
    "print()\n",
    "print(\"Clean tweet:\\n\",df['clean_tweet'][n])\n",
    "print()\n",
    "print(\"Sentiment of the tweet:\\n\",df['Sentiment'][n])"
   ]
  },
  {
   "cell_type": "code",
   "execution_count": 23,
   "id": "981edea5",
   "metadata": {},
   "outputs": [
    {
     "name": "stdout",
     "output_type": "stream",
     "text": [
      "Original tweet:\n",
      " @CricCrazyJohns @LoyalSachinFan Why u blocked muffa? If u don't reply mi rcb winning ipl\n",
      "\n",
      "Clean tweet:\n",
      " Why u blocked muffa If u don t reply mi rcb winning ipl\n",
      "\n",
      "Sentiment of the tweet:\n",
      " Positive\n"
     ]
    }
   ],
   "source": [
    "n = 203\n",
    "print(\"Original tweet:\\n\",df['Tweets'][n])\n",
    "print()\n",
    "print(\"Clean tweet:\\n\",df['clean_tweet'][n])\n",
    "print()\n",
    "print(\"Sentiment of the tweet:\\n\",df['Sentiment'][n])"
   ]
  },
  {
   "cell_type": "code",
   "execution_count": 24,
   "id": "943fce8c",
   "metadata": {},
   "outputs": [
    {
     "data": {
      "text/plain": [
       "624"
      ]
     },
     "execution_count": 24,
     "metadata": {},
     "output_type": "execute_result"
    }
   ],
   "source": [
    "df[df.Sentiment == 'Positive'].shape[0]"
   ]
  },
  {
   "cell_type": "code",
   "execution_count": 25,
   "id": "f8ff11b7",
   "metadata": {},
   "outputs": [
    {
     "data": {
      "text/plain": [
       "40"
      ]
     },
     "execution_count": 25,
     "metadata": {},
     "output_type": "execute_result"
    }
   ],
   "source": [
    "df[df.Sentiment == 'Neutral'].shape[0]"
   ]
  },
  {
   "cell_type": "code",
   "execution_count": 26,
   "id": "ab70a214",
   "metadata": {},
   "outputs": [
    {
     "data": {
      "text/plain": [
       "59"
      ]
     },
     "execution_count": 26,
     "metadata": {},
     "output_type": "execute_result"
    }
   ],
   "source": [
    "df[df.Sentiment == 'Negative'].shape[0]"
   ]
  },
  {
   "cell_type": "code",
   "execution_count": null,
   "id": "fb949b69",
   "metadata": {},
   "outputs": [],
   "source": []
  }
 ],
 "metadata": {
  "kernelspec": {
   "display_name": "Python 3",
   "language": "python",
   "name": "python3"
  },
  "language_info": {
   "codemirror_mode": {
    "name": "ipython",
    "version": 3
   },
   "file_extension": ".py",
   "mimetype": "text/x-python",
   "name": "python",
   "nbconvert_exporter": "python",
   "pygments_lexer": "ipython3",
   "version": "3.8.8"
  }
 },
 "nbformat": 4,
 "nbformat_minor": 5
}
