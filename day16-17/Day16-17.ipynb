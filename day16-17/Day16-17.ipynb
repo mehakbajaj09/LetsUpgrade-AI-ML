{
 "cells": [
  {
   "cell_type": "code",
   "execution_count": 3,
   "id": "e4bd7862",
   "metadata": {},
   "outputs": [],
   "source": [
    "import pandas as pd"
   ]
  },
  {
   "cell_type": "code",
   "execution_count": 4,
   "id": "76d8f154",
   "metadata": {},
   "outputs": [
    {
     "data": {
      "text/html": [
       "<div>\n",
       "<style scoped>\n",
       "    .dataframe tbody tr th:only-of-type {\n",
       "        vertical-align: middle;\n",
       "    }\n",
       "\n",
       "    .dataframe tbody tr th {\n",
       "        vertical-align: top;\n",
       "    }\n",
       "\n",
       "    .dataframe thead th {\n",
       "        text-align: right;\n",
       "    }\n",
       "</style>\n",
       "<table border=\"1\" class=\"dataframe\">\n",
       "  <thead>\n",
       "    <tr style=\"text-align: right;\">\n",
       "      <th></th>\n",
       "      <th>title</th>\n",
       "      <th>year</th>\n",
       "    </tr>\n",
       "  </thead>\n",
       "  <tbody>\n",
       "    <tr>\n",
       "      <th>0</th>\n",
       "      <td>Tasveer Mere Sanam</td>\n",
       "      <td>1996</td>\n",
       "    </tr>\n",
       "    <tr>\n",
       "      <th>1</th>\n",
       "      <td>Only You</td>\n",
       "      <td>1994</td>\n",
       "    </tr>\n",
       "    <tr>\n",
       "      <th>2</th>\n",
       "      <td>El pueblo del terror</td>\n",
       "      <td>1970</td>\n",
       "    </tr>\n",
       "    <tr>\n",
       "      <th>3</th>\n",
       "      <td>Machine</td>\n",
       "      <td>2007</td>\n",
       "    </tr>\n",
       "    <tr>\n",
       "      <th>4</th>\n",
       "      <td>MARy</td>\n",
       "      <td>2008</td>\n",
       "    </tr>\n",
       "  </tbody>\n",
       "</table>\n",
       "</div>"
      ],
      "text/plain": [
       "                  title  year\n",
       "0    Tasveer Mere Sanam  1996\n",
       "1              Only You  1994\n",
       "2  El pueblo del terror  1970\n",
       "3               Machine  2007\n",
       "4                  MARy  2008"
      ]
     },
     "execution_count": 4,
     "metadata": {},
     "output_type": "execute_result"
    }
   ],
   "source": [
    "titles = pd.read_csv('titles.csv')\n",
    "titles.head()"
   ]
  },
  {
   "cell_type": "code",
   "execution_count": null,
   "id": "4ed38001",
   "metadata": {},
   "outputs": [],
   "source": []
  },
  {
   "cell_type": "markdown",
   "id": "778a8c75",
   "metadata": {},
   "source": [
    "# How many movies are listed in the titles dataframe?"
   ]
  },
  {
   "cell_type": "code",
   "execution_count": 5,
   "id": "6bdf488e",
   "metadata": {},
   "outputs": [
    {
     "data": {
      "text/plain": [
       "244914"
      ]
     },
     "execution_count": 5,
     "metadata": {},
     "output_type": "execute_result"
    }
   ],
   "source": [
    "titles.shape[0]"
   ]
  },
  {
   "cell_type": "markdown",
   "id": "556942b9",
   "metadata": {},
   "source": [
    "There are 244914 movies in the dataset"
   ]
  },
  {
   "cell_type": "code",
   "execution_count": null,
   "id": "f73aff36",
   "metadata": {},
   "outputs": [],
   "source": []
  },
  {
   "cell_type": "markdown",
   "id": "5d7dffa6",
   "metadata": {},
   "source": [
    "# What are the earliest two films listed in the titles dataframe?¶"
   ]
  },
  {
   "cell_type": "code",
   "execution_count": 7,
   "id": "cb262e01",
   "metadata": {},
   "outputs": [
    {
     "data": {
      "text/html": [
       "<div>\n",
       "<style scoped>\n",
       "    .dataframe tbody tr th:only-of-type {\n",
       "        vertical-align: middle;\n",
       "    }\n",
       "\n",
       "    .dataframe tbody tr th {\n",
       "        vertical-align: top;\n",
       "    }\n",
       "\n",
       "    .dataframe thead th {\n",
       "        text-align: right;\n",
       "    }\n",
       "</style>\n",
       "<table border=\"1\" class=\"dataframe\">\n",
       "  <thead>\n",
       "    <tr style=\"text-align: right;\">\n",
       "      <th></th>\n",
       "      <th>title</th>\n",
       "      <th>year</th>\n",
       "    </tr>\n",
       "  </thead>\n",
       "  <tbody>\n",
       "    <tr>\n",
       "      <th>193222</th>\n",
       "      <td>Miss Jerry</td>\n",
       "      <td>1894</td>\n",
       "    </tr>\n",
       "    <tr>\n",
       "      <th>51388</th>\n",
       "      <td>The Startled Lover</td>\n",
       "      <td>1898</td>\n",
       "    </tr>\n",
       "  </tbody>\n",
       "</table>\n",
       "</div>"
      ],
      "text/plain": [
       "                     title  year\n",
       "193222          Miss Jerry  1894\n",
       "51388   The Startled Lover  1898"
      ]
     },
     "execution_count": 7,
     "metadata": {},
     "output_type": "execute_result"
    }
   ],
   "source": [
    "first = titles.sort_values(by = 'year')\n",
    "first.head(2)"
   ]
  },
  {
   "cell_type": "markdown",
   "id": "7d4ed889",
   "metadata": {},
   "source": [
    "Miss Jerry and The Startled Lover are the first two films listed\n"
   ]
  },
  {
   "cell_type": "markdown",
   "id": "093c4242",
   "metadata": {},
   "source": [
    "# How many movies have the title \"Hamlet\"?"
   ]
  },
  {
   "cell_type": "code",
   "execution_count": 11,
   "id": "1843a1d4",
   "metadata": {},
   "outputs": [
    {
     "data": {
      "text/plain": [
       "title    20\n",
       "year     20\n",
       "dtype: int64"
      ]
     },
     "execution_count": 11,
     "metadata": {},
     "output_type": "execute_result"
    }
   ],
   "source": [
    "titles[titles['title'] == \"Hamlet\"].count()"
   ]
  },
  {
   "cell_type": "markdown",
   "id": "28f22b07",
   "metadata": {},
   "source": [
    "20 movies have the word HAMLET in their titles."
   ]
  },
  {
   "cell_type": "markdown",
   "id": "e3b24c56",
   "metadata": {},
   "source": [
    "# How many movies are titled \"North by Northwest\"?"
   ]
  },
  {
   "cell_type": "code",
   "execution_count": 12,
   "id": "522796d8",
   "metadata": {},
   "outputs": [
    {
     "data": {
      "text/plain": [
       "title    1\n",
       "year     1\n",
       "dtype: int64"
      ]
     },
     "execution_count": 12,
     "metadata": {},
     "output_type": "execute_result"
    }
   ],
   "source": [
    "titles[titles['title'] == \"North by Northwest\"].count()"
   ]
  },
  {
   "cell_type": "markdown",
   "id": "cd93ab52",
   "metadata": {},
   "source": [
    "There is only one movie that has the name North by Northwest"
   ]
  },
  {
   "cell_type": "markdown",
   "id": "6ff5b6ea",
   "metadata": {},
   "source": [
    "# When was the first movie titled \"Hamlet\" made?"
   ]
  },
  {
   "cell_type": "code",
   "execution_count": 14,
   "id": "5beb75dc",
   "metadata": {},
   "outputs": [
    {
     "data": {
      "text/html": [
       "<div>\n",
       "<style scoped>\n",
       "    .dataframe tbody tr th:only-of-type {\n",
       "        vertical-align: middle;\n",
       "    }\n",
       "\n",
       "    .dataframe tbody tr th {\n",
       "        vertical-align: top;\n",
       "    }\n",
       "\n",
       "    .dataframe thead th {\n",
       "        text-align: right;\n",
       "    }\n",
       "</style>\n",
       "<table border=\"1\" class=\"dataframe\">\n",
       "  <thead>\n",
       "    <tr style=\"text-align: right;\">\n",
       "      <th></th>\n",
       "      <th>title</th>\n",
       "      <th>year</th>\n",
       "    </tr>\n",
       "  </thead>\n",
       "  <tbody>\n",
       "    <tr>\n",
       "      <th>52521</th>\n",
       "      <td>Hamlet</td>\n",
       "      <td>1910</td>\n",
       "    </tr>\n",
       "  </tbody>\n",
       "</table>\n",
       "</div>"
      ],
      "text/plain": [
       "        title  year\n",
       "52521  Hamlet  1910"
      ]
     },
     "execution_count": 14,
     "metadata": {},
     "output_type": "execute_result"
    }
   ],
   "source": [
    "ham=titles[titles['title'] == \"Hamlet\"].sort_values(by='year')\n",
    "ham.head(1)"
   ]
  },
  {
   "cell_type": "markdown",
   "id": "40437cd8",
   "metadata": {},
   "source": [
    "Hamlet was made in 1910"
   ]
  },
  {
   "cell_type": "markdown",
   "id": "9eca8b3f",
   "metadata": {},
   "source": [
    "# List all of the \"Treasure Island\" movies from earliest to most recent.\n"
   ]
  },
  {
   "cell_type": "code",
   "execution_count": 15,
   "id": "17ed4e9a",
   "metadata": {},
   "outputs": [
    {
     "name": "stdout",
     "output_type": "stream",
     "text": [
      "List all of the Treasure Island movies :\n"
     ]
    },
    {
     "data": {
      "text/html": [
       "<div>\n",
       "<style scoped>\n",
       "    .dataframe tbody tr th:only-of-type {\n",
       "        vertical-align: middle;\n",
       "    }\n",
       "\n",
       "    .dataframe tbody tr th {\n",
       "        vertical-align: top;\n",
       "    }\n",
       "\n",
       "    .dataframe thead th {\n",
       "        text-align: right;\n",
       "    }\n",
       "</style>\n",
       "<table border=\"1\" class=\"dataframe\">\n",
       "  <thead>\n",
       "    <tr style=\"text-align: right;\">\n",
       "      <th></th>\n",
       "      <th>Title</th>\n",
       "      <th>Year</th>\n",
       "    </tr>\n",
       "  </thead>\n",
       "  <tbody>\n",
       "    <tr>\n",
       "      <th>0</th>\n",
       "      <td>Treasure Island</td>\n",
       "      <td>1918</td>\n",
       "    </tr>\n",
       "    <tr>\n",
       "      <th>1</th>\n",
       "      <td>Treasure Island</td>\n",
       "      <td>1920</td>\n",
       "    </tr>\n",
       "    <tr>\n",
       "      <th>2</th>\n",
       "      <td>Treasure Island</td>\n",
       "      <td>1934</td>\n",
       "    </tr>\n",
       "    <tr>\n",
       "      <th>3</th>\n",
       "      <td>Treasure Island</td>\n",
       "      <td>1950</td>\n",
       "    </tr>\n",
       "    <tr>\n",
       "      <th>4</th>\n",
       "      <td>Treasure Island</td>\n",
       "      <td>1972</td>\n",
       "    </tr>\n",
       "    <tr>\n",
       "      <th>5</th>\n",
       "      <td>Treasure Island</td>\n",
       "      <td>1973</td>\n",
       "    </tr>\n",
       "    <tr>\n",
       "      <th>6</th>\n",
       "      <td>Treasure Island</td>\n",
       "      <td>1985</td>\n",
       "    </tr>\n",
       "    <tr>\n",
       "      <th>7</th>\n",
       "      <td>Treasure Island</td>\n",
       "      <td>1999</td>\n",
       "    </tr>\n",
       "  </tbody>\n",
       "</table>\n",
       "</div>"
      ],
      "text/plain": [
       "             Title  Year\n",
       "0  Treasure Island  1918\n",
       "1  Treasure Island  1920\n",
       "2  Treasure Island  1934\n",
       "3  Treasure Island  1950\n",
       "4  Treasure Island  1972\n",
       "5  Treasure Island  1973\n",
       "6  Treasure Island  1985\n",
       "7  Treasure Island  1999"
      ]
     },
     "execution_count": 15,
     "metadata": {},
     "output_type": "execute_result"
    }
   ],
   "source": [
    "ti = titles[titles['title'] == \"Treasure Island\"].sort_values(by='year').values.tolist()\n",
    "print('List all of the Treasure Island movies :')\n",
    "ti = pd.DataFrame(ti, columns =['Title', 'Year'])\n",
    "ti"
   ]
  },
  {
   "cell_type": "markdown",
   "id": "1d1a7e3d",
   "metadata": {},
   "source": [
    "# How many movies were made in the year 1950?"
   ]
  },
  {
   "cell_type": "code",
   "execution_count": 16,
   "id": "dbaccf8c",
   "metadata": {},
   "outputs": [
    {
     "data": {
      "text/plain": [
       "1549"
      ]
     },
     "execution_count": 16,
     "metadata": {},
     "output_type": "execute_result"
    }
   ],
   "source": [
    "titles[titles['year'] == 1960]['title'].count()"
   ]
  },
  {
   "cell_type": "markdown",
   "id": "a692b2f7",
   "metadata": {},
   "source": [
    "1549 movies were made in 1950."
   ]
  },
  {
   "cell_type": "markdown",
   "id": "01ef3efc",
   "metadata": {},
   "source": [
    "# How many movies were made from 1950 through 1959?"
   ]
  },
  {
   "cell_type": "code",
   "execution_count": 17,
   "id": "9dfaec2c",
   "metadata": {},
   "outputs": [
    {
     "data": {
      "text/plain": [
       "12934"
      ]
     },
     "execution_count": 17,
     "metadata": {},
     "output_type": "execute_result"
    }
   ],
   "source": [
    "titles[(titles['year'] >= 1950) & (titles['year'] <= 1959)]['title'].count()"
   ]
  },
  {
   "cell_type": "markdown",
   "id": "85ca41d7",
   "metadata": {},
   "source": [
    "12934 movies were made between the years 1950 and 1959."
   ]
  },
  {
   "cell_type": "markdown",
   "id": "ea2ec597",
   "metadata": {},
   "source": [
    "# In what years has a movie titled \"Batman\" been released?"
   ]
  },
  {
   "cell_type": "code",
   "execution_count": 18,
   "id": "ea890399",
   "metadata": {},
   "outputs": [
    {
     "name": "stdout",
     "output_type": "stream",
     "text": [
      "Batman has been released in the years 1943 1989\n"
     ]
    }
   ],
   "source": [
    "bat = titles[titles['title'] == \"Batman\"]['year'].tolist()\n",
    "bat.sort()\n",
    "print(\"Batman has been released in the years\", *bat)"
   ]
  },
  {
   "cell_type": "markdown",
   "id": "5af6d10e",
   "metadata": {},
   "source": [
    "# How many roles were there in the movie \"Inception\"?"
   ]
  },
  {
   "cell_type": "code",
   "execution_count": 21,
   "id": "ba466bc0",
   "metadata": {},
   "outputs": [],
   "source": [
    "cast=pd.read_csv(\"cast.csv\")"
   ]
  },
  {
   "cell_type": "code",
   "execution_count": 22,
   "id": "b2da9084",
   "metadata": {},
   "outputs": [
    {
     "name": "stdout",
     "output_type": "stream",
     "text": [
      "The number of roles in inception are  78\n"
     ]
    }
   ],
   "source": [
    "roles=cast[cast['title'] == 'Inception']['type'].count()\n",
    "print(\"The number of roles in inception are \",roles)"
   ]
  },
  {
   "cell_type": "markdown",
   "id": "11069263",
   "metadata": {},
   "source": [
    "# How many roles in the movie \"Inception\" are NOT ranked by an \"n\" value?"
   ]
  },
  {
   "cell_type": "code",
   "execution_count": 27,
   "id": "9100f36e",
   "metadata": {},
   "outputs": [
    {
     "name": "stdout",
     "output_type": "stream",
     "text": [
      "The number of roles in the movie Inception that  are NOT ranked by an n value are  27\n"
     ]
    }
   ],
   "source": [
    "non=cast[cast['title'] == 'Inception']['n'].isnull().sum()\n",
    "print(\"The number of roles in the movie Inception that  are NOT ranked by an n value are \",non)"
   ]
  },
  {
   "cell_type": "markdown",
   "id": "a9d2be27",
   "metadata": {},
   "source": [
    "# But how many roles in the movie \"Inception\" did receive an \"n\" value?"
   ]
  },
  {
   "cell_type": "code",
   "execution_count": 26,
   "id": "3ead300b",
   "metadata": {},
   "outputs": [
    {
     "name": "stdout",
     "output_type": "stream",
     "text": [
      "The number of roles in the movie Inception that  recieved an n value are  51\n"
     ]
    }
   ],
   "source": [
    "n=cast[cast['title'] == 'Inception']['n'].notnull().sum()\n",
    "print(\"The number of roles in the movie Inception that  recieved an n value are \",n)"
   ]
  },
  {
   "cell_type": "markdown",
   "id": "6d0bd372",
   "metadata": {},
   "source": [
    "# Display the cast of \"North by Northwest\" in their correct \"n\"-value order, ignoring roles that did not earn a numeric \"n\" value."
   ]
  },
  {
   "cell_type": "code",
   "execution_count": 28,
   "id": "26ac10c4",
   "metadata": {},
   "outputs": [
    {
     "name": "stdout",
     "output_type": "stream",
     "text": [
      "The cast of 'North by Northwest' in their correct 'n'-value order,  ignoring roles that did not earn a numeric 'n' value:\n"
     ]
    },
    {
     "data": {
      "text/html": [
       "<div>\n",
       "<style scoped>\n",
       "    .dataframe tbody tr th:only-of-type {\n",
       "        vertical-align: middle;\n",
       "    }\n",
       "\n",
       "    .dataframe tbody tr th {\n",
       "        vertical-align: top;\n",
       "    }\n",
       "\n",
       "    .dataframe thead th {\n",
       "        text-align: right;\n",
       "    }\n",
       "</style>\n",
       "<table border=\"1\" class=\"dataframe\">\n",
       "  <thead>\n",
       "    <tr style=\"text-align: right;\">\n",
       "      <th></th>\n",
       "      <th>Name</th>\n",
       "      <th>n</th>\n",
       "    </tr>\n",
       "  </thead>\n",
       "  <tbody>\n",
       "    <tr>\n",
       "      <th>0</th>\n",
       "      <td>Cary Grant</td>\n",
       "      <td>1.0</td>\n",
       "    </tr>\n",
       "    <tr>\n",
       "      <th>1</th>\n",
       "      <td>Eva Marie Saint</td>\n",
       "      <td>2.0</td>\n",
       "    </tr>\n",
       "    <tr>\n",
       "      <th>2</th>\n",
       "      <td>James Mason</td>\n",
       "      <td>3.0</td>\n",
       "    </tr>\n",
       "    <tr>\n",
       "      <th>3</th>\n",
       "      <td>Jessie Royce Landis</td>\n",
       "      <td>4.0</td>\n",
       "    </tr>\n",
       "    <tr>\n",
       "      <th>4</th>\n",
       "      <td>Leo G. Carroll</td>\n",
       "      <td>5.0</td>\n",
       "    </tr>\n",
       "    <tr>\n",
       "      <th>5</th>\n",
       "      <td>Josephine Hutchinson</td>\n",
       "      <td>6.0</td>\n",
       "    </tr>\n",
       "    <tr>\n",
       "      <th>6</th>\n",
       "      <td>Philip Ober</td>\n",
       "      <td>7.0</td>\n",
       "    </tr>\n",
       "    <tr>\n",
       "      <th>7</th>\n",
       "      <td>Martin Landau</td>\n",
       "      <td>8.0</td>\n",
       "    </tr>\n",
       "    <tr>\n",
       "      <th>8</th>\n",
       "      <td>Adam Williams</td>\n",
       "      <td>9.0</td>\n",
       "    </tr>\n",
       "    <tr>\n",
       "      <th>9</th>\n",
       "      <td>Edward Platt</td>\n",
       "      <td>10.0</td>\n",
       "    </tr>\n",
       "    <tr>\n",
       "      <th>10</th>\n",
       "      <td>Robert Ellenstein</td>\n",
       "      <td>11.0</td>\n",
       "    </tr>\n",
       "    <tr>\n",
       "      <th>11</th>\n",
       "      <td>Les Tremayne</td>\n",
       "      <td>12.0</td>\n",
       "    </tr>\n",
       "    <tr>\n",
       "      <th>12</th>\n",
       "      <td>Philip Coolidge</td>\n",
       "      <td>13.0</td>\n",
       "    </tr>\n",
       "    <tr>\n",
       "      <th>13</th>\n",
       "      <td>Patrick McVey</td>\n",
       "      <td>14.0</td>\n",
       "    </tr>\n",
       "    <tr>\n",
       "      <th>14</th>\n",
       "      <td>Edward Binns</td>\n",
       "      <td>15.0</td>\n",
       "    </tr>\n",
       "    <tr>\n",
       "      <th>15</th>\n",
       "      <td>Ken Lynch</td>\n",
       "      <td>16.0</td>\n",
       "    </tr>\n",
       "  </tbody>\n",
       "</table>\n",
       "</div>"
      ],
      "text/plain": [
       "                    Name     n\n",
       "0             Cary Grant   1.0\n",
       "1        Eva Marie Saint   2.0\n",
       "2            James Mason   3.0\n",
       "3    Jessie Royce Landis   4.0\n",
       "4         Leo G. Carroll   5.0\n",
       "5   Josephine Hutchinson   6.0\n",
       "6            Philip Ober   7.0\n",
       "7          Martin Landau   8.0\n",
       "8          Adam Williams   9.0\n",
       "9           Edward Platt  10.0\n",
       "10     Robert Ellenstein  11.0\n",
       "11          Les Tremayne  12.0\n",
       "12       Philip Coolidge  13.0\n",
       "13         Patrick McVey  14.0\n",
       "14          Edward Binns  15.0\n",
       "15             Ken Lynch  16.0"
      ]
     },
     "execution_count": 28,
     "metadata": {},
     "output_type": "execute_result"
    }
   ],
   "source": [
    "cast1= cast[cast.n.notnull()].sort_values(by=['n'])\n",
    "l = cast1[cast1['title'] == 'North by Northwest'][['name','n']].values.tolist()\n",
    "print(\"The cast of 'North by Northwest' in their correct 'n'-value order,  ignoring roles that did not earn a numeric 'n' value:\")\n",
    "nbn = pd.DataFrame(l, columns = ['Name', 'n']) \n",
    "nbn"
   ]
  },
  {
   "cell_type": "markdown",
   "id": "4d36369b",
   "metadata": {},
   "source": [
    "# Display the entire cast, in \"n\"-order, of the 1972 film \"Sleuth\"."
   ]
  },
  {
   "cell_type": "code",
   "execution_count": 29,
   "id": "ed155551",
   "metadata": {},
   "outputs": [
    {
     "name": "stdout",
     "output_type": "stream",
     "text": [
      "The entire cast, in \"n\"-order, of the 1972 film \"Sleuth\":\n"
     ]
    },
    {
     "data": {
      "text/html": [
       "<div>\n",
       "<style scoped>\n",
       "    .dataframe tbody tr th:only-of-type {\n",
       "        vertical-align: middle;\n",
       "    }\n",
       "\n",
       "    .dataframe tbody tr th {\n",
       "        vertical-align: top;\n",
       "    }\n",
       "\n",
       "    .dataframe thead th {\n",
       "        text-align: right;\n",
       "    }\n",
       "</style>\n",
       "<table border=\"1\" class=\"dataframe\">\n",
       "  <thead>\n",
       "    <tr style=\"text-align: right;\">\n",
       "      <th></th>\n",
       "      <th>name</th>\n",
       "      <th>n</th>\n",
       "    </tr>\n",
       "  </thead>\n",
       "  <tbody>\n",
       "    <tr>\n",
       "      <th>0</th>\n",
       "      <td>Laurence Olivier</td>\n",
       "      <td>1.0</td>\n",
       "    </tr>\n",
       "    <tr>\n",
       "      <th>1</th>\n",
       "      <td>Michael Caine</td>\n",
       "      <td>2.0</td>\n",
       "    </tr>\n",
       "    <tr>\n",
       "      <th>2</th>\n",
       "      <td>Alec Cawthorne</td>\n",
       "      <td>3.0</td>\n",
       "    </tr>\n",
       "    <tr>\n",
       "      <th>3</th>\n",
       "      <td>John (II) Matthews</td>\n",
       "      <td>4.0</td>\n",
       "    </tr>\n",
       "    <tr>\n",
       "      <th>4</th>\n",
       "      <td>Eve (III) Channing</td>\n",
       "      <td>5.0</td>\n",
       "    </tr>\n",
       "    <tr>\n",
       "      <th>5</th>\n",
       "      <td>Teddy Martin</td>\n",
       "      <td>6.0</td>\n",
       "    </tr>\n",
       "  </tbody>\n",
       "</table>\n",
       "</div>"
      ],
      "text/plain": [
       "                 name    n\n",
       "0    Laurence Olivier  1.0\n",
       "1       Michael Caine  2.0\n",
       "2      Alec Cawthorne  3.0\n",
       "3  John (II) Matthews  4.0\n",
       "4  Eve (III) Channing  5.0\n",
       "5        Teddy Martin  6.0"
      ]
     },
     "execution_count": 29,
     "metadata": {},
     "output_type": "execute_result"
    }
   ],
   "source": [
    "cast2 = cast[cast.n.notnull()].sort_values(by=['n'])\n",
    "print('The entire cast, in \"n\"-order, of the 1972 film \"Sleuth\":')\n",
    "cast2 = cast2.loc[(cast2['title']=='Sleuth') & (cast2['year']==1972)][['name','n']].reset_index(drop=True)\n",
    "cast2"
   ]
  },
  {
   "cell_type": "markdown",
   "id": "119e9a40",
   "metadata": {},
   "source": [
    "# Now display the entire cast, in \"n\"-order, of the 2007 version of \"Sleuth\"."
   ]
  },
  {
   "cell_type": "code",
   "execution_count": 30,
   "id": "68cef75a",
   "metadata": {},
   "outputs": [
    {
     "name": "stdout",
     "output_type": "stream",
     "text": [
      "The entire cast, in \"n\"-order, of the 2007 film \"Sleuth\":\n"
     ]
    },
    {
     "data": {
      "text/html": [
       "<div>\n",
       "<style scoped>\n",
       "    .dataframe tbody tr th:only-of-type {\n",
       "        vertical-align: middle;\n",
       "    }\n",
       "\n",
       "    .dataframe tbody tr th {\n",
       "        vertical-align: top;\n",
       "    }\n",
       "\n",
       "    .dataframe thead th {\n",
       "        text-align: right;\n",
       "    }\n",
       "</style>\n",
       "<table border=\"1\" class=\"dataframe\">\n",
       "  <thead>\n",
       "    <tr style=\"text-align: right;\">\n",
       "      <th></th>\n",
       "      <th>name</th>\n",
       "      <th>n</th>\n",
       "    </tr>\n",
       "  </thead>\n",
       "  <tbody>\n",
       "    <tr>\n",
       "      <th>0</th>\n",
       "      <td>Michael Caine</td>\n",
       "      <td>1.0</td>\n",
       "    </tr>\n",
       "    <tr>\n",
       "      <th>1</th>\n",
       "      <td>Jude Law</td>\n",
       "      <td>2.0</td>\n",
       "    </tr>\n",
       "    <tr>\n",
       "      <th>2</th>\n",
       "      <td>Harold Pinter</td>\n",
       "      <td>3.0</td>\n",
       "    </tr>\n",
       "  </tbody>\n",
       "</table>\n",
       "</div>"
      ],
      "text/plain": [
       "            name    n\n",
       "0  Michael Caine  1.0\n",
       "1       Jude Law  2.0\n",
       "2  Harold Pinter  3.0"
      ]
     },
     "execution_count": 30,
     "metadata": {},
     "output_type": "execute_result"
    }
   ],
   "source": [
    "cast2 = cast[cast.n.notnull()].sort_values(by=['n'])\n",
    "print('The entire cast, in \"n\"-order, of the 2007 film \"Sleuth\":')\n",
    "cast2 = cast2.loc[(cast2['title']=='Sleuth') & (cast2['year']==2007)][['name','n']].reset_index(drop=True)\n",
    "cast2"
   ]
  },
  {
   "cell_type": "markdown",
   "id": "7c1732d3",
   "metadata": {},
   "source": [
    "# How many roles were credited in the silent 1921 version of Hamlet?"
   ]
  },
  {
   "cell_type": "code",
   "execution_count": 32,
   "id": "b8c589c6",
   "metadata": {},
   "outputs": [
    {
     "name": "stdout",
     "output_type": "stream",
     "text": [
      "There were  9 Roles in silent 1921 version of Hamlet \n"
     ]
    }
   ],
   "source": [
    "cast4 = cast.loc[(cast['title']=='Hamlet') & (cast['year']==1921)]\n",
    "a=cast4['character'].count()\n",
    "print(\"There were \",a,\"Roles in silent 1921 version of Hamlet \")"
   ]
  },
  {
   "cell_type": "markdown",
   "id": "28d4eaba",
   "metadata": {},
   "source": [
    "# How many roles were credited in Branagh’s 1996 Hamlet?"
   ]
  },
  {
   "cell_type": "code",
   "execution_count": 33,
   "id": "c61cd272",
   "metadata": {},
   "outputs": [
    {
     "name": "stdout",
     "output_type": "stream",
     "text": [
      "There were  54 Roles in Branagh's 1996 version of Hamlet \n"
     ]
    }
   ],
   "source": [
    "cast4 = cast.loc[(cast['title']=='Hamlet') & (cast['year']==1996)]\n",
    "b=cast4['character'].count()\n",
    "print(\"There were \",b,\"Roles in Branagh's 1996 version of Hamlet \")"
   ]
  },
  {
   "cell_type": "markdown",
   "id": "327194ab",
   "metadata": {},
   "source": [
    "# How many \"Hamlet\" roles have been listed in all film credits through history?"
   ]
  },
  {
   "cell_type": "code",
   "execution_count": 34,
   "id": "fbbadcf7",
   "metadata": {},
   "outputs": [
    {
     "name": "stdout",
     "output_type": "stream",
     "text": [
      "There were  342 Roles in all  version of Hamlet \n"
     ]
    }
   ],
   "source": [
    "cast5 = cast[cast['title'] == 'Hamlet']\n",
    "c=cast5['character'].count()\n",
    "print(\"There were \",c,\"Roles in all  version of Hamlet \")"
   ]
  },
  {
   "cell_type": "markdown",
   "id": "43298373",
   "metadata": {},
   "source": [
    "How many people have played an \"Ophelia\"?"
   ]
  },
  {
   "cell_type": "code",
   "execution_count": 35,
   "id": "796b0d72",
   "metadata": {},
   "outputs": [
    {
     "name": "stdout",
     "output_type": "stream",
     "text": [
      "The number of people that played role of  Ophelia are  117\n"
     ]
    }
   ],
   "source": [
    "print(\"The number of people that played role of  Ophelia are \",\n",
    "cast[cast['character'] == 'Ophelia']['name'].count())"
   ]
  },
  {
   "cell_type": "markdown",
   "id": "0ff7d820",
   "metadata": {},
   "source": [
    "# How many people have played a role called \"The Dude\"?"
   ]
  },
  {
   "cell_type": "code",
   "execution_count": 37,
   "id": "278b9aeb",
   "metadata": {},
   "outputs": [
    {
     "name": "stdout",
     "output_type": "stream",
     "text": [
      "The number of people that played role of  The Dude are  19\n"
     ]
    }
   ],
   "source": [
    "print(\"The number of people that played role of  The Dude are \",cast[cast['character'] == 'The Dude']['name'].count())"
   ]
  },
  {
   "cell_type": "markdown",
   "id": "edb900fa",
   "metadata": {},
   "source": [
    "# How many people have played a role called \"The Stranger\"?"
   ]
  },
  {
   "cell_type": "code",
   "execution_count": 39,
   "id": "8157de10",
   "metadata": {},
   "outputs": [
    {
     "name": "stdout",
     "output_type": "stream",
     "text": [
      "The number of people that played role of  The Stranger are  212\n"
     ]
    }
   ],
   "source": [
    "print(\"The number of people that played role of  The Stranger are \",cast[cast['character'] == 'The Stranger']['name'].count())"
   ]
  },
  {
   "cell_type": "markdown",
   "id": "e1bb2871",
   "metadata": {},
   "source": [
    "# How many roles has Sidney Poitier played throughout his career?"
   ]
  },
  {
   "cell_type": "code",
   "execution_count": 40,
   "id": "e796da77",
   "metadata": {},
   "outputs": [
    {
     "name": "stdout",
     "output_type": "stream",
     "text": [
      "Sidney Poitier has played 43 Roles throughout his career\n"
     ]
    }
   ],
   "source": [
    "print(\"Sidney Poitier has played\",cast[cast['name'] == \"Sidney Poitier\"]['character'].count(),\"Roles throughout his career\")"
   ]
  },
  {
   "cell_type": "markdown",
   "id": "816dbc60",
   "metadata": {},
   "source": [
    "# How many roles has Judi Dench played?"
   ]
  },
  {
   "cell_type": "code",
   "execution_count": 41,
   "id": "108d4a7a",
   "metadata": {},
   "outputs": [
    {
     "name": "stdout",
     "output_type": "stream",
     "text": [
      "Judi Dench has played 55 Roles throughout his career\n"
     ]
    }
   ],
   "source": [
    "print(\"Judi Dench has played\",cast[cast['name'] == \"Judi Dench\"]['character'].count(),\"Roles throughout his career\")"
   ]
  },
  {
   "cell_type": "markdown",
   "id": "de10e7f4",
   "metadata": {},
   "source": [
    "# List the supporting roles (having n=2) played by Cary Grant in the 1940s, in order by year."
   ]
  },
  {
   "cell_type": "code",
   "execution_count": 42,
   "id": "6e27a91f",
   "metadata": {},
   "outputs": [
    {
     "data": {
      "text/html": [
       "<div>\n",
       "<style scoped>\n",
       "    .dataframe tbody tr th:only-of-type {\n",
       "        vertical-align: middle;\n",
       "    }\n",
       "\n",
       "    .dataframe tbody tr th {\n",
       "        vertical-align: top;\n",
       "    }\n",
       "\n",
       "    .dataframe thead th {\n",
       "        text-align: right;\n",
       "    }\n",
       "</style>\n",
       "<table border=\"1\" class=\"dataframe\">\n",
       "  <thead>\n",
       "    <tr style=\"text-align: right;\">\n",
       "      <th></th>\n",
       "      <th>Supporting Role</th>\n",
       "      <th>Year</th>\n",
       "    </tr>\n",
       "  </thead>\n",
       "  <tbody>\n",
       "    <tr>\n",
       "      <th>0</th>\n",
       "      <td>Nick Arden</td>\n",
       "      <td>1940</td>\n",
       "    </tr>\n",
       "    <tr>\n",
       "      <th>1</th>\n",
       "      <td>Roger Adams</td>\n",
       "      <td>1941</td>\n",
       "    </tr>\n",
       "  </tbody>\n",
       "</table>\n",
       "</div>"
      ],
      "text/plain": [
       "  Supporting Role  Year\n",
       "0      Nick Arden  1940\n",
       "1     Roger Adams  1941"
      ]
     },
     "execution_count": 42,
     "metadata": {},
     "output_type": "execute_result"
    }
   ],
   "source": [
    "cast6 = cast[(cast['name'] == \"Cary Grant\") & (cast['n'] == 2) & (cast['year'] >= 1940) & (cast['year'] < 1950)]\n",
    "li = cast6[['character','year']].values.tolist()\n",
    "cg = pd.DataFrame(li, columns = ['Supporting Role', 'Year'])\n",
    "cg"
   ]
  },
  {
   "cell_type": "markdown",
   "id": "75621031",
   "metadata": {},
   "source": [
    "# List the leading roles that Cary Grant played in the 1940s in order by year."
   ]
  },
  {
   "cell_type": "code",
   "execution_count": 43,
   "id": "86302bdc",
   "metadata": {},
   "outputs": [
    {
     "data": {
      "text/html": [
       "<div>\n",
       "<style scoped>\n",
       "    .dataframe tbody tr th:only-of-type {\n",
       "        vertical-align: middle;\n",
       "    }\n",
       "\n",
       "    .dataframe tbody tr th {\n",
       "        vertical-align: top;\n",
       "    }\n",
       "\n",
       "    .dataframe thead th {\n",
       "        text-align: right;\n",
       "    }\n",
       "</style>\n",
       "<table border=\"1\" class=\"dataframe\">\n",
       "  <thead>\n",
       "    <tr style=\"text-align: right;\">\n",
       "      <th></th>\n",
       "      <th>Leading Role</th>\n",
       "      <th>Year</th>\n",
       "    </tr>\n",
       "  </thead>\n",
       "  <tbody>\n",
       "    <tr>\n",
       "      <th>0</th>\n",
       "      <td>Matt Howard</td>\n",
       "      <td>1940</td>\n",
       "    </tr>\n",
       "    <tr>\n",
       "      <th>1</th>\n",
       "      <td>Walter Burns</td>\n",
       "      <td>1940</td>\n",
       "    </tr>\n",
       "    <tr>\n",
       "      <th>2</th>\n",
       "      <td>C. K. Dexter Haven</td>\n",
       "      <td>1940</td>\n",
       "    </tr>\n",
       "    <tr>\n",
       "      <th>3</th>\n",
       "      <td>Johnnie Aysgarth</td>\n",
       "      <td>1941</td>\n",
       "    </tr>\n",
       "    <tr>\n",
       "      <th>4</th>\n",
       "      <td>Leopold Dilg</td>\n",
       "      <td>1942</td>\n",
       "    </tr>\n",
       "    <tr>\n",
       "      <th>5</th>\n",
       "      <td>Patrick 'Pat' O'Toole</td>\n",
       "      <td>1942</td>\n",
       "    </tr>\n",
       "    <tr>\n",
       "      <th>6</th>\n",
       "      <td>Capt. Cassidy</td>\n",
       "      <td>1943</td>\n",
       "    </tr>\n",
       "    <tr>\n",
       "      <th>7</th>\n",
       "      <td>Joe Adams -posing as Joe Bascopolous</td>\n",
       "      <td>1943</td>\n",
       "    </tr>\n",
       "    <tr>\n",
       "      <th>8</th>\n",
       "      <td>Jerry Flynn</td>\n",
       "      <td>1944</td>\n",
       "    </tr>\n",
       "    <tr>\n",
       "      <th>9</th>\n",
       "      <td>Mortimer Brewster</td>\n",
       "      <td>1944</td>\n",
       "    </tr>\n",
       "    <tr>\n",
       "      <th>10</th>\n",
       "      <td>Ernie Mott</td>\n",
       "      <td>1944</td>\n",
       "    </tr>\n",
       "    <tr>\n",
       "      <th>11</th>\n",
       "      <td>Cole Porter</td>\n",
       "      <td>1946</td>\n",
       "    </tr>\n",
       "    <tr>\n",
       "      <th>12</th>\n",
       "      <td>Devlin</td>\n",
       "      <td>1946</td>\n",
       "    </tr>\n",
       "    <tr>\n",
       "      <th>13</th>\n",
       "      <td>Dick Nugent</td>\n",
       "      <td>1947</td>\n",
       "    </tr>\n",
       "    <tr>\n",
       "      <th>14</th>\n",
       "      <td>Dudley</td>\n",
       "      <td>1947</td>\n",
       "    </tr>\n",
       "    <tr>\n",
       "      <th>15</th>\n",
       "      <td>Jim Blandings</td>\n",
       "      <td>1948</td>\n",
       "    </tr>\n",
       "    <tr>\n",
       "      <th>16</th>\n",
       "      <td>Dr. Madison Brown</td>\n",
       "      <td>1948</td>\n",
       "    </tr>\n",
       "    <tr>\n",
       "      <th>17</th>\n",
       "      <td>Captain Henri Rochard</td>\n",
       "      <td>1949</td>\n",
       "    </tr>\n",
       "  </tbody>\n",
       "</table>\n",
       "</div>"
      ],
      "text/plain": [
       "                            Leading Role  Year\n",
       "0                            Matt Howard  1940\n",
       "1                           Walter Burns  1940\n",
       "2                     C. K. Dexter Haven  1940\n",
       "3                       Johnnie Aysgarth  1941\n",
       "4                           Leopold Dilg  1942\n",
       "5                  Patrick 'Pat' O'Toole  1942\n",
       "6                          Capt. Cassidy  1943\n",
       "7   Joe Adams -posing as Joe Bascopolous  1943\n",
       "8                            Jerry Flynn  1944\n",
       "9                      Mortimer Brewster  1944\n",
       "10                            Ernie Mott  1944\n",
       "11                           Cole Porter  1946\n",
       "12                                Devlin  1946\n",
       "13                           Dick Nugent  1947\n",
       "14                                Dudley  1947\n",
       "15                         Jim Blandings  1948\n",
       "16                     Dr. Madison Brown  1948\n",
       "17                 Captain Henri Rochard  1949"
      ]
     },
     "execution_count": 43,
     "metadata": {},
     "output_type": "execute_result"
    }
   ],
   "source": [
    "cast7 = cast[(cast['name'] == \"Cary Grant\") & (cast['n'] == 1) & (cast['year'] >= 1940) & (cast['year'] < 1950)].sort_values(by = ['year'])\n",
    "lis= cast7[['character','year']].values.tolist()\n",
    "cg_lead = pd.DataFrame(lis, columns = ['Leading Role', 'Year'])\n",
    "cg_lead"
   ]
  },
  {
   "cell_type": "markdown",
   "id": "f32ae3f7",
   "metadata": {},
   "source": [
    "# How many roles were available for actors in the 1950s?"
   ]
  },
  {
   "cell_type": "code",
   "execution_count": 47,
   "id": "ed417e0a",
   "metadata": {},
   "outputs": [
    {
     "name": "stdout",
     "output_type": "stream",
     "text": [
      "157738  roles were available for actors in the 1950s\n"
     ]
    }
   ],
   "source": [
    "print(cast[(cast['year'] >= 1950) & (cast['year'] < 1960) & (cast['type'] == 'actor')]['character'].count(),\" roles were available for actors in the 1950s\")"
   ]
  },
  {
   "cell_type": "markdown",
   "id": "830e5843",
   "metadata": {},
   "source": [
    "# How many roles were available for actresses in the 1950s?"
   ]
  },
  {
   "cell_type": "code",
   "execution_count": 52,
   "id": "9a4d1839",
   "metadata": {},
   "outputs": [
    {
     "name": "stdout",
     "output_type": "stream",
     "text": [
      "57733  roles were available for actress in the 1950s\n"
     ]
    }
   ],
   "source": [
    "print(cast[(cast['year'] >= 1950) & (cast['year'] < 1960) & (cast['type'] == 'actress')]['character'].count(),\" roles were available for actress in the 1950s\")"
   ]
  },
  {
   "cell_type": "markdown",
   "id": "bc7575b4",
   "metadata": {},
   "source": [
    "# How many leading roles (n=1) were available from the beginning of film history through 1980?"
   ]
  },
  {
   "cell_type": "code",
   "execution_count": 53,
   "id": "82c35b8b",
   "metadata": {},
   "outputs": [
    {
     "name": "stdout",
     "output_type": "stream",
     "text": [
      "65140 roles (n=1) were available from the beginning of film history through 1980\n"
     ]
    }
   ],
   "source": [
    "print(cast[(cast['year'] >= 1894) & (cast['year'] <= 1980) & (cast['n'] == 1)]['character'].count(),\"roles (n=1) were available from the beginning of film history through 1980\")"
   ]
  },
  {
   "cell_type": "markdown",
   "id": "52f1e1da",
   "metadata": {},
   "source": [
    "# How many non-leading roles were available through from the beginning of film history through 1980?"
   ]
  },
  {
   "cell_type": "code",
   "execution_count": 54,
   "id": "b65e3531",
   "metadata": {},
   "outputs": [
    {
     "name": "stdout",
     "output_type": "stream",
     "text": [
      "669320 non-leading roles were available through from the beginning of film history through 1980\n"
     ]
    }
   ],
   "source": [
    "print(cast[(cast['year'] >= 1894) & (cast['year'] <= 1980) & (cast['n'] > 1)]['character'].count(),\"non-leading roles were available through from the beginning of film history through 1980\")"
   ]
  },
  {
   "cell_type": "markdown",
   "id": "88e1c18f",
   "metadata": {},
   "source": [
    "# How many roles through 1980 were minor enough that they did not warrant a numeric \"n\" rank?"
   ]
  },
  {
   "cell_type": "code",
   "execution_count": 55,
   "id": "ad0ee283",
   "metadata": {},
   "outputs": [
    {
     "name": "stdout",
     "output_type": "stream",
     "text": [
      "448347 roles through 1980 were minor enough that they did not warrant a numeric n rank\n"
     ]
    }
   ],
   "source": [
    "print(cast[(cast['year'] >= 1894) & (cast['year'] <= 1980)]['n'].isnull().sum(),\"roles through 1980 were minor enough that they did not warrant a numeric n rank\")"
   ]
  },
  {
   "cell_type": "code",
   "execution_count": null,
   "id": "bb78cefd",
   "metadata": {},
   "outputs": [],
   "source": []
  }
 ],
 "metadata": {
  "kernelspec": {
   "display_name": "Python 3",
   "language": "python",
   "name": "python3"
  },
  "language_info": {
   "codemirror_mode": {
    "name": "ipython",
    "version": 3
   },
   "file_extension": ".py",
   "mimetype": "text/x-python",
   "name": "python",
   "nbconvert_exporter": "python",
   "pygments_lexer": "ipython3",
   "version": "3.8.8"
  }
 },
 "nbformat": 4,
 "nbformat_minor": 5
}
