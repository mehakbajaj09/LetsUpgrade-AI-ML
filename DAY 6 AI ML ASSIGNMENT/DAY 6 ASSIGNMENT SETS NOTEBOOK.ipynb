{
 "cells": [
  {
   "cell_type": "markdown",
   "metadata": {},
   "source": [
    "QUES 3. CREATE YOUR OWN NOTEBOOK FOR SETS."
   ]
  },
  {
   "cell_type": "markdown",
   "metadata": {},
   "source": [
    "ANS. SETS in Python are defined as an unordered and unidexed collection which is written inside curly brackets. It can contain words as well as numbers. example of a set is as follows:"
   ]
  },
  {
   "cell_type": "code",
   "execution_count": 1,
   "metadata": {},
   "outputs": [
    {
     "name": "stdout",
     "output_type": "stream",
     "text": [
      "{'alligator', 'snake', 'monkey', 'tiger', 'polar bear', 'panda', 'rat'}\n"
     ]
    }
   ],
   "source": [
    "new_set = {\"tiger\", \"rat\", \"monkey\", \"snake\", \"panda\", \"polar bear\", \"alligator\"}\n",
    "print(new_set)"
   ]
  },
  {
   "cell_type": "markdown",
   "metadata": {},
   "source": [
    "There are many different functions that can be performed on sets. These functions will be defined below."
   ]
  },
  {
   "cell_type": "markdown",
   "metadata": {},
   "source": [
    "1. ACCESS THE ITEM:\n",
    "we can do this by using the FOR loop and IN keyword to access specific items in our sets. For example:"
   ]
  },
  {
   "cell_type": "code",
   "execution_count": 2,
   "metadata": {},
   "outputs": [
    {
     "name": "stdout",
     "output_type": "stream",
     "text": [
      "alligator\n",
      "snake\n",
      "monkey\n",
      "tiger\n",
      "polar bear\n",
      "panda\n",
      "rat\n"
     ]
    }
   ],
   "source": [
    "new_set = {\"tiger\", \"rat\", \"monkey\", \"snake\", \"panda\", \"polar bear\", \"alligator\"}\n",
    "\n",
    "for x in new_set:\n",
    "    print(x)"
   ]
  },
  {
   "cell_type": "code",
   "execution_count": 5,
   "metadata": {},
   "outputs": [
    {
     "name": "stdout",
     "output_type": "stream",
     "text": [
      "True\n"
     ]
    }
   ],
   "source": [
    "new_set = {\"tiger\", \"rat\", \"monkey\", \"snake\", \"panda\", \"polar bear\", \"alligator\"}\n",
    "print(\"snake\" in new_set)   #this will let us know that the desired item is present in the list or not in terms of true or false."
   ]
  },
  {
   "cell_type": "markdown",
   "metadata": {},
   "source": [
    "2. ADD AND UPDATE: We can add a new item to our set by using the add() syntax. We can add more than one items in the set by using the update() syntax. For example:\n"
   ]
  },
  {
   "cell_type": "code",
   "execution_count": 6,
   "metadata": {},
   "outputs": [
    {
     "name": "stdout",
     "output_type": "stream",
     "text": [
      "{'horse', 'alligator', 'snake', 'monkey', 'tiger', 'polar bear', 'panda', 'rat'}\n"
     ]
    }
   ],
   "source": [
    "new_set = {\"tiger\", \"rat\", \"monkey\", \"snake\", \"panda\", \"polar bear\", \"alligator\"}\n",
    "new_set.add(\"horse\")  #FOR ADDING ONE ITEM.\n",
    "print(new_set)"
   ]
  },
  {
   "cell_type": "code",
   "execution_count": 7,
   "metadata": {},
   "outputs": [
    {
     "name": "stdout",
     "output_type": "stream",
     "text": [
      "{'horse', 'rabbit', 'alligator', 'snake', 'tortoise', 'monkey', 'tiger', 'polar bear', 'panda', 'rat'}\n"
     ]
    }
   ],
   "source": [
    "new_set = {\"tiger\", \"rat\", \"monkey\", \"snake\", \"panda\", \"polar bear\", \"alligator\"}\n",
    "new_set.update([\"horse\", \"rabbit\", \"tortoise\"])\n",
    "print(new_set)"
   ]
  },
  {
   "cell_type": "markdown",
   "metadata": {},
   "source": [
    "3. TO PREDICT LENGTH OF A SET: We can predict the length of the set, i.e. know how many values a set has by using the len() syntax. For example:"
   ]
  },
  {
   "cell_type": "code",
   "execution_count": 9,
   "metadata": {},
   "outputs": [
    {
     "name": "stdout",
     "output_type": "stream",
     "text": [
      "7\n"
     ]
    }
   ],
   "source": [
    "new_set = {\"tiger\", \"rat\", \"monkey\", \"snake\", \"panda\", \"polar bear\", \"alligator\"}\n",
    "\n",
    "print(len(new_set))"
   ]
  },
  {
   "cell_type": "markdown",
   "metadata": {},
   "source": [
    "4. REMOVE OR DISCARD: We can also remove items from the set by using the remove() or discard() syntax. For example:"
   ]
  },
  {
   "cell_type": "code",
   "execution_count": 10,
   "metadata": {},
   "outputs": [
    {
     "name": "stdout",
     "output_type": "stream",
     "text": [
      "{'alligator', 'snake', 'monkey', 'tiger', 'polar bear', 'panda'}\n"
     ]
    }
   ],
   "source": [
    "new_set = {\"tiger\", \"rat\", \"monkey\", \"snake\", \"panda\", \"polar bear\", \"alligator\"}\n",
    "new_set.remove(\"rat\")\n",
    "print(new_set)"
   ]
  },
  {
   "cell_type": "code",
   "execution_count": 12,
   "metadata": {},
   "outputs": [
    {
     "ename": "KeyError",
     "evalue": "'rabbit'",
     "output_type": "error",
     "traceback": [
      "\u001b[1;31m---------------------------------------------------------------------------\u001b[0m",
      "\u001b[1;31mKeyError\u001b[0m                                  Traceback (most recent call last)",
      "\u001b[1;32m<ipython-input-12-017eb06dd838>\u001b[0m in \u001b[0;36m<module>\u001b[1;34m\u001b[0m\n\u001b[0;32m      1\u001b[0m \u001b[0mnew_set\u001b[0m \u001b[1;33m=\u001b[0m \u001b[1;33m{\u001b[0m\u001b[1;34m\"tiger\"\u001b[0m\u001b[1;33m,\u001b[0m \u001b[1;34m\"rat\"\u001b[0m\u001b[1;33m,\u001b[0m \u001b[1;34m\"monkey\"\u001b[0m\u001b[1;33m,\u001b[0m \u001b[1;34m\"snake\"\u001b[0m\u001b[1;33m,\u001b[0m \u001b[1;34m\"panda\"\u001b[0m\u001b[1;33m,\u001b[0m \u001b[1;34m\"polar bear\"\u001b[0m\u001b[1;33m,\u001b[0m \u001b[1;34m\"alligator\"\u001b[0m\u001b[1;33m}\u001b[0m\u001b[1;33m\u001b[0m\u001b[1;33m\u001b[0m\u001b[0m\n\u001b[1;32m----> 2\u001b[1;33m \u001b[0mnew_set\u001b[0m\u001b[1;33m.\u001b[0m\u001b[0mremove\u001b[0m\u001b[1;33m(\u001b[0m\u001b[1;34m\"rabbit\"\u001b[0m\u001b[1;33m)\u001b[0m  \u001b[1;31m#IF WE TRY TO REMOVE AN ITEM THAT IS NOT IN THE SET, THE remove() SYNTAX WILL GIVE AN ERROR.\u001b[0m\u001b[1;33m\u001b[0m\u001b[1;33m\u001b[0m\u001b[0m\n\u001b[0m\u001b[0;32m      3\u001b[0m \u001b[0mprint\u001b[0m\u001b[1;33m(\u001b[0m\u001b[0mnew_set\u001b[0m\u001b[1;33m)\u001b[0m\u001b[1;33m\u001b[0m\u001b[1;33m\u001b[0m\u001b[0m\n",
      "\u001b[1;31mKeyError\u001b[0m: 'rabbit'"
     ]
    }
   ],
   "source": [
    "new_set = {\"tiger\", \"rat\", \"monkey\", \"snake\", \"panda\", \"polar bear\", \"alligator\"}\n",
    "new_set.remove(\"rabbit\")  #IF WE TRY TO REMOVE AN ITEM THAT IS NOT IN THE SET, THE remove() SYNTAX WILL GIVE AN ERROR.\n",
    "print(new_set)"
   ]
  },
  {
   "cell_type": "code",
   "execution_count": 15,
   "metadata": {},
   "outputs": [
    {
     "name": "stdout",
     "output_type": "stream",
     "text": [
      "{'alligator', 'snake', 'monkey', 'polar bear', 'panda', 'rat'}\n"
     ]
    }
   ],
   "source": [
    "new_set = {\"tiger\", \"rat\", \"monkey\", \"snake\", \"panda\", \"polar bear\", \"alligator\"}\n",
    "new_set.discard(\"tiger\")  #DISCARD DOES THE SAME FUNCTION AS REMOVE\n",
    "print(new_set)"
   ]
  },
  {
   "cell_type": "code",
   "execution_count": 14,
   "metadata": {},
   "outputs": [
    {
     "name": "stdout",
     "output_type": "stream",
     "text": [
      "{'alligator', 'snake', 'monkey', 'tiger', 'polar bear', 'panda', 'rat'}\n"
     ]
    }
   ],
   "source": [
    "new_set = {\"tiger\", \"rat\", \"monkey\", \"snake\", \"panda\", \"polar bear\", \"alligator\"}\n",
    "new_set.discard(\"tortoise\") #DISCARD DOES NOT GIVE AN ERROR EVEN WHEN THE ITEM TO BE REMOVED IS NOT IN THE SET.\n",
    "print(new_set)"
   ]
  },
  {
   "cell_type": "markdown",
   "metadata": {},
   "source": [
    "5. POP(): WE CAN ALSO REMOVE AN ITEM USING THE pop() SYNTAX. THIS WILL REMOVE THE LAST ITEM IN THE SET. BUT IT HAS A DRAWBACK. SETS ARE UNORDERD, AND WE CAN NEVER PREDICT WHICH ITEM FROM THE SET WILL BE REMOVED, AS THE ORDER KEEPS ON CHANGING. THE ITEM THAT IS REMOVED IS THE RESULT OF THE pop() SYNTAX. FOR EXAMPLE:"
   ]
  },
  {
   "cell_type": "code",
   "execution_count": 16,
   "metadata": {},
   "outputs": [
    {
     "name": "stdout",
     "output_type": "stream",
     "text": [
      "alligator\n",
      "{'snake', 'monkey', 'tiger', 'polar bear', 'panda', 'rat'}\n"
     ]
    }
   ],
   "source": [
    "new_set = {\"tiger\", \"rat\", \"monkey\", \"snake\", \"panda\", \"polar bear\", \"alligator\"}\n",
    "a = new_set.pop()\n",
    "print(a)          # HERE ALLIGATOR IS THE ITEM REMOVED FROM THE LIST.\n",
    "print(new_set)"
   ]
  },
  {
   "cell_type": "markdown",
   "metadata": {},
   "source": [
    "6. CLEAR: WE CAN REMOVE ALL THE ITEMS IN THE SET BY USING THE clear() SYNTAX. THIS STEP WILL RENDER OUR SET TO BE EMPTY. FOR EXAMPLE:"
   ]
  },
  {
   "cell_type": "code",
   "execution_count": 17,
   "metadata": {},
   "outputs": [
    {
     "name": "stdout",
     "output_type": "stream",
     "text": [
      "set()\n"
     ]
    }
   ],
   "source": [
    "new_set = {\"tiger\", \"rat\", \"monkey\", \"snake\", \"panda\", \"polar bear\", \"alligator\"}\n",
    "new_set.clear()\n",
    "print(new_set)"
   ]
  },
  {
   "cell_type": "markdown",
   "metadata": {},
   "source": [
    "7. DELETE: WE CAN DELETE OUR SET IN ONE VERY EASY STEP, i.e. BY USING THE del() SYNTAX. FOR EXAMPLE:"
   ]
  },
  {
   "cell_type": "code",
   "execution_count": 24,
   "metadata": {},
   "outputs": [
    {
     "name": "stdout",
     "output_type": "stream",
     "text": [
      "{'alligator', 'snake', 'monkey', 'tiger', 'polar bear', 'panda', 'rat'}\n"
     ]
    },
    {
     "ename": "NameError",
     "evalue": "name 'new_set' is not defined",
     "output_type": "error",
     "traceback": [
      "\u001b[1;31m---------------------------------------------------------------------------\u001b[0m",
      "\u001b[1;31mNameError\u001b[0m                                 Traceback (most recent call last)",
      "\u001b[1;32m<ipython-input-24-d4ad9ffff563>\u001b[0m in \u001b[0;36m<module>\u001b[1;34m\u001b[0m\n\u001b[0;32m      3\u001b[0m \u001b[1;33m\u001b[0m\u001b[0m\n\u001b[0;32m      4\u001b[0m \u001b[1;32mdel\u001b[0m \u001b[0mnew_set\u001b[0m\u001b[1;33m\u001b[0m\u001b[1;33m\u001b[0m\u001b[0m\n\u001b[1;32m----> 5\u001b[1;33m \u001b[0mprint\u001b[0m\u001b[1;33m(\u001b[0m\u001b[0mnew_set\u001b[0m\u001b[1;33m)\u001b[0m\u001b[1;33m\u001b[0m\u001b[1;33m\u001b[0m\u001b[0m\n\u001b[0m",
      "\u001b[1;31mNameError\u001b[0m: name 'new_set' is not defined"
     ]
    }
   ],
   "source": [
    "new_set = {\"tiger\", \"rat\", \"monkey\", \"snake\", \"panda\", \"polar bear\", \"alligator\"}\n",
    "print(new_set)\n",
    "\n",
    "del new_set\n",
    "print(new_set)  # THIS STEP WILL GIVE US AN ERROR AS SHOWN BELOW, BECAUSE THE SET NO LONGER EXISTS, i.e. IT HAS BEEN DELETED ALREADY."
   ]
  },
  {
   "cell_type": "markdown",
   "metadata": {},
   "source": [
    "8. JOIN TWO SETS: WE CAN JOIN TWO VERY DIFFERENT SETS BY 2 DIFFERENT METHODS, ONE OF THEM IS USING THE union() SYNTAX, WHICH WILL GIVE US A COMPLETELY NEW SET THAT HAS ALL THE ITEMS FROM BOTH THE SETS. FOR EXAMPLE:"
   ]
  },
  {
   "cell_type": "code",
   "execution_count": 25,
   "metadata": {},
   "outputs": [
    {
     "name": "stdout",
     "output_type": "stream",
     "text": [
      "{'alligator', 'snake', 'mango', 'apricot', 'monkey', 'watermelon', 'tiger', 'polar bear', 'panda', 'rat'}\n"
     ]
    }
   ],
   "source": [
    "new_set = {\"tiger\", \"rat\", \"monkey\", \"snake\", \"panda\", \"polar bear\", \"alligator\"}\n",
    "newset = {\"mango\", \"apricot\", \"watermelon\"}\n",
    "\n",
    "new_SET = new_set.union(newset)\n",
    "\n",
    "print(new_SET)"
   ]
  },
  {
   "cell_type": "markdown",
   "metadata": {},
   "source": [
    "THE OTHER METHOD TO JOIN TWO SETS IS THE update() SYNTAX, WHICH INSERTS VALUE OF ONE SET INTO THE ANOTHER. FOR EXAMPLE:"
   ]
  },
  {
   "cell_type": "code",
   "execution_count": 26,
   "metadata": {},
   "outputs": [
    {
     "name": "stdout",
     "output_type": "stream",
     "text": [
      "{'alligator', 'snake', 'mango', 'apricot', 'monkey', 'watermelon', 'tiger', 'polar bear', 'panda', 'rat'}\n"
     ]
    }
   ],
   "source": [
    "new_set = {\"tiger\", \"rat\", \"monkey\", \"snake\", \"panda\", \"polar bear\", \"alligator\"}\n",
    "newset = {\"mango\", \"apricot\", \"watermelon\"}\n",
    "\n",
    "new_set.update(newset)\n",
    "\n",
    "print(new_set)"
   ]
  },
  {
   "cell_type": "markdown",
   "metadata": {},
   "source": [
    "9. SET CONSTRUCTOR: WE CAN ALSO USE set() CONSTRUCTOR TO CREATE A SET. FOR EXAMPLE:\n"
   ]
  },
  {
   "cell_type": "code",
   "execution_count": 28,
   "metadata": {},
   "outputs": [
    {
     "name": "stdout",
     "output_type": "stream",
     "text": [
      "{'alligator', 'snake', 'monkey', 'tiger', 'polar bear', 'panda', 'rat'}\n"
     ]
    }
   ],
   "source": [
    "new_set = set((\"tiger\", \"rat\", \"monkey\", \"snake\", \"panda\", \"polar bear\", \"alligator\"))\n",
    "# THE DOUBLE BRACKETS ARE USED TO CREATE THE SET, AND WE CAN CREATE A SET WITHOUT SPECIFYING A SET USING CURLY BRACKET.\n",
    "\n",
    "print(new_set)\n"
   ]
  },
  {
   "cell_type": "markdown",
   "metadata": {},
   "source": [
    "10. COPY: THIS WILL RETURN A COPY OF THE SET, BY USING THE copy() SYNTAX. FOR EXAMPLE:"
   ]
  },
  {
   "cell_type": "code",
   "execution_count": 34,
   "metadata": {},
   "outputs": [
    {
     "name": "stdout",
     "output_type": "stream",
     "text": [
      "{'alligator', 'snake', 'monkey', 'tiger', 'polar bear', 'panda', 'rat'}\n"
     ]
    }
   ],
   "source": [
    "new_set = {\"tiger\", \"rat\", \"monkey\", \"snake\", \"panda\", \"polar bear\", \"alligator\"}\n",
    "new_set.copy()\n",
    "print(new_set)"
   ]
  },
  {
   "cell_type": "markdown",
   "metadata": {},
   "source": [
    "11. DIFFERENCE: THE difference() SYNTAX WILL RETURN THE DIFFERENCE BETWEEN TWO OR MORE SETS. FOR EXAMPLE:"
   ]
  },
  {
   "cell_type": "code",
   "execution_count": 35,
   "metadata": {},
   "outputs": [
    {
     "name": "stdout",
     "output_type": "stream",
     "text": [
      "{'alligator', 'rat', 'tiger'}\n"
     ]
    }
   ],
   "source": [
    "new_set = {\"tiger\", \"rat\", \"monkey\", \"snake\", \"panda\", \"polar bear\", \"alligator\"}\n",
    "newset = {\"mango\", \"apricot\", \"watermelon\", \"monkey\", \"snake\", \"panda\", \"polar bear\"}\n",
    "\n",
    "newSET = new_set.difference(newset)\n",
    "\n",
    "print(newSET)"
   ]
  },
  {
   "cell_type": "markdown",
   "metadata": {},
   "source": [
    "12. DIFFERENEC UPDATE: THE difference_update() SYNTAX REMOVES THE ITEMS OF A SET THAT ARE ALSO PRESENT IN ANOTHER SPECIFIED SET. FOR EXAMPLE:"
   ]
  },
  {
   "cell_type": "code",
   "execution_count": 37,
   "metadata": {},
   "outputs": [
    {
     "name": "stdout",
     "output_type": "stream",
     "text": [
      "{'alligator', 'tiger', 'rat'}\n"
     ]
    }
   ],
   "source": [
    "new_set = {\"tiger\", \"rat\", \"monkey\", \"snake\", \"panda\", \"polar bear\", \"alligator\"}\n",
    "newset = {\"mango\", \"apricot\", \"watermelon\", \"monkey\", \"snake\", \"panda\", \"polar bear\"}\n",
    "\n",
    "new_set.difference_update(newset)\n",
    "\n",
    "print(new_set)"
   ]
  },
  {
   "cell_type": "markdown",
   "metadata": {},
   "source": [
    "13. INTERSECTION: WE CAN GET A NEW SET WHICH SHOWS US WHICH ITEMS ARE SAME IN TWO OR MORE SPECIFIED SETS, i.e. WHERE THE TWO SETS INTERSECT, USING THE intersect() AYNTAX. FOR EXAMPLE:"
   ]
  },
  {
   "cell_type": "code",
   "execution_count": 42,
   "metadata": {},
   "outputs": [
    {
     "name": "stdout",
     "output_type": "stream",
     "text": [
      "{'panda', 'monkey', 'polar bear', 'snake'}\n"
     ]
    }
   ],
   "source": [
    "new_set = {\"tiger\", \"rat\", \"monkey\", \"snake\", \"panda\", \"polar bear\", \"alligator\"}\n",
    "newset = {\"mango\", \"apricot\", \"watermelon\", \"monkey\", \"snake\", \"panda\", \"polar bear\"}\n",
    "\n",
    "newSET = new_set.intersection(newset)\n",
    "\n",
    "print(newSET)"
   ]
  },
  {
   "cell_type": "code",
   "execution_count": 41,
   "metadata": {},
   "outputs": [
    {
     "name": "stdout",
     "output_type": "stream",
     "text": [
      "{'polar bear', 'panda'}\n"
     ]
    }
   ],
   "source": [
    "new_set = {\"tiger\", \"rat\", \"monkey\", \"snake\", \"panda\", \"polar bear\", \"alligator\"}\n",
    "newset = {\"mango\", \"apricot\", \"watermelon\", \"monkey\", \"snake\", \"panda\", \"polar bear\"}\n",
    "newset1 ={\"potato\", \"tomato\", \"brinjal\", \"bottlegourd\", \"panda\", \"polar bear\"}\n",
    "\n",
    "newSET = new_set.intersection(newset, newset1)\n",
    "\n",
    "print(newSET)"
   ]
  },
  {
   "cell_type": "markdown",
   "metadata": {},
   "source": [
    "14. INTERSECTION UPDATE: THIS WILL LET US REMOVE THE ITEMS IN OUR SET THAT ARE NOT IN OTHER SETS AS WELL WHEN WE USE THE intersection_update() SYNTAX. FOR EXAMPLE:"
   ]
  },
  {
   "cell_type": "code",
   "execution_count": 54,
   "metadata": {},
   "outputs": [
    {
     "name": "stdout",
     "output_type": "stream",
     "text": [
      "{'polar bear', 'panda'}\n"
     ]
    }
   ],
   "source": [
    "new_set = {\"tiger\", \"rat\", \"monkey\", \"snake\", \"panda\", \"polar bear\", \"alligator\"}\n",
    "newset = {\"mango\", \"apricot\", \"watermelon\", \"monkey\", \"snake\", \"panda\", \"polar bear\"}\n",
    "newset1 ={\"potato\", \"tomato\", \"brinjal\", \"bottlegourd\", \"panda\", \"polar bear\"}\n",
    "\n",
    "new_set.intersection_update(newset, newset1)\n",
    "\n",
    "print(new_set)"
   ]
  },
  {
   "cell_type": "markdown",
   "metadata": {},
   "source": [
    "15.ISDISJOINT: WE CAN KNOW IF TWO SETS HAVE AN INTERSECTION OR NOT BY USING THE isdisjoint() SYNTAX. IT WILL RETURN TRUE IN THE CASE OF NO INTERSECTION AND FALSE IN THE CASE ANY INTERSECTION IS PRESENT. FOR EXAMPLE:"
   ]
  },
  {
   "cell_type": "code",
   "execution_count": 58,
   "metadata": {},
   "outputs": [
    {
     "name": "stdout",
     "output_type": "stream",
     "text": [
      "False\n"
     ]
    }
   ],
   "source": [
    "new_set = {\"tiger\", \"rat\", \"monkey\", \"snake\", \"panda\", \"polar bear\", \"alligator\"}\n",
    "newset = {\"mango\", \"apricot\", \"watermelon\", \"monkey\", \"snake\", \"panda\", \"polar bear\"}\n",
    "\n",
    "newSET = new_set.isdisjoint(newset)\n",
    "\n",
    "print(newSET)\n",
    "\n",
    "#THE RESULT IS FALSE AS THERE ARE INTERSECTIONS PRESENT. \n"
   ]
  },
  {
   "cell_type": "markdown",
   "metadata": {},
   "source": [
    "16.ISSUBSET: THIS WILL LET US KNOW IF A SET IS SUBSET OR NOT BY USING THE issubset() SYNTAX. It wil return TRUE if all the items of one set are present in the other and FALSE if that is not the case. FOR EXAMPLE:"
   ]
  },
  {
   "cell_type": "code",
   "execution_count": 61,
   "metadata": {},
   "outputs": [
    {
     "name": "stdout",
     "output_type": "stream",
     "text": [
      "True\n"
     ]
    }
   ],
   "source": [
    "new_set = {\"monkey\", \"snake\", \"panda\", \"polar bear\"}\n",
    "newset = {\"monkey\", \"snake\", \"panda\", \"polar bear\"}\n",
    "\n",
    "newSET = new_set.issubset(newset)\n",
    "\n",
    "print(newSET) \n",
    "# THIS WILL RETURN TRUE AS ITEMS OF SET new_set ARE PRESENGT IN SET newset.\n"
   ]
  },
  {
   "cell_type": "code",
   "execution_count": 59,
   "metadata": {},
   "outputs": [
    {
     "name": "stdout",
     "output_type": "stream",
     "text": [
      "False\n"
     ]
    }
   ],
   "source": [
    "new_set = {\"tiger\", \"rat\", \"monkey\", \"snake\", \"panda\", \"polar bear\", \"alligator\"} # this is x\n",
    "newset = {\"mango\", \"apricot\", \"watermelon\", \"monkey\", \"snake\", \"panda\", \"polar bear\"} # this is y\n",
    "\n",
    "newSET = new_set.issubset(newset) #SYNTAX IS : a = x.issubset(y)\n",
    "\n",
    "print(newSET)\n"
   ]
  },
  {
   "cell_type": "markdown",
   "metadata": {},
   "source": [
    "17.ISSUPERSET: THIS WILL LET US KNOW IF ITEMS OF ONE SET ARE PRESENT IN ANOTHER SET. FOR EXAMPLE:"
   ]
  },
  {
   "cell_type": "code",
   "execution_count": 67,
   "metadata": {},
   "outputs": [
    {
     "name": "stdout",
     "output_type": "stream",
     "text": [
      "False\n"
     ]
    }
   ],
   "source": [
    "new_set = {\"tiger\", \"rat\", \"monkey\", \"snake\", \"panda\", \"polar bear\", \"alligator\"} # this is x\n",
    "newset = {\"mango\", \"apricot\", \"watermelon\", \"monkey\", \"snake\", \"panda\", \"polar bear\"} # this is y\n",
    "\n",
    "newSET = new_set.issuperset(newset) #SYNTAX IS : a = x.issuperset(y)\n",
    "\n",
    "print(newSET)\n",
    "\n",
    "#THIS CAME OUT TO BE FALSE AS NOT ALL ITEMS OF SET newset ARE PRESENT IN THE SET new_set.\n"
   ]
  },
  {
   "cell_type": "code",
   "execution_count": 69,
   "metadata": {},
   "outputs": [
    {
     "name": "stdout",
     "output_type": "stream",
     "text": [
      "True\n"
     ]
    }
   ],
   "source": [
    "new_set = {\"tiger\", \"rat\", \"monkey\", \"snake\", \"panda\", \"polar bear\", \"alligator\"}\n",
    "newset = {\"monkey\", \"snake\", \"panda\", \"polar bear\"}\n",
    "\n",
    "newSET = new_set.issuperset(newset)\n",
    "\n",
    "print(newSET)\n",
    "# THIS CAME OUT TRUE AS ALL THE ITEMS IN SET newset ARE PRESENT IN THE SET new_set."
   ]
  },
  {
   "cell_type": "markdown",
   "metadata": {},
   "source": [
    "18. SYMMETRIC DIFFERENCE: THIS WILL CREATE A NEW SET THAT HAS ITEMS FROM BOTH THE SETS BUT DOES NOT HAVE ITEMS THAT ARE COMMONLY PRESENT IN BOTH THE SETS. WE USE THE z= x.symmetric_difference(y) SYNTAX. FOR EXAMPLE:"
   ]
  },
  {
   "cell_type": "code",
   "execution_count": 71,
   "metadata": {},
   "outputs": [
    {
     "name": "stdout",
     "output_type": "stream",
     "text": [
      "{'alligator', 'mango', 'apricot', 'watermelon', 'tiger', 'rat'}\n"
     ]
    }
   ],
   "source": [
    "new_set = {\"tiger\", \"rat\", \"monkey\", \"snake\", \"panda\", \"polar bear\", \"alligator\"} # this is x\n",
    "newset = {\"mango\", \"apricot\", \"watermelon\", \"monkey\", \"snake\", \"panda\", \"polar bear\"} # this is y\n",
    "\n",
    "newSET = new_set.symmetric_difference(newset) #SYNTAX IS : a = x.symmetric_difference(y)\n",
    "\n",
    "print(newSET)"
   ]
  },
  {
   "cell_type": "markdown",
   "metadata": {},
   "source": [
    "19. SYMMETRIC DIFFERENCE UPDATE: THIS WILL REMOVE THE ITEMS THAT ARE COMMONLY PRESENT IN BOTH SETS, AND ADD THE ITEMS THAT ARE NOT PRESENT IN BOTH SETS. THE SYNTAX USED IS x.symmetric_difference_update.(y). FOR EXAMPLE:"
   ]
  },
  {
   "cell_type": "code",
   "execution_count": 72,
   "metadata": {},
   "outputs": [
    {
     "name": "stdout",
     "output_type": "stream",
     "text": [
      "{'alligator', 'mango', 'apricot', 'watermelon', 'tiger', 'rat'}\n"
     ]
    }
   ],
   "source": [
    "new_set = {\"tiger\", \"rat\", \"monkey\", \"snake\", \"panda\", \"polar bear\", \"alligator\"} # this is x\n",
    "newset = {\"mango\", \"apricot\", \"watermelon\", \"monkey\", \"snake\", \"panda\", \"polar bear\"} # this is y\n",
    "\n",
    "new_set.symmetric_difference_update(newset) #SYNTAX IS : x.symmetric_difference_update.(y).\n",
    "\n",
    "print(new_set)"
   ]
  },
  {
   "cell_type": "markdown",
   "metadata": {},
   "source": [
    "20. UNION: THIS WILL GIVE US A NEW SET THAT HAS ALL THE ITEMS FROM BOTH THE SETS, AND IT WILL NOT CONTAIN ANY DUPLICATES. THE SYNTAX USED IS z= x.union(y). FOR EXAMPLE:"
   ]
  },
  {
   "cell_type": "code",
   "execution_count": 73,
   "metadata": {},
   "outputs": [
    {
     "name": "stdout",
     "output_type": "stream",
     "text": [
      "{'alligator', 'snake', 'mango', 'apricot', 'monkey', 'watermelon', 'tiger', 'polar bear', 'panda', 'rat'}\n"
     ]
    }
   ],
   "source": [
    "new_set = {\"tiger\", \"rat\", \"monkey\", \"snake\", \"panda\", \"polar bear\", \"alligator\"} # this is x\n",
    "newset = {\"mango\", \"apricot\", \"watermelon\", \"monkey\", \"snake\", \"panda\", \"polar bear\"} # this is y\n",
    "\n",
    "newSET = new_set.union(newset) #SYNTAX IS : a = x.union(y)\n",
    "\n",
    "print(newSET)"
   ]
  },
  {
   "cell_type": "markdown",
   "metadata": {},
   "source": [
    "21. UPDATE: THIS WILL LET US INSERT THE ITEMS OF SET Y TO SET X WHEN WE USE THE SYNTAX x.update(y). FOR EXAMPLE:"
   ]
  },
  {
   "cell_type": "code",
   "execution_count": 74,
   "metadata": {},
   "outputs": [
    {
     "name": "stdout",
     "output_type": "stream",
     "text": [
      "{'alligator', 'snake', 'mango', 'apricot', 'monkey', 'watermelon', 'tiger', 'polar bear', 'panda', 'rat'}\n"
     ]
    }
   ],
   "source": [
    "new_set = {\"tiger\", \"rat\", \"monkey\", \"snake\", \"panda\", \"polar bear\", \"alligator\"} # this is x\n",
    "newset = {\"mango\", \"apricot\", \"watermelon\", \"monkey\", \"snake\", \"panda\", \"polar bear\"} # this is y\n",
    "\n",
    "new_set.update(newset) #SYNTAX IS : x.update(y)\n",
    "\n",
    "print(new_set)"
   ]
  }
 ],
 "metadata": {
  "kernelspec": {
   "display_name": "Python 3",
   "language": "python",
   "name": "python3"
  },
  "language_info": {
   "codemirror_mode": {
    "name": "ipython",
    "version": 3
   },
   "file_extension": ".py",
   "mimetype": "text/x-python",
   "name": "python",
   "nbconvert_exporter": "python",
   "pygments_lexer": "ipython3",
   "version": "3.7.6"
  }
 },
 "nbformat": 4,
 "nbformat_minor": 4
}
