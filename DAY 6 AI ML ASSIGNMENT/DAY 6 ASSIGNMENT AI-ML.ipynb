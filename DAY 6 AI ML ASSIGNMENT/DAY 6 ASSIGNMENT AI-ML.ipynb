{
 "cells": [
  {
   "cell_type": "markdown",
   "metadata": {},
   "source": [
    "QUES 1. ASSUMING THAT WE HAVE SOME EMAIL ADDRESSES IN THE \"username@companyname.com\" FORMAT, PLEASE WRITE A PROGRAM TO PRINT THE COMPANY NAME OF A GIVEN EMAIL ADDRESS. BOTH USER NAMES AND COMPANY NAMES ARE COMPOSEDD OF LETTERS ONLY. "
   ]
  },
  {
   "cell_type": "code",
   "execution_count": 7,
   "metadata": {},
   "outputs": [
    {
     "name": "stdout",
     "output_type": "stream",
     "text": [
      "ENTER THE EMAIL ADRRESS OF THE EMPLOYEE: agam@microsoft.com\n",
      "microsoft"
     ]
    }
   ],
   "source": [
    "email_id = input(\"ENTER THE EMAIL ADRRESS OF THE EMPLOYEE: \")\n",
    "\n",
    "add1 = email_id.index(\"@\")\n",
    "add2 = email_id.index(\".\")\n",
    "\n",
    "print(email_id[add1+1 : add2], end = '')"
   ]
  },
  {
   "cell_type": "markdown",
   "metadata": {},
   "source": [
    "QUES 2. WRITE A PROGRAM THAT ACCEPTS A COMMA-SEPARATED SEQUENCE OF WORDS AS INPUT AND PRINTS THE WORDS IN A COMMA SEPARATED SEQUENCE AFTER SORTING THEM ALPHABETICALLY."
   ]
  },
  {
   "cell_type": "code",
   "execution_count": 12,
   "metadata": {},
   "outputs": [
    {
     "name": "stdout",
     "output_type": "stream",
     "text": [
      "THE WORDS IN APLHABETICAL ORDER ARE....\n",
      "I,\n",
      "am,\n",
      "learning,\n",
      "letsupgrade\n",
      "python,\n",
      "through,\n"
     ]
    }
   ],
   "source": [
    "my_string = \"I, am, learning, python, through, letsupgrade\"\n",
    "split_Words = my_string.split()\n",
    "\n",
    "split_Words.sort()\n",
    "print(\"THE WORDS IN APLHABETICAL ORDER ARE....\")\n",
    "\n",
    "for word in split_Words:\n",
    "    print(word)\n"
   ]
  },
  {
   "cell_type": "markdown",
   "metadata": {},
   "source": [
    "QUES 4. GIVEN A LIST OF n-1 NUMBERS RANGING FROM 1 TO n, YOUR TASK IS TO FIND THE MISSING NUMBER. THERE ARE NO DUPLICATES."
   ]
  },
  {
   "cell_type": "code",
   "execution_count": 17,
   "metadata": {},
   "outputs": [
    {
     "name": "stdout",
     "output_type": "stream",
     "text": [
      "4.0\n"
     ]
    }
   ],
   "source": [
    "A = [1, 2, 3, 5, 6, 7]\n",
    "\n",
    "def Missing(A):\n",
    "    n = len(A)\n",
    "    total = (n+1)*(n+2)/2\n",
    "    sumA = sum(A)\n",
    "    return total-sumA\n",
    "\n",
    "missing_number = Missing(A)\n",
    "print (missing_number)\n"
   ]
  },
  {
   "cell_type": "markdown",
   "metadata": {},
   "source": [
    "QUES 5. WITH A GIVEN LIST L, WRITE A PROGRAM TO PRINT THIS LIST L, AFTER REMOVING ALL DUPLICATE VALUES WITH ORIGINAL ORDER RESERVED. "
   ]
  },
  {
   "cell_type": "code",
   "execution_count": 19,
   "metadata": {},
   "outputs": [
    {
     "name": "stdout",
     "output_type": "stream",
     "text": [
      "{1, 2, 3, 4, 5, 6, 7, 8, 9}\n"
     ]
    }
   ],
   "source": [
    "a = [1, 2, 3, 3, 3, 4, 4, 5, 6, 7, 7, 8, 9, 9, 9]\n",
    "duplicate_items = set()\n",
    "unique_items = []\n",
    "\n",
    "for x in a:\n",
    "    if x not in duplicate_items:\n",
    "        unique_items.append(x)\n",
    "        duplicate_items.add(x)\n",
    "        \n",
    "print(duplicate_items)"
   ]
  },
  {
   "cell_type": "code",
   "execution_count": null,
   "metadata": {},
   "outputs": [],
   "source": []
  }
 ],
 "metadata": {
  "kernelspec": {
   "display_name": "Python 3",
   "language": "python",
   "name": "python3"
  },
  "language_info": {
   "codemirror_mode": {
    "name": "ipython",
    "version": 3
   },
   "file_extension": ".py",
   "mimetype": "text/x-python",
   "name": "python",
   "nbconvert_exporter": "python",
   "pygments_lexer": "ipython3",
   "version": "3.7.6"
  }
 },
 "nbformat": 4,
 "nbformat_minor": 4
}
