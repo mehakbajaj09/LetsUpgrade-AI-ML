{
 "cells": [
  {
   "cell_type": "markdown",
   "id": "532a053f",
   "metadata": {},
   "source": [
    "# QUES 1. GET THE COMPANY NAME"
   ]
  },
  {
   "cell_type": "code",
   "execution_count": 18,
   "id": "f8e5a8df",
   "metadata": {},
   "outputs": [
    {
     "name": "stdout",
     "output_type": "stream",
     "text": [
      "Enter the email idmb@microsoft.com\n",
      "Name of the company is  microsoft\n"
     ]
    }
   ],
   "source": [
    "str=input(\"Enter the email id\")\n",
    "a=str.index(\"@\")\n",
    "b=str.index(\".\")\n",
    "str2=str[a+1:b]\n",
    "print(\"Name of the company is \",str2)"
   ]
  },
  {
   "cell_type": "markdown",
   "id": "68bd77b7",
   "metadata": {},
   "source": [
    "# QUES 2. SORTING"
   ]
  },
  {
   "cell_type": "code",
   "execution_count": 19,
   "id": "748db692",
   "metadata": {},
   "outputs": [
    {
     "name": "stdout",
     "output_type": "stream",
     "text": [
      "The words separated by commas \n",
      "flower,fruits, world, work,honey\n",
      "The Sorted elements are \n",
      " [' work', ' world', 'flower', 'fruits', 'honey']\n"
     ]
    }
   ],
   "source": [
    "str1=input(\"The words separated by commas \\n\")\n",
    "\n",
    "str=str1.rsplit(\",\")\n",
    "print(\"The Sorted elements are \\n\",sorted(str))"
   ]
  },
  {
   "cell_type": "markdown",
   "id": "6da6b07c",
   "metadata": {},
   "source": [
    "# QUES 3. SETS"
   ]
  },
  {
   "cell_type": "markdown",
   "id": "90530e2d",
   "metadata": {},
   "source": [
    "# SETS\n",
    "\n",
    "A set is a collection which is unordered and unindexed. In Python sets are written with curly brackets.\n",
    "\n",
    "Sets are enclosed between curly brackets\n",
    "\n",
    "st={}\n",
    "\n",
    "Like Others set can contain any data type namely int flat string anything .\n",
    "\n",
    "st1={\"Rose\",\"Sunflower\",\"Lily\"}\n",
    "\n",
    "st2={1,2,3}\n",
    "\n",
    "st3={'a','b','c'}\n",
    "\n",
    "There are alot of funtions that can be used to perform task on sets .\n",
    "\n",
    "Set is also mutable Data Type"
   ]
  },
  {
   "cell_type": "code",
   "execution_count": 20,
   "id": "69d33801",
   "metadata": {},
   "outputs": [
    {
     "name": "stdout",
     "output_type": "stream",
     "text": [
      "Lily\n",
      "Sunflower\n",
      "Rose\n"
     ]
    }
   ],
   "source": [
    "st1={\"Rose\",\"Sunflower\",\"Lily\"}\n",
    "\n",
    "st2={1,2,3}\n",
    "\n",
    "st3={'a','b','c'}\n",
    "for x in st1:\n",
    "  print(x)"
   ]
  },
  {
   "cell_type": "code",
   "execution_count": 21,
   "id": "ed01a7f1",
   "metadata": {},
   "outputs": [
    {
     "name": "stdout",
     "output_type": "stream",
     "text": [
      "True\n"
     ]
    }
   ],
   "source": [
    "print(1 in st2)"
   ]
  },
  {
   "cell_type": "code",
   "execution_count": 22,
   "id": "cdbf4892",
   "metadata": {},
   "outputs": [
    {
     "data": {
      "text/plain": [
       "{1, 2, 3, 4}"
      ]
     },
     "execution_count": 22,
     "metadata": {},
     "output_type": "execute_result"
    }
   ],
   "source": [
    "st2.add(4)\n",
    "st2"
   ]
  },
  {
   "cell_type": "code",
   "execution_count": 23,
   "id": "2ccea519",
   "metadata": {},
   "outputs": [
    {
     "data": {
      "text/plain": [
       "{1, 2, 3, 4, 5, 6, 7}"
      ]
     },
     "execution_count": 23,
     "metadata": {},
     "output_type": "execute_result"
    }
   ],
   "source": [
    "st2.update([5,6,7])\n",
    "st2"
   ]
  },
  {
   "cell_type": "code",
   "execution_count": 24,
   "id": "4bd0dfce",
   "metadata": {},
   "outputs": [
    {
     "name": "stdout",
     "output_type": "stream",
     "text": [
      "3\n"
     ]
    }
   ],
   "source": [
    "print(len(st3))"
   ]
  },
  {
   "cell_type": "code",
   "execution_count": 25,
   "id": "fd8ea7ef",
   "metadata": {},
   "outputs": [
    {
     "name": "stdout",
     "output_type": "stream",
     "text": [
      "{1, 2, 3, 4, 5, 'Sunflower', 6, 7, 'Lily', 'Rose'}\n"
     ]
    }
   ],
   "source": [
    "st1.update(st2)\n",
    "print(st1)"
   ]
  },
  {
   "cell_type": "code",
   "execution_count": 26,
   "id": "58ffea5b",
   "metadata": {},
   "outputs": [
    {
     "name": "stdout",
     "output_type": "stream",
     "text": [
      "{'c', 'b', 'a'}\n"
     ]
    }
   ],
   "source": [
    "set3 = st1.union(st2)\n",
    "print(st3)"
   ]
  },
  {
   "cell_type": "code",
   "execution_count": 27,
   "id": "bad269d2",
   "metadata": {},
   "outputs": [
    {
     "name": "stdout",
     "output_type": "stream",
     "text": [
      "{1, 2, 3, 4, 5, 6, 7}\n"
     ]
    }
   ],
   "source": [
    "set3 = st1.intersection(st2)\n",
    "print(set3)"
   ]
  },
  {
   "cell_type": "markdown",
   "id": "8484b924",
   "metadata": {},
   "source": [
    "# QUES 4. FINDING MISSING NUMBER"
   ]
  },
  {
   "cell_type": "code",
   "execution_count": 28,
   "id": "7b21c99a",
   "metadata": {},
   "outputs": [
    {
     "name": "stdout",
     "output_type": "stream",
     "text": [
      "Enter the number of Elemnet is the list 6\n",
      "Enter the element 2\n",
      "Enter the element 5\n",
      "Enter the element 8\n",
      "Enter the element 10\n",
      "Enter the element 4\n",
      "Enter the element 8\n",
      "[2, 4, 5, 8, 8, 10]\n",
      "Missing element is \t 3\n",
      "Missing element is \t 6\n",
      "Missing element is \t 9\n",
      "Missing element is \t 9\n"
     ]
    }
   ],
   "source": [
    "def check():\n",
    "    lst=[]\n",
    "    n=int(input(\"Enter the number of Elemnet is the list \"))\n",
    "    for i in range(n):\n",
    "        a=int(input(\"Enter the element \"))\n",
    "        lst.append(a)\n",
    "    lst.sort()\n",
    "    print(lst)\n",
    "    a=len(lst)\n",
    "    for j in range(n-1):\n",
    "        if lst[j]+1==lst[j+1]:\n",
    "            continue\n",
    "        else:\n",
    "            print(\"Missing element is \\t\",lst[j]+1)\n",
    "   \n",
    "check()"
   ]
  },
  {
   "cell_type": "markdown",
   "id": "56cc78c6",
   "metadata": {},
   "source": [
    "# QUES 5. CHECKING DUPLICATES"
   ]
  },
  {
   "cell_type": "code",
   "execution_count": 29,
   "id": "25c8fe76",
   "metadata": {},
   "outputs": [
    {
     "name": "stdout",
     "output_type": "stream",
     "text": [
      "Enter the number of Elemnet is the list 8\n",
      "Enter the element 12\n",
      "Enter the element 26\n",
      "Enter the element 47\n",
      "Enter the element 38\n",
      "Enter the element 48\n",
      "Enter the element 50\n",
      "Enter the element 60\n",
      "Enter the element 89\n",
      "[12, 26, 47, 38, 48, 50, 60, 89]\n",
      "[12, 26, 47, 38, 48, 50, 60, 89]\n"
     ]
    }
   ],
   "source": [
    "def check_duplicates():\n",
    "    lst=[]\n",
    "    res=[]\n",
    "    n=int(input(\"Enter the number of Elemnet is the list \"))\n",
    "    for i in range(n):\n",
    "        a=int(input(\"Enter the element \"))\n",
    "        lst.append(a)\n",
    "    print(lst)\n",
    "    for j in lst:\n",
    "        if j not in res:\n",
    "            res.append(j)\n",
    "    print(res)\n",
    "            \n",
    "    \n",
    "check_duplicates()"
   ]
  },
  {
   "cell_type": "markdown",
   "id": "7d68a804",
   "metadata": {},
   "source": [
    "# "
   ]
  }
 ],
 "metadata": {
  "kernelspec": {
   "display_name": "Python 3",
   "language": "python",
   "name": "python3"
  },
  "language_info": {
   "codemirror_mode": {
    "name": "ipython",
    "version": 3
   },
   "file_extension": ".py",
   "mimetype": "text/x-python",
   "name": "python",
   "nbconvert_exporter": "python",
   "pygments_lexer": "ipython3",
   "version": "3.8.8"
  }
 },
 "nbformat": 4,
 "nbformat_minor": 5
}
