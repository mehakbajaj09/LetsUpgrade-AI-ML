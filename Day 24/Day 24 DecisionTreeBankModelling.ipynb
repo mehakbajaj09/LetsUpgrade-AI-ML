{
 "cells": [
  {
   "cell_type": "code",
   "execution_count": 1,
   "id": "6e9a5fc4",
   "metadata": {},
   "outputs": [],
   "source": [
    "import pandas as pd\n",
    "import numpy as np\n",
    "from sklearn import tree\n",
    "from sklearn import preprocessing\n",
    "from sklearn.ensemble import RandomForestClassifier"
   ]
  },
  {
   "cell_type": "code",
   "execution_count": 2,
   "id": "e0e46544",
   "metadata": {},
   "outputs": [],
   "source": [
    "tree_model=tree.DecisionTreeClassifier(max_depth=8)"
   ]
  },
  {
   "cell_type": "code",
   "execution_count": 3,
   "id": "9e7e993e",
   "metadata": {},
   "outputs": [],
   "source": [
    "bank=pd.read_excel(\"Bank_Personal_Loan_Modelling.xlsx\",sheet_name='Data')"
   ]
  },
  {
   "cell_type": "code",
   "execution_count": 4,
   "id": "e7f52a04",
   "metadata": {},
   "outputs": [
    {
     "data": {
      "text/html": [
       "<div>\n",
       "<style scoped>\n",
       "    .dataframe tbody tr th:only-of-type {\n",
       "        vertical-align: middle;\n",
       "    }\n",
       "\n",
       "    .dataframe tbody tr th {\n",
       "        vertical-align: top;\n",
       "    }\n",
       "\n",
       "    .dataframe thead th {\n",
       "        text-align: right;\n",
       "    }\n",
       "</style>\n",
       "<table border=\"1\" class=\"dataframe\">\n",
       "  <thead>\n",
       "    <tr style=\"text-align: right;\">\n",
       "      <th></th>\n",
       "      <th>ID</th>\n",
       "      <th>Age</th>\n",
       "      <th>Experience</th>\n",
       "      <th>Income</th>\n",
       "      <th>ZIP Code</th>\n",
       "      <th>Family</th>\n",
       "      <th>CCAvg</th>\n",
       "      <th>Education</th>\n",
       "      <th>Mortgage</th>\n",
       "      <th>Personal Loan</th>\n",
       "      <th>Securities Account</th>\n",
       "      <th>CD Account</th>\n",
       "      <th>Online</th>\n",
       "      <th>CreditCard</th>\n",
       "    </tr>\n",
       "  </thead>\n",
       "  <tbody>\n",
       "    <tr>\n",
       "      <th>0</th>\n",
       "      <td>1</td>\n",
       "      <td>25</td>\n",
       "      <td>1</td>\n",
       "      <td>49</td>\n",
       "      <td>91107</td>\n",
       "      <td>4</td>\n",
       "      <td>1.6</td>\n",
       "      <td>1</td>\n",
       "      <td>0</td>\n",
       "      <td>0</td>\n",
       "      <td>1</td>\n",
       "      <td>0</td>\n",
       "      <td>0</td>\n",
       "      <td>0</td>\n",
       "    </tr>\n",
       "    <tr>\n",
       "      <th>1</th>\n",
       "      <td>2</td>\n",
       "      <td>45</td>\n",
       "      <td>19</td>\n",
       "      <td>34</td>\n",
       "      <td>90089</td>\n",
       "      <td>3</td>\n",
       "      <td>1.5</td>\n",
       "      <td>1</td>\n",
       "      <td>0</td>\n",
       "      <td>0</td>\n",
       "      <td>1</td>\n",
       "      <td>0</td>\n",
       "      <td>0</td>\n",
       "      <td>0</td>\n",
       "    </tr>\n",
       "    <tr>\n",
       "      <th>2</th>\n",
       "      <td>3</td>\n",
       "      <td>39</td>\n",
       "      <td>15</td>\n",
       "      <td>11</td>\n",
       "      <td>94720</td>\n",
       "      <td>1</td>\n",
       "      <td>1.0</td>\n",
       "      <td>1</td>\n",
       "      <td>0</td>\n",
       "      <td>0</td>\n",
       "      <td>0</td>\n",
       "      <td>0</td>\n",
       "      <td>0</td>\n",
       "      <td>0</td>\n",
       "    </tr>\n",
       "    <tr>\n",
       "      <th>3</th>\n",
       "      <td>4</td>\n",
       "      <td>35</td>\n",
       "      <td>9</td>\n",
       "      <td>100</td>\n",
       "      <td>94112</td>\n",
       "      <td>1</td>\n",
       "      <td>2.7</td>\n",
       "      <td>2</td>\n",
       "      <td>0</td>\n",
       "      <td>0</td>\n",
       "      <td>0</td>\n",
       "      <td>0</td>\n",
       "      <td>0</td>\n",
       "      <td>0</td>\n",
       "    </tr>\n",
       "    <tr>\n",
       "      <th>4</th>\n",
       "      <td>5</td>\n",
       "      <td>35</td>\n",
       "      <td>8</td>\n",
       "      <td>45</td>\n",
       "      <td>91330</td>\n",
       "      <td>4</td>\n",
       "      <td>1.0</td>\n",
       "      <td>2</td>\n",
       "      <td>0</td>\n",
       "      <td>0</td>\n",
       "      <td>0</td>\n",
       "      <td>0</td>\n",
       "      <td>0</td>\n",
       "      <td>1</td>\n",
       "    </tr>\n",
       "  </tbody>\n",
       "</table>\n",
       "</div>"
      ],
      "text/plain": [
       "   ID  Age  Experience  Income  ZIP Code  Family  CCAvg  Education  Mortgage  \\\n",
       "0   1   25           1      49     91107       4    1.6          1         0   \n",
       "1   2   45          19      34     90089       3    1.5          1         0   \n",
       "2   3   39          15      11     94720       1    1.0          1         0   \n",
       "3   4   35           9     100     94112       1    2.7          2         0   \n",
       "4   5   35           8      45     91330       4    1.0          2         0   \n",
       "\n",
       "   Personal Loan  Securities Account  CD Account  Online  CreditCard  \n",
       "0              0                   1           0       0           0  \n",
       "1              0                   1           0       0           0  \n",
       "2              0                   0           0       0           0  \n",
       "3              0                   0           0       0           0  \n",
       "4              0                   0           0       0           1  "
      ]
     },
     "execution_count": 4,
     "metadata": {},
     "output_type": "execute_result"
    }
   ],
   "source": [
    "bank.head()"
   ]
  },
  {
   "cell_type": "code",
   "execution_count": 9,
   "id": "d3c8e434",
   "metadata": {},
   "outputs": [],
   "source": [
    "rf_model=RandomForestClassifier(n_estimators=1000,max_features=2,oob_score=True)"
   ]
  },
  {
   "cell_type": "code",
   "execution_count": 10,
   "id": "55e5065c",
   "metadata": {},
   "outputs": [
    {
     "data": {
      "text/plain": [
       "Index(['ID', 'Age', 'Experience', 'Income', 'ZIP Code', 'Family', 'CCAvg',\n",
       "       'Education', 'Mortgage', 'Personal Loan', 'Securities Account',\n",
       "       'CD Account', 'Online', 'CreditCard'],\n",
       "      dtype='object')"
      ]
     },
     "execution_count": 10,
     "metadata": {},
     "output_type": "execute_result"
    }
   ],
   "source": [
    "bank.columns"
   ]
  },
  {
   "cell_type": "code",
   "execution_count": 11,
   "id": "e551a7bf",
   "metadata": {},
   "outputs": [],
   "source": [
    "features=pd.DataFrame([bank[\"Age\"],bank[\"Experience\"],bank[\"Income\"],bank[\"Family\"],bank[\"CCAvg\"],bank[\"Education\"],bank[\"Mortgage\"],bank[\"Securities Account\"],bank[\"CD Account\"],bank[\"Online\"],bank[\"CreditCard\"]]).T"
   ]
  },
  {
   "cell_type": "code",
   "execution_count": 12,
   "id": "3dbb967c",
   "metadata": {},
   "outputs": [
    {
     "data": {
      "text/plain": [
       "RandomForestClassifier(max_features=2, n_estimators=1000, oob_score=True)"
      ]
     },
     "execution_count": 12,
     "metadata": {},
     "output_type": "execute_result"
    }
   ],
   "source": [
    "rf_model.fit(X=features,y=bank[\"Personal Loan\"])"
   ]
  },
  {
   "cell_type": "code",
   "execution_count": 13,
   "id": "034980b0",
   "metadata": {},
   "outputs": [
    {
     "name": "stdout",
     "output_type": "stream",
     "text": [
      "OOB Accuracy\n",
      "0.9882\n"
     ]
    }
   ],
   "source": [
    "print(\"OOB Accuracy\")\n",
    "print(rf_model.oob_score_);"
   ]
  },
  {
   "cell_type": "code",
   "execution_count": 14,
   "id": "b554c9fb",
   "metadata": {},
   "outputs": [
    {
     "name": "stdout",
     "output_type": "stream",
     "text": [
      "Age 0.045549382637802456\n",
      "Experience 0.044279330999933156\n",
      "Income 0.34348189314421607\n",
      "Family 0.09744566215124903\n",
      "CCAvg 0.18464367878694418\n",
      "Education 0.16107632504426514\n",
      "Mortgage 0.04407357218096249\n",
      "Securities Account 0.005606861038321185\n",
      "CD Account 0.05520721994593272\n",
      "Online 0.008491657868096112\n",
      "CreditCard 0.010144416202277394\n"
     ]
    }
   ],
   "source": [
    "for feature,imp in zip(features,rf_model.feature_importances_):\n",
    "    print(feature,imp)"
   ]
  },
  {
   "cell_type": "code",
   "execution_count": 15,
   "id": "4444faf0",
   "metadata": {},
   "outputs": [
    {
     "data": {
      "text/plain": [
       "0"
      ]
     },
     "execution_count": 15,
     "metadata": {},
     "output_type": "execute_result"
    }
   ],
   "source": [
    "bank.isnull().isnull().sum().sum()"
   ]
  },
  {
   "cell_type": "code",
   "execution_count": 16,
   "id": "0ed88c41",
   "metadata": {},
   "outputs": [],
   "source": [
    "predictors=pd.DataFrame([bank[\"Income\"],bank[\"CCAvg\"],bank[\"Education\"],bank[\"Family\"]]).T"
   ]
  },
  {
   "cell_type": "code",
   "execution_count": 17,
   "id": "134c9536",
   "metadata": {},
   "outputs": [
    {
     "data": {
      "text/plain": [
       "DecisionTreeClassifier(max_depth=8)"
      ]
     },
     "execution_count": 17,
     "metadata": {},
     "output_type": "execute_result"
    }
   ],
   "source": [
    "tree_model.fit(X=predictors,y=bank[\"Personal Loan\"])"
   ]
  },
  {
   "cell_type": "code",
   "execution_count": 20,
   "id": "8ea600eb",
   "metadata": {},
   "outputs": [],
   "source": [
    "with open(\"Bank_Modelling.dot\",'w') as f:\n",
    "    f=tree.export_graphviz(tree_model,feature_names=[\"Income\",\"CCAvg\",\"Education\",\"Family\"],out_file=f)"
   ]
  },
  {
   "cell_type": "code",
   "execution_count": 21,
   "id": "14d0342c",
   "metadata": {},
   "outputs": [
    {
     "data": {
      "text/plain": [
       "0.9956"
      ]
     },
     "execution_count": 21,
     "metadata": {},
     "output_type": "execute_result"
    }
   ],
   "source": [
    "tree_model.score(X=predictors,y=bank[\"Personal Loan\"])"
   ]
  },
  {
   "cell_type": "code",
   "execution_count": 22,
   "id": "d3ffb746",
   "metadata": {},
   "outputs": [],
   "source": [
    "predictors1=pd.DataFrame([bank[\"Income\"],bank[\"CCAvg\"],bank[\"Education\"]]).T"
   ]
  },
  {
   "cell_type": "code",
   "execution_count": 23,
   "id": "8da61909",
   "metadata": {},
   "outputs": [
    {
     "data": {
      "text/plain": [
       "DecisionTreeClassifier(max_depth=8)"
      ]
     },
     "execution_count": 23,
     "metadata": {},
     "output_type": "execute_result"
    }
   ],
   "source": [
    "tree_model.fit(X=predictors1,y=bank[\"Personal Loan\"])"
   ]
  },
  {
   "cell_type": "code",
   "execution_count": 24,
   "id": "9ca8ff2b",
   "metadata": {},
   "outputs": [],
   "source": [
    "with open(\"Bank_ModellingWithoutFamily.dot\",'w') as f:\n",
    "    f=tree.export_graphviz(tree_model,feature_names=[\"Income\",\"CCAvg\",\"Education\"],out_file=f)"
   ]
  },
  {
   "cell_type": "code",
   "execution_count": 25,
   "id": "ba731728",
   "metadata": {},
   "outputs": [
    {
     "data": {
      "text/plain": [
       "0.9816"
      ]
     },
     "execution_count": 25,
     "metadata": {},
     "output_type": "execute_result"
    }
   ],
   "source": [
    "tree_model.score(X=predictors1,y=bank[\"Personal Loan\"])"
   ]
  },
  {
   "cell_type": "markdown",
   "id": "857288af",
   "metadata": {},
   "source": [
    "# The first Model has 99.56% Accuracy hence we can use that Bank Modeeling Model to decide if someone is eligible for a personal loan or not¶\n"
   ]
  },
  {
   "cell_type": "code",
   "execution_count": 26,
   "id": "4111ba06",
   "metadata": {},
   "outputs": [],
   "source": [
    "from sklearn.tree import export_text"
   ]
  },
  {
   "cell_type": "code",
   "execution_count": 27,
   "id": "129bae53",
   "metadata": {},
   "outputs": [],
   "source": [
    "feature=[\"Income\",\"CCAvg\",\"Education\"]"
   ]
  },
  {
   "cell_type": "code",
   "execution_count": 28,
   "id": "f1ee8cad",
   "metadata": {},
   "outputs": [
    {
     "name": "stdout",
     "output_type": "stream",
     "text": [
      "|--- Income <= 113.50\n",
      "|   |--- CCAvg <= 2.95\n",
      "|   |   |--- Income <= 106.50\n",
      "|   |   |   |--- class: 0\n",
      "|   |   |--- Income >  106.50\n",
      "|   |   |   |--- Education <= 1.50\n",
      "|   |   |   |   |--- CCAvg <= 0.35\n",
      "|   |   |   |   |   |--- CCAvg <= 0.25\n",
      "|   |   |   |   |   |   |--- Income <= 112.50\n",
      "|   |   |   |   |   |   |   |--- class: 0\n",
      "|   |   |   |   |   |   |--- Income >  112.50\n",
      "|   |   |   |   |   |   |   |--- class: 0\n",
      "|   |   |   |   |   |--- CCAvg >  0.25\n",
      "|   |   |   |   |   |   |--- Income <= 111.50\n",
      "|   |   |   |   |   |   |   |--- class: 1\n",
      "|   |   |   |   |   |   |--- Income >  111.50\n",
      "|   |   |   |   |   |   |   |--- class: 0\n",
      "|   |   |   |   |--- CCAvg >  0.35\n",
      "|   |   |   |   |   |--- Income <= 109.50\n",
      "|   |   |   |   |   |   |--- CCAvg <= 1.75\n",
      "|   |   |   |   |   |   |   |--- class: 0\n",
      "|   |   |   |   |   |   |--- CCAvg >  1.75\n",
      "|   |   |   |   |   |   |   |--- CCAvg <= 1.90\n",
      "|   |   |   |   |   |   |   |   |--- class: 1\n",
      "|   |   |   |   |   |   |   |--- CCAvg >  1.90\n",
      "|   |   |   |   |   |   |   |   |--- class: 0\n",
      "|   |   |   |   |   |--- Income >  109.50\n",
      "|   |   |   |   |   |   |--- class: 0\n",
      "|   |   |   |--- Education >  1.50\n",
      "|   |   |   |   |--- CCAvg <= 1.65\n",
      "|   |   |   |   |   |--- CCAvg <= 0.30\n",
      "|   |   |   |   |   |   |--- class: 0\n",
      "|   |   |   |   |   |--- CCAvg >  0.30\n",
      "|   |   |   |   |   |   |--- CCAvg <= 0.70\n",
      "|   |   |   |   |   |   |   |--- class: 1\n",
      "|   |   |   |   |   |   |--- CCAvg >  0.70\n",
      "|   |   |   |   |   |   |   |--- CCAvg <= 1.55\n",
      "|   |   |   |   |   |   |   |   |--- class: 0\n",
      "|   |   |   |   |   |   |   |--- CCAvg >  1.55\n",
      "|   |   |   |   |   |   |   |   |--- class: 1\n",
      "|   |   |   |   |--- CCAvg >  1.65\n",
      "|   |   |   |   |   |--- Income <= 108.50\n",
      "|   |   |   |   |   |   |--- Education <= 2.50\n",
      "|   |   |   |   |   |   |   |--- CCAvg <= 1.85\n",
      "|   |   |   |   |   |   |   |   |--- class: 0\n",
      "|   |   |   |   |   |   |   |--- CCAvg >  1.85\n",
      "|   |   |   |   |   |   |   |   |--- class: 0\n",
      "|   |   |   |   |   |   |--- Education >  2.50\n",
      "|   |   |   |   |   |   |   |--- class: 1\n",
      "|   |   |   |   |   |--- Income >  108.50\n",
      "|   |   |   |   |   |   |--- CCAvg <= 2.45\n",
      "|   |   |   |   |   |   |   |--- CCAvg <= 1.75\n",
      "|   |   |   |   |   |   |   |   |--- class: 0\n",
      "|   |   |   |   |   |   |   |--- CCAvg >  1.75\n",
      "|   |   |   |   |   |   |   |   |--- class: 0\n",
      "|   |   |   |   |   |   |--- CCAvg >  2.45\n",
      "|   |   |   |   |   |   |   |--- CCAvg <= 2.60\n",
      "|   |   |   |   |   |   |   |   |--- class: 1\n",
      "|   |   |   |   |   |   |   |--- CCAvg >  2.60\n",
      "|   |   |   |   |   |   |   |   |--- class: 0\n",
      "|   |--- CCAvg >  2.95\n",
      "|   |   |--- Income <= 82.50\n",
      "|   |   |   |--- CCAvg <= 3.55\n",
      "|   |   |   |   |--- CCAvg <= 3.45\n",
      "|   |   |   |   |   |--- CCAvg <= 3.25\n",
      "|   |   |   |   |   |   |--- Income <= 70.00\n",
      "|   |   |   |   |   |   |   |--- CCAvg <= 3.15\n",
      "|   |   |   |   |   |   |   |   |--- class: 0\n",
      "|   |   |   |   |   |   |   |--- CCAvg >  3.15\n",
      "|   |   |   |   |   |   |   |   |--- class: 0\n",
      "|   |   |   |   |   |   |--- Income >  70.00\n",
      "|   |   |   |   |   |   |   |--- class: 0\n",
      "|   |   |   |   |   |--- CCAvg >  3.25\n",
      "|   |   |   |   |   |   |--- CCAvg <= 3.35\n",
      "|   |   |   |   |   |   |   |--- class: 1\n",
      "|   |   |   |   |   |   |--- CCAvg >  3.35\n",
      "|   |   |   |   |   |   |   |--- Education <= 1.50\n",
      "|   |   |   |   |   |   |   |   |--- class: 0\n",
      "|   |   |   |   |   |   |   |--- Education >  1.50\n",
      "|   |   |   |   |   |   |   |   |--- class: 0\n",
      "|   |   |   |   |--- CCAvg >  3.45\n",
      "|   |   |   |   |   |--- class: 1\n",
      "|   |   |   |--- CCAvg >  3.55\n",
      "|   |   |   |   |--- Income <= 81.50\n",
      "|   |   |   |   |   |--- class: 0\n",
      "|   |   |   |   |--- Income >  81.50\n",
      "|   |   |   |   |   |--- CCAvg <= 3.75\n",
      "|   |   |   |   |   |   |--- Education <= 2.50\n",
      "|   |   |   |   |   |   |   |--- CCAvg <= 3.65\n",
      "|   |   |   |   |   |   |   |   |--- class: 0\n",
      "|   |   |   |   |   |   |   |--- CCAvg >  3.65\n",
      "|   |   |   |   |   |   |   |   |--- class: 1\n",
      "|   |   |   |   |   |   |--- Education >  2.50\n",
      "|   |   |   |   |   |   |   |--- class: 0\n",
      "|   |   |   |   |   |--- CCAvg >  3.75\n",
      "|   |   |   |   |   |   |--- class: 0\n",
      "|   |   |--- Income >  82.50\n",
      "|   |   |   |--- Education <= 1.50\n",
      "|   |   |   |   |--- CCAvg <= 4.25\n",
      "|   |   |   |   |   |--- CCAvg <= 4.05\n",
      "|   |   |   |   |   |   |--- Income <= 83.50\n",
      "|   |   |   |   |   |   |   |--- CCAvg <= 3.25\n",
      "|   |   |   |   |   |   |   |   |--- class: 1\n",
      "|   |   |   |   |   |   |   |--- CCAvg >  3.25\n",
      "|   |   |   |   |   |   |   |   |--- class: 1\n",
      "|   |   |   |   |   |   |--- Income >  83.50\n",
      "|   |   |   |   |   |   |   |--- CCAvg <= 3.05\n",
      "|   |   |   |   |   |   |   |   |--- class: 1\n",
      "|   |   |   |   |   |   |   |--- CCAvg >  3.05\n",
      "|   |   |   |   |   |   |   |   |--- class: 0\n",
      "|   |   |   |   |   |--- CCAvg >  4.05\n",
      "|   |   |   |   |   |   |--- class: 1\n",
      "|   |   |   |   |--- CCAvg >  4.25\n",
      "|   |   |   |   |   |--- CCAvg <= 4.65\n",
      "|   |   |   |   |   |   |--- Income <= 100.00\n",
      "|   |   |   |   |   |   |   |--- Income <= 96.50\n",
      "|   |   |   |   |   |   |   |   |--- class: 0\n",
      "|   |   |   |   |   |   |   |--- Income >  96.50\n",
      "|   |   |   |   |   |   |   |   |--- class: 1\n",
      "|   |   |   |   |   |   |--- Income >  100.00\n",
      "|   |   |   |   |   |   |   |--- class: 0\n",
      "|   |   |   |   |   |--- CCAvg >  4.65\n",
      "|   |   |   |   |   |   |--- class: 0\n",
      "|   |   |   |--- Education >  1.50\n",
      "|   |   |   |   |--- Income <= 92.50\n",
      "|   |   |   |   |   |--- Education <= 2.50\n",
      "|   |   |   |   |   |   |--- CCAvg <= 3.75\n",
      "|   |   |   |   |   |   |   |--- Income <= 87.50\n",
      "|   |   |   |   |   |   |   |   |--- class: 0\n",
      "|   |   |   |   |   |   |   |--- Income >  87.50\n",
      "|   |   |   |   |   |   |   |   |--- class: 1\n",
      "|   |   |   |   |   |   |--- CCAvg >  3.75\n",
      "|   |   |   |   |   |   |   |--- class: 1\n",
      "|   |   |   |   |   |--- Education >  2.50\n",
      "|   |   |   |   |   |   |--- CCAvg <= 3.65\n",
      "|   |   |   |   |   |   |   |--- CCAvg <= 3.20\n",
      "|   |   |   |   |   |   |   |   |--- class: 0\n",
      "|   |   |   |   |   |   |   |--- CCAvg >  3.20\n",
      "|   |   |   |   |   |   |   |   |--- class: 1\n",
      "|   |   |   |   |   |   |--- CCAvg >  3.65\n",
      "|   |   |   |   |   |   |   |--- class: 0\n",
      "|   |   |   |   |--- Income >  92.50\n",
      "|   |   |   |   |   |--- CCAvg <= 4.60\n",
      "|   |   |   |   |   |   |--- CCAvg <= 4.45\n",
      "|   |   |   |   |   |   |   |--- Income <= 94.50\n",
      "|   |   |   |   |   |   |   |   |--- class: 1\n",
      "|   |   |   |   |   |   |   |--- Income >  94.50\n",
      "|   |   |   |   |   |   |   |   |--- class: 1\n",
      "|   |   |   |   |   |   |--- CCAvg >  4.45\n",
      "|   |   |   |   |   |   |   |--- Income <= 100.50\n",
      "|   |   |   |   |   |   |   |   |--- class: 0\n",
      "|   |   |   |   |   |   |   |--- Income >  100.50\n",
      "|   |   |   |   |   |   |   |   |--- class: 0\n",
      "|   |   |   |   |   |--- CCAvg >  4.60\n",
      "|   |   |   |   |   |   |--- class: 1\n",
      "|--- Income >  113.50\n",
      "|   |--- Education <= 1.50\n",
      "|   |   |--- CCAvg <= 6.63\n",
      "|   |   |   |--- CCAvg <= 6.55\n",
      "|   |   |   |   |--- CCAvg <= 4.05\n",
      "|   |   |   |   |   |--- Income <= 159.50\n",
      "|   |   |   |   |   |   |--- Income <= 146.50\n",
      "|   |   |   |   |   |   |   |--- CCAvg <= 2.65\n",
      "|   |   |   |   |   |   |   |   |--- class: 0\n",
      "|   |   |   |   |   |   |   |--- CCAvg >  2.65\n",
      "|   |   |   |   |   |   |   |   |--- class: 0\n",
      "|   |   |   |   |   |   |--- Income >  146.50\n",
      "|   |   |   |   |   |   |   |--- class: 0\n",
      "|   |   |   |   |   |--- Income >  159.50\n",
      "|   |   |   |   |   |   |--- CCAvg <= 3.35\n",
      "|   |   |   |   |   |   |   |--- CCAvg <= 1.55\n",
      "|   |   |   |   |   |   |   |   |--- class: 0\n",
      "|   |   |   |   |   |   |   |--- CCAvg >  1.55\n",
      "|   |   |   |   |   |   |   |   |--- class: 0\n",
      "|   |   |   |   |   |   |--- CCAvg >  3.35\n",
      "|   |   |   |   |   |   |   |--- class: 1\n",
      "|   |   |   |   |--- CCAvg >  4.05\n",
      "|   |   |   |   |   |--- Income <= 179.50\n",
      "|   |   |   |   |   |   |--- Income <= 134.50\n",
      "|   |   |   |   |   |   |   |--- CCAvg <= 6.40\n",
      "|   |   |   |   |   |   |   |   |--- class: 0\n",
      "|   |   |   |   |   |   |   |--- CCAvg >  6.40\n",
      "|   |   |   |   |   |   |   |   |--- class: 1\n",
      "|   |   |   |   |   |   |--- Income >  134.50\n",
      "|   |   |   |   |   |   |   |--- Income <= 136.50\n",
      "|   |   |   |   |   |   |   |   |--- class: 1\n",
      "|   |   |   |   |   |   |   |--- Income >  136.50\n",
      "|   |   |   |   |   |   |   |   |--- class: 0\n",
      "|   |   |   |   |   |--- Income >  179.50\n",
      "|   |   |   |   |   |   |--- class: 0\n",
      "|   |   |   |--- CCAvg >  6.55\n",
      "|   |   |   |   |--- class: 1\n",
      "|   |   |--- CCAvg >  6.63\n",
      "|   |   |   |--- Income <= 176.50\n",
      "|   |   |   |   |--- CCAvg <= 6.95\n",
      "|   |   |   |   |   |--- CCAvg <= 6.85\n",
      "|   |   |   |   |   |   |--- class: 0\n",
      "|   |   |   |   |   |--- CCAvg >  6.85\n",
      "|   |   |   |   |   |   |--- Income <= 143.00\n",
      "|   |   |   |   |   |   |   |--- class: 0\n",
      "|   |   |   |   |   |   |--- Income >  143.00\n",
      "|   |   |   |   |   |   |   |--- Income <= 147.50\n",
      "|   |   |   |   |   |   |   |   |--- class: 0\n",
      "|   |   |   |   |   |   |   |--- Income >  147.50\n",
      "|   |   |   |   |   |   |   |   |--- class: 0\n",
      "|   |   |   |   |--- CCAvg >  6.95\n",
      "|   |   |   |   |   |--- class: 0\n",
      "|   |   |   |--- Income >  176.50\n",
      "|   |   |   |   |--- Income <= 178.50\n",
      "|   |   |   |   |   |--- CCAvg <= 7.60\n",
      "|   |   |   |   |   |   |--- class: 0\n",
      "|   |   |   |   |   |--- CCAvg >  7.60\n",
      "|   |   |   |   |   |   |--- class: 1\n",
      "|   |   |   |   |--- Income >  178.50\n",
      "|   |   |   |   |   |--- CCAvg <= 8.05\n",
      "|   |   |   |   |   |   |--- CCAvg <= 7.80\n",
      "|   |   |   |   |   |   |   |--- CCAvg <= 7.10\n",
      "|   |   |   |   |   |   |   |   |--- class: 0\n",
      "|   |   |   |   |   |   |   |--- CCAvg >  7.10\n",
      "|   |   |   |   |   |   |   |   |--- class: 0\n",
      "|   |   |   |   |   |   |--- CCAvg >  7.80\n",
      "|   |   |   |   |   |   |   |--- class: 1\n",
      "|   |   |   |   |   |--- CCAvg >  8.05\n",
      "|   |   |   |   |   |   |--- class: 0\n",
      "|   |--- Education >  1.50\n",
      "|   |   |--- Income <= 116.50\n",
      "|   |   |   |--- CCAvg <= 2.15\n",
      "|   |   |   |   |--- CCAvg <= 0.55\n",
      "|   |   |   |   |   |--- class: 1\n",
      "|   |   |   |   |--- CCAvg >  0.55\n",
      "|   |   |   |   |   |--- Income <= 114.50\n",
      "|   |   |   |   |   |   |--- class: 0\n",
      "|   |   |   |   |   |--- Income >  114.50\n",
      "|   |   |   |   |   |   |--- CCAvg <= 1.10\n",
      "|   |   |   |   |   |   |   |--- class: 0\n",
      "|   |   |   |   |   |   |--- CCAvg >  1.10\n",
      "|   |   |   |   |   |   |   |--- CCAvg <= 1.35\n",
      "|   |   |   |   |   |   |   |   |--- class: 1\n",
      "|   |   |   |   |   |   |   |--- CCAvg >  1.35\n",
      "|   |   |   |   |   |   |   |   |--- class: 0\n",
      "|   |   |   |--- CCAvg >  2.15\n",
      "|   |   |   |   |--- CCAvg <= 4.00\n",
      "|   |   |   |   |   |--- CCAvg <= 3.35\n",
      "|   |   |   |   |   |   |--- CCAvg <= 2.80\n",
      "|   |   |   |   |   |   |   |--- CCAvg <= 2.30\n",
      "|   |   |   |   |   |   |   |   |--- class: 1\n",
      "|   |   |   |   |   |   |   |--- CCAvg >  2.30\n",
      "|   |   |   |   |   |   |   |   |--- class: 0\n",
      "|   |   |   |   |   |   |--- CCAvg >  2.80\n",
      "|   |   |   |   |   |   |   |--- class: 1\n",
      "|   |   |   |   |   |--- CCAvg >  3.35\n",
      "|   |   |   |   |   |   |--- Income <= 114.50\n",
      "|   |   |   |   |   |   |   |--- class: 0\n",
      "|   |   |   |   |   |   |--- Income >  114.50\n",
      "|   |   |   |   |   |   |   |--- CCAvg <= 3.60\n",
      "|   |   |   |   |   |   |   |   |--- class: 0\n",
      "|   |   |   |   |   |   |   |--- CCAvg >  3.60\n",
      "|   |   |   |   |   |   |   |   |--- class: 1\n",
      "|   |   |   |   |--- CCAvg >  4.00\n",
      "|   |   |   |   |   |--- class: 1\n",
      "|   |   |--- Income >  116.50\n",
      "|   |   |   |--- class: 1\n",
      "\n"
     ]
    }
   ],
   "source": [
    "r=export_text(tree_model,feature_names=feature)\n",
    "print(r)"
   ]
  },
  {
   "cell_type": "code",
   "execution_count": null,
   "id": "fcedacac",
   "metadata": {},
   "outputs": [],
   "source": []
  }
 ],
 "metadata": {
  "kernelspec": {
   "display_name": "Python 3",
   "language": "python",
   "name": "python3"
  },
  "language_info": {
   "codemirror_mode": {
    "name": "ipython",
    "version": 3
   },
   "file_extension": ".py",
   "mimetype": "text/x-python",
   "name": "python",
   "nbconvert_exporter": "python",
   "pygments_lexer": "ipython3",
   "version": "3.8.8"
  }
 },
 "nbformat": 4,
 "nbformat_minor": 5
}
