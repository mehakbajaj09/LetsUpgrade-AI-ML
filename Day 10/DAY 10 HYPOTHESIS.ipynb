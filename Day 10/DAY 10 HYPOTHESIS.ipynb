{
 "cells": [
  {
   "cell_type": "markdown",
   "id": "c8ebd6d4",
   "metadata": {},
   "source": [
    "# HYPOTHESIS 1\n",
    "\n",
    "null hypothesis =Age and attrition have no correlation .\n",
    "\n",
    "alternate hypothesis= Age and attrition have a correlation between them"
   ]
  },
  {
   "cell_type": "markdown",
   "id": "89ef9b38",
   "metadata": {},
   "source": [
    "# HYPOTHESIS 2\n",
    "\n",
    "null hypothesis =Attrition and distance from home have no correlation .\n",
    "\n",
    "alternate hypothesis= Attrition and distance from home have a correlation between them ."
   ]
  },
  {
   "cell_type": "markdown",
   "id": "b82cee88",
   "metadata": {},
   "source": [
    "# HYPOTHESIS 3\n",
    "\n",
    "null hypothesis =Attrition and monthly income have no correlation .\n",
    "\n",
    "alternate hypothesis= Attrition and monthly income have a correlation between them ."
   ]
  },
  {
   "cell_type": "markdown",
   "id": "592379cb",
   "metadata": {},
   "source": [
    "# HYPOTHESIS 4\n",
    "\n",
    "null hypothesis =Attrition and salary hike percentage have no correlation .\n",
    "\n",
    "alternate hypothesis= Attrition and salary hike percentage have a correlation between them ."
   ]
  },
  {
   "cell_type": "markdown",
   "id": "693d52b9",
   "metadata": {},
   "source": [
    "# HYPOTHESIS 5\n",
    "\n",
    "null hypothesis = Attrition and TrainingTimesLastYear have no correlation.\n",
    "\n",
    "alternate hypothesis = Attrition and TrainingTimesLastYear have a correlation between them."
   ]
  },
  {
   "cell_type": "markdown",
   "id": "10033e31",
   "metadata": {},
   "source": [
    "# HYPOTHESIS 6\n",
    "\n",
    "null hypothesis = Attrition and YearsAtCompany have no correlation.\n",
    "\n",
    "alternate hypothesis = Attrition and YearsAtCompany have a correlation between them."
   ]
  },
  {
   "cell_type": "markdown",
   "id": "ef2bb2df",
   "metadata": {},
   "source": [
    "# HYPOTHESIS 7\n",
    "\n",
    "null hypothesis = Attrition and YearsSinceLastPromotion have no correlation.\n",
    "\n",
    "alternate hypothesis = Attrition and YearsSinceLastPromotion have a correlation between them."
   ]
  },
  {
   "cell_type": "markdown",
   "id": "5e375e39",
   "metadata": {},
   "source": [
    "# HYPOTHESIS 8\n",
    "\n",
    "null hypothesis = Attrition and YearsWithCurrManager have no correlation.\n",
    "\n",
    "alternate hypothesis = Attrition and YearsWithCurrManager have a correlation between them."
   ]
  },
  {
   "cell_type": "code",
   "execution_count": null,
   "id": "f39677bb",
   "metadata": {},
   "outputs": [],
   "source": []
  }
 ],
 "metadata": {
  "kernelspec": {
   "display_name": "Python 3",
   "language": "python",
   "name": "python3"
  },
  "language_info": {
   "codemirror_mode": {
    "name": "ipython",
    "version": 3
   },
   "file_extension": ".py",
   "mimetype": "text/x-python",
   "name": "python",
   "nbconvert_exporter": "python",
   "pygments_lexer": "ipython3",
   "version": "3.8.8"
  }
 },
 "nbformat": 4,
 "nbformat_minor": 5
}
