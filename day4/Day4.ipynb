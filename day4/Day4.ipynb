{
 "cells": [
  {
   "cell_type": "markdown",
   "id": "ac44869f",
   "metadata": {},
   "source": [
    "# Mathematical operations on complex numbers\n",
    "\n",
    "The mathematical operations that can be performed on complex numbers are 1.Addition 2.Subtraction 3.Multiplication 4.Division Floor division and Modulo are not possible on complex numbers the programs gives an error"
   ]
  },
  {
   "cell_type": "code",
   "execution_count": 22,
   "id": "c3c7f751",
   "metadata": {},
   "outputs": [
    {
     "name": "stdout",
     "output_type": "stream",
     "text": [
      "Enter first complex number 18+9j\n",
      "Enter second complex number 9-18j\n",
      "Addition = (27-9j) \n",
      " Subtraction = (9+27j) \n",
      " Multiplication = (324-243j) \n",
      " Division = (-0+1j)\n"
     ]
    }
   ],
   "source": [
    "a=complex(input(\"Enter first complex number \"))\n",
    "b=complex(input(\"Enter second complex number \"))\n",
    "print(\"Addition =\",a+b,\"\\n Subtraction =\",a-b,\"\\n Multiplication =\",a*b,\"\\n Division =\",a/b)"
   ]
  },
  {
   "cell_type": "markdown",
   "id": "3bcd5475",
   "metadata": {},
   "source": [
    "# RANGE() FUNCTION\n",
    "\n",
    "1.range() is a function that accepts1, 2 or 3 arguments .\n",
    "\n",
    "2.It is used to basically carry out counting from a specific number to a specific number .\n",
    "\n",
    "3.In one argument the funtions will count from 0 to that number .\n",
    "\n",
    "4.In case of two arguments where the fisrt argument is the starting point and the second argument is th eending point the funtion will count starting from the first argument to the second argument with gaps of 1 .\n",
    "\n",
    "5.In case of 3 arguments the first two arguments remain the same the third argument is the gaps the funtion takes while countimg from the first argument to the second argument\n",
    "\n",
    "6.This funtion also finds its use in the for loop when the for loop is to be repeated till a specific count ."
   ]
  },
  {
   "cell_type": "code",
   "execution_count": 25,
   "id": "9e082def",
   "metadata": {},
   "outputs": [
    {
     "name": "stdout",
     "output_type": "stream",
     "text": [
      "[0, 1, 2, 3, 4, 5, 6, 7, 8, 9]\n",
      "[10, 11, 12, 13, 14, 15, 16, 17, 18, 19]\n",
      "[0, 2, 4, 6, 8, 10, 12, 14, 16, 18]\n",
      "20\n",
      "21\n",
      "22\n",
      "23\n",
      "24\n",
      "25\n",
      "26\n",
      "27\n",
      "28\n",
      "29\n"
     ]
    }
   ],
   "source": [
    "print(list(range(10)))\n",
    "print(list(range(10,20)))\n",
    "print(list(range(0,20,2)))\n",
    "for i in range(20,30):\n",
    "    print(i)"
   ]
  },
  {
   "cell_type": "markdown",
   "id": "5bc3687b",
   "metadata": {},
   "source": [
    "# IF ELSE APPLICATION"
   ]
  },
  {
   "cell_type": "code",
   "execution_count": 26,
   "id": "f3935a0c",
   "metadata": {},
   "outputs": [
    {
     "name": "stdout",
     "output_type": "stream",
     "text": [
      "Enter first number 67\n",
      "Enter the second number 78\n",
      "Subtraction is lesser than 25 \t Hence division is =  0.8589743589743589\n"
     ]
    }
   ],
   "source": [
    "a=float (input(\"Enter first number \"))\n",
    "b=float(input(\"Enter the second number \"))\n",
    "sub=a-b\n",
    "if sub>25:\n",
    "    print(\"Subtraction is greater than 25 \\t Hence multiplication is =\",a*b)\n",
    "else:\n",
    "    if sub<25:\n",
    "        print(\"Subtraction is lesser than 25 \\t Hence division is = \",a/b)\n",
    "    else:\n",
    "        print(\"Subtraction is equal to 25\")"
   ]
  },
  {
   "cell_type": "markdown",
   "id": "a23a69ef",
   "metadata": {},
   "source": [
    "# CHECKING IF NUMBER IS DIVISBLE BY 2 OR NOT\n"
   ]
  },
  {
   "cell_type": "code",
   "execution_count": 19,
   "id": "0ef525fe",
   "metadata": {},
   "outputs": [
    {
     "name": "stdout",
     "output_type": "stream",
     "text": [
      "58  is divisible by 2 \t Hence Square of number minus 2 = 3362\n",
      "20  is divisible by 2 \t Hence Square of number minus 2 = 398\n",
      "54  is divisible by 2 \t Hence Square of number minus 2 = 2914\n",
      "66  is divisible by 2 \t Hence Square of number minus 2 = 4354\n",
      "44  is divisible by 2 \t Hence Square of number minus 2 = 1934\n"
     ]
    }
   ],
   "source": [
    "lst=[1,99,58,20,13,54,66,77,3,44]\n",
    "for i in lst:\n",
    "    if i%2==0:\n",
    "        print(i,\" is divisible by 2 \\t Hence Square of number minus 2 =\",(i**2)-2)"
   ]
  },
  {
   "cell_type": "markdown",
   "id": "45cb9198",
   "metadata": {},
   "source": [
    "# IS THE HALF GREATER THAN 7"
   ]
  },
  {
   "cell_type": "code",
   "execution_count": 20,
   "id": "a6b59202",
   "metadata": {},
   "outputs": [
    {
     "name": "stdout",
     "output_type": "stream",
     "text": [
      "20 \t As  10.0 >7\n",
      "56 \t As  28.0 >7\n",
      "87 \t As  43.5 >7\n",
      "894 \t As  447.0 >7\n",
      "67 \t As  33.5 >7\n",
      "84 \t As  42.0 >7\n"
     ]
    }
   ],
   "source": [
    "lst1=[20,10,56,87,4,894,67,84,6,14]\n",
    "for i in lst1:\n",
    "    if (i/2)>7:\n",
    "        print(i,\"\\t As \",i/2,\">7\")"
   ]
  },
  {
   "cell_type": "code",
   "execution_count": null,
   "id": "4e0a5dc9",
   "metadata": {},
   "outputs": [],
   "source": []
  }
 ],
 "metadata": {
  "kernelspec": {
   "display_name": "Python 3",
   "language": "python",
   "name": "python3"
  },
  "language_info": {
   "codemirror_mode": {
    "name": "ipython",
    "version": 3
   },
   "file_extension": ".py",
   "mimetype": "text/x-python",
   "name": "python",
   "nbconvert_exporter": "python",
   "pygments_lexer": "ipython3",
   "version": "3.8.8"
  }
 },
 "nbformat": 4,
 "nbformat_minor": 5
}
