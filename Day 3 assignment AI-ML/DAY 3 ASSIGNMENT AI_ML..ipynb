{
 "cells": [
  {
   "cell_type": "markdown",
   "metadata": {},
   "source": [
    "# ASSIGNMENT DAY 3"
   ]
  },
  {
   "cell_type": "markdown",
   "metadata": {},
   "source": [
    "QUES 1. WRITE A PROGRAM TO SUBTRACT TWO COMPLEX NUMBERS IN PYTHON."
   ]
  },
  {
   "cell_type": "markdown",
   "metadata": {},
   "source": [
    "SOL.> A complex number in python is expressed as a sum of real part and an imaginary part, in the format 'x + mj\", where x is a real number, mj is the imaginary part."
   ]
  },
  {
   "cell_type": "code",
   "execution_count": 3,
   "metadata": {},
   "outputs": [
    {
     "name": "stdout",
     "output_type": "stream",
     "text": [
      "(14+5j)\n"
     ]
    }
   ],
   "source": [
    "a = 21+21j # First complex number\n",
    "b = 7+16j  # Second complex number\n",
    "print(a-b) # Printing the result of subtraction"
   ]
  },
  {
   "cell_type": "markdown",
   "metadata": {},
   "source": [
    "QUES 2. WRITE A PROGTRAM TO PRINT FOURTH ROOT OF A NUMBER"
   ]
  },
  {
   "cell_type": "code",
   "execution_count": 7,
   "metadata": {},
   "outputs": [],
   "source": [
    "import math\n",
    "def fourth_root(num,root):\n",
    "    answer = num**(1/root)\n",
    "    return answer"
   ]
  },
  {
   "cell_type": "code",
   "execution_count": 10,
   "metadata": {},
   "outputs": [
    {
     "data": {
      "text/plain": [
       "2.0"
      ]
     },
     "execution_count": 10,
     "metadata": {},
     "output_type": "execute_result"
    }
   ],
   "source": [
    "fourth_root(16,4)"
   ]
  },
  {
   "cell_type": "code",
   "execution_count": 11,
   "metadata": {},
   "outputs": [
    {
     "data": {
      "text/plain": [
       "3.34370152488211"
      ]
     },
     "execution_count": 11,
     "metadata": {},
     "output_type": "execute_result"
    }
   ],
   "source": [
    "fourth_root(125,4)"
   ]
  },
  {
   "cell_type": "code",
   "execution_count": 12,
   "metadata": {},
   "outputs": [
    {
     "data": {
      "text/plain": [
       "28.359081915720306"
      ]
     },
     "execution_count": 12,
     "metadata": {},
     "output_type": "execute_result"
    }
   ],
   "source": [
    "fourth_root(646798,4)"
   ]
  },
  {
   "cell_type": "markdown",
   "metadata": {},
   "source": [
    "QUES 3. WRITE A PROGRAM TO SWAP TWO NUMBERS IN PYTHON WITH THE HELP OF TEMPORARY VARIABLES."
   ]
  },
  {
   "cell_type": "code",
   "execution_count": 13,
   "metadata": {},
   "outputs": [
    {
     "name": "stdout",
     "output_type": "stream",
     "text": [
      "27\n",
      "9\n"
     ]
    }
   ],
   "source": [
    "a = 9\n",
    "b =27\n",
    "\n",
    "temp = a\n",
    "\n",
    "a=b\n",
    "b= temp\n",
    "\n",
    "print(a)\n",
    "print(b)"
   ]
  },
  {
   "cell_type": "markdown",
   "metadata": {},
   "source": [
    "QUES 4. WRITE A PROGRAM TO SWAP TWO NUMBERS WITHOUT USING A TEMPORARY VARIABLE."
   ]
  },
  {
   "cell_type": "code",
   "execution_count": 15,
   "metadata": {},
   "outputs": [
    {
     "name": "stdout",
     "output_type": "stream",
     "text": [
      "30\n",
      "21\n"
     ]
    }
   ],
   "source": [
    "a = 21\n",
    "b = 30\n",
    "\n",
    "a = a+b\n",
    "b = a-b\n",
    "a = a-b\n",
    "\n",
    "print(a)\n",
    "print(b)"
   ]
  },
  {
   "cell_type": "markdown",
   "metadata": {},
   "source": [
    "QUES 5. WRITE A PROGRAM TO CONVERT FAHRENHEIT TO KELVIN AND CELSISUS."
   ]
  },
  {
   "cell_type": "code",
   "execution_count": 26,
   "metadata": {},
   "outputs": [
    {
     "name": "stdout",
     "output_type": "stream",
     "text": [
      "ENTER THE TEMPERATURE: 57\n",
      "THE TEMPERATURE IS 13.88888888888889 degree Celsius\n",
      "THE TEMPERATURE IS 930.0060000000002 Kelvin\n"
     ]
    }
   ],
   "source": [
    "F= float(input(\"ENTER THE TEMPERATURE: \"))\n",
    "\n",
    "C = (F-32)*5/9\n",
    "print(\"THE TEMPERATURE IS\",C, \"degree Celsius\")\n",
    "\n",
    "K = (F + 459.67)*1.8\n",
    "print(\"THE TEMPERATURE IS\",K, \"Kelvin\")"
   ]
  },
  {
   "cell_type": "markdown",
   "metadata": {},
   "source": [
    "QUES 6. WRITE A PROGRAM TO DEMONSTRATE ALL AVAILABLE DATA TYPES IN PYTHON. HINT: USE type() function."
   ]
  },
  {
   "cell_type": "code",
   "execution_count": 27,
   "metadata": {},
   "outputs": [
    {
     "data": {
      "text/plain": [
       "int"
      ]
     },
     "execution_count": 27,
     "metadata": {},
     "output_type": "execute_result"
    }
   ],
   "source": [
    "a = 21\n",
    "type(a)"
   ]
  },
  {
   "cell_type": "code",
   "execution_count": 28,
   "metadata": {},
   "outputs": [
    {
     "data": {
      "text/plain": [
       "float"
      ]
     },
     "execution_count": 28,
     "metadata": {},
     "output_type": "execute_result"
    }
   ],
   "source": [
    "b = 3.4\n",
    "type(b)"
   ]
  },
  {
   "cell_type": "code",
   "execution_count": 30,
   "metadata": {},
   "outputs": [
    {
     "data": {
      "text/plain": [
       "complex"
      ]
     },
     "execution_count": 30,
     "metadata": {},
     "output_type": "execute_result"
    }
   ],
   "source": [
    "c = 21+4j\n",
    "type(c)"
   ]
  },
  {
   "cell_type": "code",
   "execution_count": 32,
   "metadata": {},
   "outputs": [
    {
     "data": {
      "text/plain": [
       "str"
      ]
     },
     "execution_count": 32,
     "metadata": {},
     "output_type": "execute_result"
    }
   ],
   "source": [
    "d = \"I am learning Python\"\n",
    "type(d)"
   ]
  },
  {
   "cell_type": "code",
   "execution_count": 37,
   "metadata": {},
   "outputs": [
    {
     "data": {
      "text/plain": [
       "list"
      ]
     },
     "execution_count": 37,
     "metadata": {},
     "output_type": "execute_result"
    }
   ],
   "source": [
    "vegetables = [\"potato, onions, tomato, brinjal\"]\n",
    "type(vegetables)"
   ]
  },
  {
   "cell_type": "code",
   "execution_count": 38,
   "metadata": {},
   "outputs": [
    {
     "data": {
      "text/plain": [
       "tuple"
      ]
     },
     "execution_count": 38,
     "metadata": {},
     "output_type": "execute_result"
    }
   ],
   "source": [
    "names = \"Teena\", \"Samaira\", \"Neel\", \"Angad\"\n",
    "type(names)"
   ]
  },
  {
   "cell_type": "code",
   "execution_count": 39,
   "metadata": {},
   "outputs": [
    {
     "data": {
      "text/plain": [
       "set"
      ]
     },
     "execution_count": 39,
     "metadata": {},
     "output_type": "execute_result"
    }
   ],
   "source": [
    "S1 = {1,1,1,2,2,3,4,5,6,6,7,8,9,9,9}\n",
    "type(S1)"
   ]
  },
  {
   "cell_type": "code",
   "execution_count": 42,
   "metadata": {},
   "outputs": [
    {
     "data": {
      "text/plain": [
       "dict"
      ]
     },
     "execution_count": 42,
     "metadata": {},
     "output_type": "execute_result"
    }
   ],
   "source": [
    "items = {\"CHOCOLATES\": \"KITKAT\", \"COLOR\": \"BLACK\", \"MOVIE\": \"AVENGERS\"}\n",
    "type(items)"
   ]
  },
  {
   "cell_type": "markdown",
   "metadata": {},
   "source": [
    "QUES 7. CREATE A MARKDOWN CELL IN JUPYTER, AND LIST ALL THE STEPS DISCUSSED BY DR. DARSHAN INGLE SIR TO CREATE GITHUB PROFILE AND UPLOAD GITHUB'S ASSIGNMENT LINK."
   ]
  },
  {
   "cell_type": "markdown",
   "metadata": {},
   "source": [
    "ANS. TO CREATE A PROFILE ON GITHUB:\n",
    "1. If you are a new user, sign up for Github using your gmail account.\n",
    "2. After signing up, you have to create a repository. For doing that, you have to name the repository as 'LetsUpgrade AI-ML'.\n",
    "3. The next step would be to decribe the repository, so in the description, write \"Assignments\". Make sure that the repository is public, so do not make any changes on the option of \"Public\" or \"Private\". Click on \"Create Repository\" to create your repository.\n",
    " \n",
    "TO UPLOAD ASSIGNMENTS:\n",
    "1. Create a new folder for each day and name it accordingly on your PC.\n",
    "2. After completing the assignment in Jupyter notebook, rename it and then download it in .ipnyb format on your PC. Save this file in the folder you created.\n",
    "3. Now go to Github, select the option \"upload an existing file\"\n",
    "4. Drag your folder from its location to the screen that opens after previous step. Drop the file on the screen.\n",
    "5. Click on commit chnages and the file will be uploaded to your Github profile.\n",
    "6. To submit the assignment, open the folder on Github, copy the link on the top of the page, and then paste it on the google form provided to submit the assignment. Fill in the rest of the details and submit your assignment.\n"
   ]
  }
 ],
 "metadata": {
  "kernelspec": {
   "display_name": "Python 3",
   "language": "python",
   "name": "python3"
  },
  "language_info": {
   "codemirror_mode": {
    "name": "ipython",
    "version": 3
   },
   "file_extension": ".py",
   "mimetype": "text/x-python",
   "name": "python",
   "nbconvert_exporter": "python",
   "pygments_lexer": "ipython3",
   "version": "3.7.6"
  }
 },
 "nbformat": 4,
 "nbformat_minor": 4
}
