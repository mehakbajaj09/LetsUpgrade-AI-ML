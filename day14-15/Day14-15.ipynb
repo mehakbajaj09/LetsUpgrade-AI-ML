{
 "cells": [
  {
   "cell_type": "markdown",
   "id": "6fb812d6",
   "metadata": {},
   "source": [
    "# 1. Create a 3x3x3 array with random values"
   ]
  },
  {
   "cell_type": "code",
   "execution_count": 31,
   "id": "774a1502",
   "metadata": {},
   "outputs": [
    {
     "data": {
      "text/plain": [
       "array([[[118, 844, 322],\n",
       "        [ 72, 636, 259],\n",
       "        [782,  57, 871]],\n",
       "\n",
       "       [[ 83,  66, 786],\n",
       "        [ 41, 140, 529],\n",
       "        [386, 522, 340]],\n",
       "\n",
       "       [[534, 540, 581],\n",
       "        [371, 817, 122],\n",
       "        [120,  38, 962]]])"
      ]
     },
     "execution_count": 31,
     "metadata": {},
     "output_type": "execute_result"
    }
   ],
   "source": [
    "import numpy as np\n",
    "randomArr= np.random.randint(1,999,size=(3,3,3))\n",
    "\n",
    "randomArr"
   ]
  },
  {
   "cell_type": "markdown",
   "id": "1c1edb5e",
   "metadata": {},
   "source": [
    "# 2.Create a 5x5 matrix with values 1,2,3,4 just below the diagonal"
   ]
  },
  {
   "cell_type": "code",
   "execution_count": 32,
   "id": "5449e49f",
   "metadata": {},
   "outputs": [
    {
     "data": {
      "text/plain": [
       "array([[0, 0, 0, 0, 0],\n",
       "       [1, 0, 0, 0, 0],\n",
       "       [0, 2, 0, 0, 0],\n",
       "       [0, 0, 3, 0, 0],\n",
       "       [0, 0, 0, 4, 0]])"
      ]
     },
     "execution_count": 32,
     "metadata": {},
     "output_type": "execute_result"
    }
   ],
   "source": [
    "arr=np.diag([1,2,3,4], -1)\n",
    "arr"
   ]
  },
  {
   "cell_type": "markdown",
   "id": "07ef0b17",
   "metadata": {},
   "source": [
    "# 3.Create a 8x8 matrix and fill it with a checkerboard pattern"
   ]
  },
  {
   "cell_type": "code",
   "execution_count": 33,
   "id": "c6a72da1",
   "metadata": {},
   "outputs": [
    {
     "name": "stdout",
     "output_type": "stream",
     "text": [
      "[[0. 1. 0. 1. 0. 1. 0. 1.]\n",
      " [1. 0. 1. 0. 1. 0. 1. 0.]\n",
      " [0. 1. 0. 1. 0. 1. 0. 1.]\n",
      " [1. 0. 1. 0. 1. 0. 1. 0.]\n",
      " [0. 1. 0. 1. 0. 1. 0. 1.]\n",
      " [1. 0. 1. 0. 1. 0. 1. 0.]\n",
      " [0. 1. 0. 1. 0. 1. 0. 1.]\n",
      " [1. 0. 1. 0. 1. 0. 1. 0.]]\n"
     ]
    }
   ],
   "source": [
    "arr=np.zeros((8,8))\n",
    "arr[1::2,::2] = 1\n",
    "arr[::2,1::2] = 1\n",
    "print(arr)"
   ]
  },
  {
   "cell_type": "markdown",
   "id": "38993b90",
   "metadata": {},
   "source": [
    "# 4. Normalize a 5x5 random matrix¶\n"
   ]
  },
  {
   "cell_type": "code",
   "execution_count": 49,
   "id": "f2c226c3",
   "metadata": {},
   "outputs": [
    {
     "name": "stdout",
     "output_type": "stream",
     "text": [
      "Original array is \n",
      " [[0.98046297 0.51123504 0.85737995 0.032192   0.87203419]\n",
      " [0.30794128 0.66236108 0.88115393 0.45522998 0.06648017]\n",
      " [0.89180324 0.77880354 0.81746112 0.72266868 0.86338408]\n",
      " [0.00877028 0.76714483 0.45463999 0.40717767 0.46007055]\n",
      " [0.79647374 0.26787047 0.9056808  0.13877373 0.73091953]]\n",
      "Normalised array is \n",
      " [[0.59457506 0.31002456 0.51993472 0.01952196 0.52882138]\n",
      " [0.24963904 0.53695685 0.71432584 0.36904169 0.05389354]\n",
      " [0.4881358  0.4262845  0.44744404 0.39555862 0.47258034]\n",
      " [0.00809864 0.70839538 0.41982277 0.3759952  0.42483744]\n",
      " [0.55227055 0.18573992 0.62799412 0.09622495 0.50681561]]\n"
     ]
    }
   ],
   "source": [
    "arr1=np.random.random((5,5))\n",
    "print(\"Original array is \\n\",arr1)\n",
    "from sklearn.preprocessing import normalize\n",
    "arr2=normalize(arr1)\n",
    "print(\"Normalised array is \\n\",arr2)"
   ]
  },
  {
   "cell_type": "markdown",
   "id": "4e85c715",
   "metadata": {},
   "source": [
    "# 5. How to find common values between two arrays?"
   ]
  },
  {
   "cell_type": "code",
   "execution_count": 55,
   "id": "41efeb3d",
   "metadata": {},
   "outputs": [
    {
     "name": "stdout",
     "output_type": "stream",
     "text": [
      "First array is \n",
      " [10 20 30 40 60]\n",
      "Second  array is \n",
      " [ 20  40  60  80 100]\n",
      "Common elements are  [20 40 60]\n"
     ]
    }
   ],
   "source": [
    "arr3=np.array([10,20,30,40,60])\n",
    "print(\"First array is \\n\",arr3)\n",
    "arr4=np.array([20,40,60,80,100])\n",
    "print(\"Second  array is \\n\",arr4)\n",
    "comarr=np.intersect1d (arr3, arr4)\n",
    "print(\"Common elements are \",comarr)"
   ]
  },
  {
   "cell_type": "markdown",
   "id": "f150deab",
   "metadata": {},
   "source": [
    "# 6.How to get the dates of yesterday, today and tomorrow?"
   ]
  },
  {
   "cell_type": "code",
   "execution_count": 36,
   "id": "b9bb41fe",
   "metadata": {},
   "outputs": [
    {
     "name": "stdout",
     "output_type": "stream",
     "text": [
      "Yestraday:  2021-06-30\n",
      "Today:  2021-07-01\n",
      "Tomorrow:  2021-07-02\n"
     ]
    }
   ],
   "source": [
    "yesterday = np.datetime64('today', 'D') - np.timedelta64(1, 'D')\n",
    "print(\"Yestraday: \",yesterday)\n",
    "today     = np.datetime64('today', 'D')\n",
    "print(\"Today: \",today)\n",
    "tomorrow  = np.datetime64('today', 'D') + np.timedelta64(1, 'D')\n",
    "print(\"Tomorrow: \",tomorrow)"
   ]
  },
  {
   "cell_type": "markdown",
   "id": "aa2e2b64",
   "metadata": {},
   "source": [
    "# 7. Consider two random array A and B, check if they are equal"
   ]
  },
  {
   "cell_type": "code",
   "execution_count": 37,
   "id": "6caf700c",
   "metadata": {},
   "outputs": [
    {
     "name": "stdout",
     "output_type": "stream",
     "text": [
      "First array is\n",
      " [[6 7]\n",
      " [7 4]]\n",
      "Second array is\n",
      " [[6 2]\n",
      " [5 1]]\n",
      "Not equal \n"
     ]
    }
   ],
   "source": [
    "randomArr1= np.random.randint(1,10,size=(2,2))\n",
    "print(\"First array is\\n\",randomArr1)\n",
    "randomArr2= np.random.randint(1,10,size=(2,2))\n",
    "print(\"Second array is\\n\",randomArr2)\n",
    "if ((randomArr1==randomArr2).all()==True):\n",
    "    print(\"Equal \")\n",
    "else:\n",
    "    print(\"Not equal \")"
   ]
  },
  {
   "cell_type": "markdown",
   "id": "1caf0885",
   "metadata": {},
   "source": [
    "# 9. How to print all the values of an array?"
   ]
  },
  {
   "cell_type": "code",
   "execution_count": 64,
   "id": "4e009bd0",
   "metadata": {},
   "outputs": [
    {
     "name": "stdout",
     "output_type": "stream",
     "text": [
      "[ 0  1  2  3  4  5  6  7  8  9 10 11 12 13 14 15 16 17 18 19 20 21 22 23\n",
      " 24 25 26 27 28 29 30 31 32 33 34 35 36 37 38 39 40 41 42 43 44 45 46 47\n",
      " 48 49 50]\n"
     ]
    }
   ],
   "source": [
    "arr5 = np.arange(51)\n",
    "np.set_printoptions(threshold=np.inf)\n",
    "print(arr5)"
   ]
  },
  {
   "cell_type": "markdown",
   "id": "b261c6cc",
   "metadata": {},
   "source": [
    "# 10.Subtract the mean of each row of a matrix¶"
   ]
  },
  {
   "cell_type": "code",
   "execution_count": 70,
   "id": "6bb7b739",
   "metadata": {},
   "outputs": [
    {
     "name": "stdout",
     "output_type": "stream",
     "text": [
      "Original matrix:\n",
      "\n",
      "[[2 3 3 3]\n",
      " [2 4 1 3]\n",
      " [3 3 1 1]]\n",
      "\n",
      "Subtract the mean of each row of the matrix:\n",
      "\n",
      "[[-0.75  0.25  0.25  0.25]\n",
      " [-0.5   1.5  -1.5   0.5 ]\n",
      " [ 1.    1.   -1.   -1.  ]]\n"
     ]
    }
   ],
   "source": [
    "print(\"Original matrix:\\n\")\n",
    "arr6= np.random.randint(1,5,size=(3,4))\n",
    "print(arr6)\n",
    "print(\"\\nSubtract the mean of each row of the matrix:\\n\")\n",
    "arr7 = arr6-arr6.mean(axis=1, keepdims = True)\n",
    "print(arr7)"
   ]
  },
  {
   "cell_type": "markdown",
   "id": "83b5f543",
   "metadata": {},
   "source": [
    "# 11.Consider a given vector, how to add 1 to each element indexed by a second vector (be careful with repeated indices)?"
   ]
  },
  {
   "cell_type": "code",
   "execution_count": 40,
   "id": "a7cac7d5",
   "metadata": {},
   "outputs": [
    {
     "name": "stdout",
     "output_type": "stream",
     "text": [
      "Given vector: [2 7 7 5 5 1 3 5]\n",
      "Indexing vector: [0 0 1 1 1 2 2 2]\n",
      "Result: [3 8 8 5 5 1 3 5]\n"
     ]
    }
   ],
   "source": [
    "a = np.random.randint(1,8,8)\n",
    "print(\"Given vector:\", a)\n",
    "b = np.random.randint(a)\n",
    "c = []\n",
    "b.sort()\n",
    "for i in b:\n",
    "    if i not in c:\n",
    "        c.append(i)\n",
    "\n",
    "for j in c:\n",
    "    a[j] += 1\n",
    "\n",
    "print(\"Indexing vector:\", b)\n",
    "print(\"Result:\",a)"
   ]
  },
  {
   "cell_type": "markdown",
   "id": "3a5c05f5",
   "metadata": {},
   "source": [
    "# 12.How to get the diagonal of a dot product?"
   ]
  },
  {
   "cell_type": "code",
   "execution_count": 76,
   "id": "c7279984",
   "metadata": {},
   "outputs": [
    {
     "data": {
      "text/plain": [
       "array([19, 50])"
      ]
     },
     "execution_count": 76,
     "metadata": {},
     "output_type": "execute_result"
    }
   ],
   "source": [
    "x= [[1,2],[3,4]]\n",
    "y = [[5,6],[7,8]]\n",
    "z = np.diag(np.dot(x,y))\n",
    "z"
   ]
  },
  {
   "cell_type": "markdown",
   "id": "9ceaa30c",
   "metadata": {},
   "source": [
    "# 13.How to find the most frequent value in an array?"
   ]
  },
  {
   "cell_type": "code",
   "execution_count": 82,
   "id": "d09e9071",
   "metadata": {},
   "outputs": [
    {
     "name": "stdout",
     "output_type": "stream",
     "text": [
      "Original array:\n",
      "[48 76 92  2  5 28 55 24 42 93 68 20 42 51 17 88 27 42 41 68 99 64 35 75\n",
      " 36 38 20 54 41 55]\n",
      "Most frequent value in the above array:\n",
      "42\n"
     ]
    }
   ],
   "source": [
    "arr8= np.random.randint(0, 100, 30)\n",
    "print(\"Original array:\")\n",
    "print(arr8)\n",
    "print(\"Most frequent value in the above array:\")\n",
    "print(np.bincount(arr8).argmax())"
   ]
  },
  {
   "cell_type": "markdown",
   "id": "3c113d8e",
   "metadata": {},
   "source": [
    "# 14.How to get the n largest values of an array?"
   ]
  },
  {
   "cell_type": "code",
   "execution_count": 43,
   "id": "4fc4f19b",
   "metadata": {},
   "outputs": [
    {
     "name": "stdout",
     "output_type": "stream",
     "text": [
      "Original array:\n",
      "[ 0  1  2  3  4  5  6  7  8  9 10 11 12 13 14 15 16 17 18 19 20 21 22 23\n",
      " 24 25 26 27 28 29 30 31 32 33 34 35 36 37 38 39 40 41 42 43 44 45 46 47\n",
      " 48 49 50 51 52 53 54 55 56 57 58 59 60 61 62 63 64 65 66 67 68 69 70 71\n",
      " 72 73 74 75 76 77 78 79 80 81 82 83 84 85 86 87 88 89 90 91 92 93 94 95\n",
      " 96 97 98]\n",
      "[98]\n"
     ]
    }
   ],
   "source": [
    "x = np.arange(99)\n",
    "print(\"Original array:\")\n",
    "print(x)\n",
    "np.random.shuffle(x)\n",
    "n = 1\n",
    "print (x[np.argsort(x)[-n:]])"
   ]
  },
  {
   "cell_type": "markdown",
   "id": "3c948f60",
   "metadata": {},
   "source": [
    "# 15.How to create a record array from a regular array?"
   ]
  },
  {
   "cell_type": "code",
   "execution_count": 91,
   "id": "e32cbbf3",
   "metadata": {},
   "outputs": [
    {
     "name": "stdout",
     "output_type": "stream",
     "text": [
      "('Veggie', 'color')\n",
      "('Tomatoes', 'Red')\n",
      "('Chilli ', 'Green')\n",
      "('Carrot', 'Orange')\n",
      "('Lemon', 'Yellow')\n"
     ]
    }
   ],
   "source": [
    "a1=np.array(['Veggie','Tomatoes','Chilli ','Carrot','Lemon'])\n",
    "a2=np.array(['color','Red','Green','Orange','Yellow'])\n",
    "result= np.core.records.fromarrays([a1, a2])\n",
    "print(result[0])\n",
    "print(result[1])\n",
    "print(result[2])\n",
    "print(result[3])\n",
    "print(result[4])"
   ]
  },
  {
   "cell_type": "code",
   "execution_count": null,
   "id": "b954f769",
   "metadata": {},
   "outputs": [],
   "source": []
  }
 ],
 "metadata": {
  "kernelspec": {
   "display_name": "Python 3",
   "language": "python",
   "name": "python3"
  },
  "language_info": {
   "codemirror_mode": {
    "name": "ipython",
    "version": 3
   },
   "file_extension": ".py",
   "mimetype": "text/x-python",
   "name": "python",
   "nbconvert_exporter": "python",
   "pygments_lexer": "ipython3",
   "version": "3.8.8"
  }
 },
 "nbformat": 4,
 "nbformat_minor": 5
}
