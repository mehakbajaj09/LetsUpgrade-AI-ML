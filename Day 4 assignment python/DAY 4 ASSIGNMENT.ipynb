{
 "cells": [
  {
   "cell_type": "markdown",
   "metadata": {},
   "source": [
    "QUES 1. RESEARCH ON WHETHER ADDITION, SUBTRACTION, MULTIPLICATION, DIVISION, FLOOR DIVISION,AND MODULO OPERATIONS CAN BE CARRIED OUT ON COMPLEX NUMBERS. BASED ON YOUR STUDY, IMPLEMENT A PYTHON PROGRAM TO DEMONSTRATE THESE OPERATIONS. "
   ]
  },
  {
   "cell_type": "code",
   "execution_count": 9,
   "metadata": {},
   "outputs": [
    {
     "name": "stdout",
     "output_type": "stream",
     "text": [
      "(15+36j)\n"
     ]
    }
   ],
   "source": [
    "x1= 5 +15j\n",
    "x2= 10+21j\n",
    "\n",
    "print(x1+x2)"
   ]
  },
  {
   "cell_type": "code",
   "execution_count": 14,
   "metadata": {},
   "outputs": [
    {
     "name": "stdout",
     "output_type": "stream",
     "text": [
      "(9+6j)\n",
      "(180+270j)\n",
      "(1.8+0.1j)\n"
     ]
    },
    {
     "ename": "TypeError",
     "evalue": "can't take floor of complex number.",
     "output_type": "error",
     "traceback": [
      "\u001b[1;31m---------------------------------------------------------------------------\u001b[0m",
      "\u001b[1;31mTypeError\u001b[0m                                 Traceback (most recent call last)",
      "\u001b[1;32m<ipython-input-14-d47c074bcbbf>\u001b[0m in \u001b[0;36m<module>\u001b[1;34m\u001b[0m\n\u001b[0;32m      5\u001b[0m \u001b[0mprint\u001b[0m\u001b[1;33m(\u001b[0m\u001b[0ma1\u001b[0m\u001b[1;33m*\u001b[0m\u001b[0ma2\u001b[0m\u001b[1;33m)\u001b[0m\u001b[1;33m\u001b[0m\u001b[1;33m\u001b[0m\u001b[0m\n\u001b[0;32m      6\u001b[0m \u001b[0mprint\u001b[0m\u001b[1;33m(\u001b[0m\u001b[0ma1\u001b[0m\u001b[1;33m/\u001b[0m\u001b[0ma2\u001b[0m\u001b[1;33m)\u001b[0m\u001b[1;33m\u001b[0m\u001b[1;33m\u001b[0m\u001b[0m\n\u001b[1;32m----> 7\u001b[1;33m \u001b[0mprint\u001b[0m\u001b[1;33m(\u001b[0m\u001b[0ma1\u001b[0m\u001b[1;33m//\u001b[0m\u001b[0ma2\u001b[0m\u001b[1;33m)\u001b[0m  \u001b[1;31m# this is floor division operation, which is not possible to be carried out in the case of complex numbers\u001b[0m\u001b[1;33m\u001b[0m\u001b[1;33m\u001b[0m\u001b[0m\n\u001b[0m",
      "\u001b[1;31mTypeError\u001b[0m: can't take floor of complex number."
     ]
    }
   ],
   "source": [
    "a1= 21+12j\n",
    "a2= 12+6j\n",
    "\n",
    "print(a1-a2)\n",
    "print(a1*a2)\n",
    "print(a1/a2)\n",
    "print(a1//a2)  # this is floor division operation, which is not possible to be carried out in the case of complex numbers\n"
   ]
  },
  {
   "cell_type": "code",
   "execution_count": 15,
   "metadata": {},
   "outputs": [
    {
     "ename": "TypeError",
     "evalue": "can't mod complex numbers.",
     "output_type": "error",
     "traceback": [
      "\u001b[1;31m---------------------------------------------------------------------------\u001b[0m",
      "\u001b[1;31mTypeError\u001b[0m                                 Traceback (most recent call last)",
      "\u001b[1;32m<ipython-input-15-da526131e361>\u001b[0m in \u001b[0;36m<module>\u001b[1;34m\u001b[0m\n\u001b[0;32m      2\u001b[0m \u001b[0mm2\u001b[0m \u001b[1;33m=\u001b[0m \u001b[1;36m7\u001b[0m\u001b[1;33m+\u001b[0m\u001b[1;36m3j\u001b[0m\u001b[1;33m\u001b[0m\u001b[1;33m\u001b[0m\u001b[0m\n\u001b[0;32m      3\u001b[0m \u001b[1;33m\u001b[0m\u001b[0m\n\u001b[1;32m----> 4\u001b[1;33m \u001b[0mprint\u001b[0m\u001b[1;33m(\u001b[0m\u001b[0mm1\u001b[0m\u001b[1;33m%\u001b[0m\u001b[0mm2\u001b[0m\u001b[1;33m)\u001b[0m\u001b[1;33m\u001b[0m\u001b[1;33m\u001b[0m\u001b[0m\n\u001b[0m",
      "\u001b[1;31mTypeError\u001b[0m: can't mod complex numbers."
     ]
    }
   ],
   "source": [
    "m1 = 21+12j\n",
    "m2 = 7+3j\n",
    "\n",
    "print(m1%m2)  # this is modulo function which cannot be performed in case of complex numbers."
   ]
  },
  {
   "cell_type": "markdown",
   "metadata": {},
   "source": [
    "CONCLUSION: EXCEPT MODULO AND FLOOR DIVISION, THE REST OF THE FUNCTIONS, i.e. ADDITION, DIVISION, MULTIPLICATION AND SUBTRACTION CAN BE CARRIED OUT IN THE CASE OF COMPLEX NUMBERS, THAT ARE USUALLY IN THE FORMAT OF a+bj."
   ]
  },
  {
   "cell_type": "code",
   "execution_count": null,
   "metadata": {},
   "outputs": [],
   "source": []
  },
  {
   "cell_type": "markdown",
   "metadata": {},
   "source": [
    "QUES 2. REASEARCH ON RANGE() FUNCTIONS AND ITS PARAMETERS. WRITE IN YOUR OWN LANGUAGE WHAT YOU UNDERSTAND BY IT. IMPLEMENT A SMALL PROGRAM OF YOUR CHOICE ON THE SAME."
   ]
  },
  {
   "cell_type": "markdown",
   "metadata": {},
   "source": [
    "ANS. Range() function is used to generate all the integers betweent a defined start and stop integer value. It is necessary to define the end value of the range, but this end value will not be included in the list of integers that is generated. If the STEP is also not definde, the range function automatically takes the gap between each integer to be 1.It cannopt be 0 or else the program, on running, will generate a Value error. The range function will even work if the START of the range is not defined, wherein python will automatically take it to be 0. The start,step and stop arguments can be positive or negative. Range function will only work with integers, it will not work for float or any other type of value."
   ]
  },
  {
   "cell_type": "code",
   "execution_count": 7,
   "metadata": {},
   "outputs": [
    {
     "name": "stdout",
     "output_type": "stream",
     "text": [
      "9\n",
      "12\n",
      "15\n",
      "18\n",
      "21\n",
      "24\n",
      "27\n",
      "30\n",
      "33\n",
      "36\n",
      "39\n",
      "42\n",
      "45\n",
      "48\n",
      "51\n",
      "54\n",
      "57\n",
      "60\n",
      "63\n",
      "66\n",
      "69\n",
      "72\n",
      "75\n",
      "78\n",
      "81\n",
      "84\n",
      "87\n",
      "90\n",
      "93\n",
      "96\n",
      "99\n"
     ]
    }
   ],
   "source": [
    "for i in range(9, 100, 3):   # write a program to print numbers between 9 and 100 that are divisible by 3 using range() function.\n",
    "    print(i)"
   ]
  },
  {
   "cell_type": "markdown",
   "metadata": {},
   "source": [
    "QUES 3. CONSIDER TWO NUMBERS. PERFORM THEIR SUBTRACTION, AND IF THE RESULT OF THEIR SUBTRACTION IS GREATER THAN 25, PRINT THEIR MULTIPLICATION RESULT,IF IT IS LESSER, PRINT THEIR DIVISION RESULT."
   ]
  },
  {
   "cell_type": "code",
   "execution_count": 1,
   "metadata": {},
   "outputs": [
    {
     "name": "stdout",
     "output_type": "stream",
     "text": [
      "26\n",
      "920\n"
     ]
    }
   ],
   "source": [
    "n1= 46\n",
    "n2= 20\n",
    "\n",
    "print(n1-n2)\n",
    "if (n1-n2)>25:\n",
    "    print(n1*n2)\n",
    "else:\n",
    "    print(n1/n2)\n",
    "    "
   ]
  },
  {
   "cell_type": "code",
   "execution_count": 2,
   "metadata": {},
   "outputs": [
    {
     "name": "stdout",
     "output_type": "stream",
     "text": [
      "10\n",
      "1.5\n"
     ]
    }
   ],
   "source": [
    "n1= 30\n",
    "n2= 20\n",
    "\n",
    "print(n1-n2)\n",
    "if (n1-n2)>25:\n",
    "    print(n1*n2)\n",
    "else:\n",
    "    print(n1/n2)\n",
    "    "
   ]
  },
  {
   "cell_type": "markdown",
   "metadata": {},
   "source": [
    "QUES 4. CONSIDER A LIST OF 10 NUMBERS OF INTEGER VALUES. IF THE NUMBER IN THE LIST IS DIVISIBLE BY 2, PRINT THE RESULT AS \"SQUARE OF THAT NUMBER MINUS TWO\"\n"
   ]
  },
  {
   "cell_type": "code",
   "execution_count": 3,
   "metadata": {},
   "outputs": [
    {
     "name": "stdout",
     "output_type": "stream",
     "text": [
      "Enter a number: -10\n",
      "98\n"
     ]
    }
   ],
   "source": [
    "lst = (-10,0,3,4,5,6,7,8,9,10)\n",
    "\n",
    "num = int(input(\"Enter a number: \"))\n",
    "if num/2:\n",
    "    print(num**2 -2)\n",
    "else:\n",
    "    print(num, \"IS NOT DIVISIBLE BY 2\")"
   ]
  },
  {
   "cell_type": "code",
   "execution_count": 4,
   "metadata": {},
   "outputs": [
    {
     "name": "stdout",
     "output_type": "stream",
     "text": [
      "Enter a number: 0\n",
      "0 IS NOT DIVISIBLE BY 2\n"
     ]
    }
   ],
   "source": [
    "lst = (1,2,3,4,5,6,7,8,9,10)\n",
    "\n",
    "num = int(input(\"Enter a number: \"))\n",
    "if num/2:\n",
    "    print(num**2 -2)\n",
    "else:\n",
    "    print(num, \"IS NOT DIVISIBLE BY 2\")"
   ]
  },
  {
   "cell_type": "code",
   "execution_count": 5,
   "metadata": {},
   "outputs": [
    {
     "name": "stdout",
     "output_type": "stream",
     "text": [
      "Enter a number: 7\n",
      "47\n"
     ]
    }
   ],
   "source": [
    "lst = (-10,0,3,4,5,6,7,8,9,10)\n",
    "\n",
    "num = int(input(\"Enter a number: \"))\n",
    "if num/2:\n",
    "    print(num**2 -2)\n",
    "else:\n",
    "    print(num, \"IS NOT DIVISIBLE BY 2\")"
   ]
  },
  {
   "cell_type": "markdown",
   "metadata": {},
   "source": [
    "QUES 5. CONSIDER A LIST OF 10 ELEMENTS. PRINT ALL THE ELEMENTS IN THE LIST WHICH ARE GREATER THAN 7 WHEN THAT NUMBER IS DIVIDED BY 2."
   ]
  },
  {
   "cell_type": "code",
   "execution_count": 6,
   "metadata": {},
   "outputs": [
    {
     "name": "stdout",
     "output_type": "stream",
     "text": [
      "ENTER THE LOWER RANGE LIMIT: 6\n",
      "ENTER THE UPPER RANGE LIMIT: 16\n",
      "ENTER THE NUMBER TO BE DIVIDED BY: 2\n",
      "14\n",
      "15\n",
      "16\n"
     ]
    }
   ],
   "source": [
    "lower = int(input(\"ENTER THE LOWER RANGE LIMIT: \"))\n",
    "upper = int(input(\"ENTER THE UPPER RANGE LIMIT: \"))\n",
    "n = int(input(\"ENTER THE NUMBER TO BE DIVIDED BY: \"))\n",
    "\n",
    "for i in range(lower,upper+1):\n",
    "    if(i/n >= 7):\n",
    "        print(i)\n",
    "    "
   ]
  },
  {
   "cell_type": "code",
   "execution_count": null,
   "metadata": {},
   "outputs": [],
   "source": []
  }
 ],
 "metadata": {
  "kernelspec": {
   "display_name": "Python 3",
   "language": "python",
   "name": "python3"
  },
  "language_info": {
   "codemirror_mode": {
    "name": "ipython",
    "version": 3
   },
   "file_extension": ".py",
   "mimetype": "text/x-python",
   "name": "python",
   "nbconvert_exporter": "python",
   "pygments_lexer": "ipython3",
   "version": "3.7.6"
  }
 },
 "nbformat": 4,
 "nbformat_minor": 4
}
