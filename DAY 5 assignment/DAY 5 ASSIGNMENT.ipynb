{
 "cells": [
  {
   "cell_type": "markdown",
   "metadata": {},
   "source": [
    "QUES 1. WRITE A PROGRAM TO FIND THE FIRST 20 NON-EVEN PRIME NATURAL NUMBERS."
   ]
  },
  {
   "cell_type": "code",
   "execution_count": 1,
   "metadata": {},
   "outputs": [
    {
     "name": "stdout",
     "output_type": "stream",
     "text": [
      "Enter a number: 25\n",
      "25 is a prime natural number\n"
     ]
    }
   ],
   "source": [
    "num = int(input(\"Enter a number: \"))\n",
    "if num<=1:\n",
    "    print (num, \"is not a prime natural number\")\n",
    "else:\n",
    "    for i in range(1,75):\n",
    "        if(num%2)==0 and (num%i)== 0:\n",
    "            print (num, \"is a prime natural number\")\n",
    "    else:\n",
    "        print (num, \"is a prime natural number\")\n",
    "        "
   ]
  },
  {
   "cell_type": "markdown",
   "metadata": {},
   "source": [
    "QUES 2. WRITE A PYTHON PROGRAM TO IMPLEMENT 15 FUNCTIONS OF STRINGS."
   ]
  },
  {
   "cell_type": "code",
   "execution_count": 2,
   "metadata": {},
   "outputs": [],
   "source": [
    "message = \"i am learning AI-ML with LetsUpgrade\""
   ]
  },
  {
   "cell_type": "code",
   "execution_count": 3,
   "metadata": {},
   "outputs": [
    {
     "data": {
      "text/plain": [
       "'I am learning ai-ml with letsupgrade'"
      ]
     },
     "execution_count": 3,
     "metadata": {},
     "output_type": "execute_result"
    }
   ],
   "source": [
    "message.capitalize()"
   ]
  },
  {
   "cell_type": "code",
   "execution_count": 4,
   "metadata": {},
   "outputs": [
    {
     "data": {
      "text/plain": [
       "'i am learning ai-ml with letsupgrade'"
      ]
     },
     "execution_count": 4,
     "metadata": {},
     "output_type": "execute_result"
    }
   ],
   "source": [
    "message.casefold()"
   ]
  },
  {
   "cell_type": "code",
   "execution_count": 5,
   "metadata": {},
   "outputs": [
    {
     "data": {
      "text/plain": [
       "1"
      ]
     },
     "execution_count": 5,
     "metadata": {},
     "output_type": "execute_result"
    }
   ],
   "source": [
    "message.count(message)"
   ]
  },
  {
   "cell_type": "code",
   "execution_count": 6,
   "metadata": {},
   "outputs": [
    {
     "data": {
      "text/plain": [
       "'I AM LEARNING AI-ML WITH LETSUPGRADE'"
      ]
     },
     "execution_count": 6,
     "metadata": {},
     "output_type": "execute_result"
    }
   ],
   "source": [
    "message.upper()"
   ]
  },
  {
   "cell_type": "code",
   "execution_count": 7,
   "metadata": {},
   "outputs": [],
   "source": [
    "name1 = \"mehak, bajaj\""
   ]
  },
  {
   "cell_type": "code",
   "execution_count": 8,
   "metadata": {},
   "outputs": [
    {
     "data": {
      "text/plain": [
       "'hak'"
      ]
     },
     "execution_count": 8,
     "metadata": {},
     "output_type": "execute_result"
    }
   ],
   "source": [
    "name1[2:5]"
   ]
  },
  {
   "cell_type": "code",
   "execution_count": 9,
   "metadata": {},
   "outputs": [],
   "source": [
    "name1 = \"MEHAK\""
   ]
  },
  {
   "cell_type": "code",
   "execution_count": 10,
   "metadata": {},
   "outputs": [
    {
     "data": {
      "text/plain": [
       "1"
      ]
     },
     "execution_count": 10,
     "metadata": {},
     "output_type": "execute_result"
    }
   ],
   "source": [
    "name1.count(\"E\")"
   ]
  },
  {
   "cell_type": "code",
   "execution_count": 11,
   "metadata": {},
   "outputs": [
    {
     "data": {
      "text/plain": [
       "'KEHAK'"
      ]
     },
     "execution_count": 11,
     "metadata": {},
     "output_type": "execute_result"
    }
   ],
   "source": [
    "name1.replace(\"M\",\"K\")"
   ]
  },
  {
   "cell_type": "code",
   "execution_count": 12,
   "metadata": {},
   "outputs": [],
   "source": [
    "message1 = \"Learning  Python is fun\""
   ]
  },
  {
   "cell_type": "code",
   "execution_count": 13,
   "metadata": {},
   "outputs": [
    {
     "data": {
      "text/plain": [
       "4"
      ]
     },
     "execution_count": 13,
     "metadata": {},
     "output_type": "execute_result"
    }
   ],
   "source": [
    "message1.count(\"n\")"
   ]
  },
  {
   "cell_type": "code",
   "execution_count": 14,
   "metadata": {},
   "outputs": [
    {
     "data": {
      "text/plain": [
       "4"
      ]
     },
     "execution_count": 14,
     "metadata": {},
     "output_type": "execute_result"
    }
   ],
   "source": [
    "message1.find(\"n\")"
   ]
  },
  {
   "cell_type": "code",
   "execution_count": 15,
   "metadata": {},
   "outputs": [
    {
     "data": {
      "text/plain": [
       "False"
      ]
     },
     "execution_count": 15,
     "metadata": {},
     "output_type": "execute_result"
    }
   ],
   "source": [
    "message1.isalpha()"
   ]
  },
  {
   "cell_type": "code",
   "execution_count": 16,
   "metadata": {},
   "outputs": [
    {
     "data": {
      "text/plain": [
       "<function str.expandtabs(tabsize=8)>"
      ]
     },
     "execution_count": 16,
     "metadata": {},
     "output_type": "execute_result"
    }
   ],
   "source": [
    "message1.expandtabs"
   ]
  },
  {
   "cell_type": "code",
   "execution_count": 17,
   "metadata": {},
   "outputs": [
    {
     "data": {
      "text/plain": [
       "'wLearning  Python is funoLearning  Python is funrLearning  Python is funk'"
      ]
     },
     "execution_count": 17,
     "metadata": {},
     "output_type": "execute_result"
    }
   ],
   "source": [
    "message1.join(\"work\")"
   ]
  },
  {
   "cell_type": "code",
   "execution_count": 18,
   "metadata": {},
   "outputs": [
    {
     "data": {
      "text/plain": [
       "'lEARNING  pYTHON IS FUN'"
      ]
     },
     "execution_count": 18,
     "metadata": {},
     "output_type": "execute_result"
    }
   ],
   "source": [
    "message1.swapcase()"
   ]
  },
  {
   "cell_type": "code",
   "execution_count": 19,
   "metadata": {},
   "outputs": [
    {
     "data": {
      "text/plain": [
       "'Learning  Python Is Fun'"
      ]
     },
     "execution_count": 19,
     "metadata": {},
     "output_type": "execute_result"
    }
   ],
   "source": [
    "message1.title()"
   ]
  },
  {
   "cell_type": "code",
   "execution_count": 20,
   "metadata": {},
   "outputs": [
    {
     "data": {
      "text/plain": [
       "True"
      ]
     },
     "execution_count": 20,
     "metadata": {},
     "output_type": "execute_result"
    }
   ],
   "source": [
    "message1.endswith(\"fun\")"
   ]
  },
  {
   "cell_type": "markdown",
   "metadata": {},
   "source": [
    "QUES 3. WRITE A PROGRAM TO CHECK IF A STRING IS PALINDROME, OR ANAGRAM OR NONE OF THEM. DISPLAY THE MESSAGE ACCORDING TO THE USER."
   ]
  },
  {
   "cell_type": "code",
   "execution_count": 21,
   "metadata": {},
   "outputs": [
    {
     "name": "stdout",
     "output_type": "stream",
     "text": [
      "ENTER A STRING: house\n",
      "String:  house\n",
      "Reverse:  esuoh\n",
      "IT IS NOT A PALINDROME\n"
     ]
    }
   ],
   "source": [
    "def check(st):\n",
    "    rev=st[::-1]\n",
    "    print(\"String: \",st)\n",
    "    print(\"Reverse: \",rev)\n",
    "    if (st==rev):\n",
    "        return True\n",
    "    else:\n",
    "        return False\n",
    "    \n",
    "x= input(\"ENTER A STRING: \")\n",
    "if check(x):\n",
    "    print(\"IT IS A PALINDROME\")\n",
    "else:\n",
    "    print(\"IT IS NOT A PALINDROME\")"
   ]
  },
  {
   "cell_type": "code",
   "execution_count": 22,
   "metadata": {},
   "outputs": [
    {
     "name": "stdout",
     "output_type": "stream",
     "text": [
      "ENTER A STRING: radar\n",
      "String:  radar\n",
      "Reverse:  radar\n",
      "IT IS A PALINDROME\n"
     ]
    }
   ],
   "source": [
    "def check(st):\n",
    "    rev=st[::-1]\n",
    "    print(\"String: \",st)\n",
    "    print(\"Reverse: \",rev)\n",
    "    if (st==rev):\n",
    "        return True\n",
    "    else:\n",
    "        return False\n",
    "    \n",
    "x= input(\"ENTER A STRING: \")\n",
    "if check(x):\n",
    "    print(\"IT IS A PALINDROME\")\n",
    "else:\n",
    "    print(\"IT IS NOT A PALINDROME\")"
   ]
  },
  {
   "cell_type": "code",
   "execution_count": 23,
   "metadata": {},
   "outputs": [
    {
     "name": "stdout",
     "output_type": "stream",
     "text": [
      "is_anagram?: True\n"
     ]
    }
   ],
   "source": [
    "string1 = \"silent\"\n",
    "string2 = \"listen\"\n",
    "\n",
    "def is_anagram(str1,str2):\n",
    "    count_map = {}\n",
    "    for i in str1:\n",
    "        count_map[i] = count_map.get(i,0)+1\n",
    "    for i in str2:\n",
    "        count_map[i] = count_map.get(i,0)-1\n",
    "    return all(count==0 for count in count_map.values())\n",
    "\n",
    "print(\"is_anagram?:\", is_anagram(string1,string2))\n",
    "        "
   ]
  },
  {
   "cell_type": "code",
   "execution_count": 24,
   "metadata": {},
   "outputs": [
    {
     "name": "stdout",
     "output_type": "stream",
     "text": [
      "is_anagram?: False\n"
     ]
    }
   ],
   "source": [
    "string1 = \"house\"\n",
    "string2 = \"mouse\"\n",
    "\n",
    "def is_anagram(str1,str2):\n",
    "    count_map = {}\n",
    "    for i in str1:\n",
    "        count_map[i] = count_map.get(i,0)+1\n",
    "    for i in str2:\n",
    "        count_map[i] = count_map.get(i,0)-1\n",
    "    return all(count==0 for count in count_map.values())\n",
    "\n",
    "print(\"is_anagram?:\", is_anagram(string1,string2))\n",
    "        "
   ]
  },
  {
   "cell_type": "markdown",
   "metadata": {},
   "source": [
    "QUES 4. WRITE A PYTHON'S USER DEFINED FUNCTION THAT REMOVES ALL THE ADDITIONAL CHARACTERS FROM THE STRING AND CONVERTS IT FINALLY TO LOWER CASE USING BUILT-IN LOWER()."
   ]
  },
  {
   "cell_type": "code",
   "execution_count": 30,
   "metadata": {},
   "outputs": [
    {
     "name": "stdout",
     "output_type": "stream",
     "text": [
      "Iamlearningpythonthroughletsupgrade.\n"
     ]
    }
   ],
   "source": [
    "message = \"I am learning python through letsupgrade.\"\n",
    "\n",
    "\n",
    "def removespaces(str):\n",
    "    new_string = \"\"\n",
    "    for i in range(len(str)):\n",
    "        if (str[i]!= \" \"):\n",
    "            new_string += str[i]\n",
    "            \n",
    "    return new_string\n",
    "\n",
    "print(removespaces(message))\n"
   ]
  },
  {
   "cell_type": "code",
   "execution_count": null,
   "metadata": {},
   "outputs": [],
   "source": []
  }
 ],
 "metadata": {
  "kernelspec": {
   "display_name": "Python 3",
   "language": "python",
   "name": "python3"
  },
  "language_info": {
   "codemirror_mode": {
    "name": "ipython",
    "version": 3
   },
   "file_extension": ".py",
   "mimetype": "text/x-python",
   "name": "python",
   "nbconvert_exporter": "python",
   "pygments_lexer": "ipython3",
   "version": "3.7.6"
  }
 },
 "nbformat": 4,
 "nbformat_minor": 4
}
