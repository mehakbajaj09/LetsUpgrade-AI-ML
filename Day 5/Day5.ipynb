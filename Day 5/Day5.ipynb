{
 "cells": [
  {
   "cell_type": "markdown",
   "id": "07f6a6a8",
   "metadata": {},
   "source": [
    "# Q1. NON EVEN PRIME NUMBERS"
   ]
  },
  {
   "cell_type": "code",
   "execution_count": 44,
   "id": "1c1e173a",
   "metadata": {},
   "outputs": [
    {
     "name": "stdout",
     "output_type": "stream",
     "text": [
      "3\n",
      "5\n",
      "7\n",
      "11\n",
      "13\n",
      "17\n",
      "19\n",
      "23\n",
      "29\n",
      "31\n",
      "37\n",
      "41\n",
      "43\n",
      "47\n",
      "53\n",
      "59\n",
      "61\n",
      "67\n",
      "71\n",
      "73\n"
     ]
    }
   ],
   "source": [
    "x=0\n",
    "y=0\n",
    "while x != 20:\n",
    "    if y > 1:\n",
    "        for i in range(2,y):\n",
    "            if y%i == 0:\n",
    "                break\n",
    "        else:\n",
    "            if y%2 != 0:\n",
    "                print(y)\n",
    "                x=x+1\n",
    "    y=y+1"
   ]
  },
  {
   "cell_type": "code",
   "execution_count": 45,
   "id": "92223aec",
   "metadata": {},
   "outputs": [],
   "source": [
    "# cnt=0\n",
    "# while(cnt!=20):\n",
    "#     for num in range(2,100):\n",
    "#         if num > 2:\n",
    "#             for i in range(2,num):\n",
    "#                 if (num % i) == 0:\n",
    "#                     break\n",
    "#             else:\n",
    "#                 print(num)\n",
    "#             cnt=cnt+1"
   ]
  },
  {
   "cell_type": "markdown",
   "id": "0e3f6fbc",
   "metadata": {},
   "source": [
    "# Q2 FUNCTIONS OF A STRING\n"
   ]
  },
  {
   "cell_type": "code",
   "execution_count": 46,
   "id": "80eba79f",
   "metadata": {},
   "outputs": [
    {
     "data": {
      "text/plain": [
       "'My name is mehak bajaj'"
      ]
     },
     "execution_count": 46,
     "metadata": {},
     "output_type": "execute_result"
    }
   ],
   "source": [
    "name=\"My name is Mehak Bajaj\"\n",
    "name.capitalize()"
   ]
  },
  {
   "cell_type": "code",
   "execution_count": 47,
   "id": "e4b9260d",
   "metadata": {},
   "outputs": [
    {
     "data": {
      "text/plain": [
       "'my name is mehak bajaj'"
      ]
     },
     "execution_count": 47,
     "metadata": {},
     "output_type": "execute_result"
    }
   ],
   "source": [
    "name.casefold()"
   ]
  },
  {
   "cell_type": "code",
   "execution_count": 48,
   "id": "a0313a89",
   "metadata": {},
   "outputs": [
    {
     "data": {
      "text/plain": [
       "'                                       My name is Mehak Bajaj                                       '"
      ]
     },
     "execution_count": 48,
     "metadata": {},
     "output_type": "execute_result"
    }
   ],
   "source": [
    "name.center(100)"
   ]
  },
  {
   "cell_type": "code",
   "execution_count": 49,
   "id": "8e41d95a",
   "metadata": {},
   "outputs": [
    {
     "data": {
      "text/plain": [
       "1"
      ]
     },
     "execution_count": 49,
     "metadata": {},
     "output_type": "execute_result"
    }
   ],
   "source": [
    "name.count(\"m\")"
   ]
  },
  {
   "cell_type": "code",
   "execution_count": 50,
   "id": "15608642",
   "metadata": {},
   "outputs": [
    {
     "data": {
      "text/plain": [
       "b'My name is Mehak Bajaj'"
      ]
     },
     "execution_count": 50,
     "metadata": {},
     "output_type": "execute_result"
    }
   ],
   "source": [
    "name.encode()\n"
   ]
  },
  {
   "cell_type": "code",
   "execution_count": 51,
   "id": "cf02b6b5",
   "metadata": {},
   "outputs": [
    {
     "data": {
      "text/plain": [
       "False"
      ]
     },
     "execution_count": 51,
     "metadata": {},
     "output_type": "execute_result"
    }
   ],
   "source": [
    "name.endswith(\"h\")"
   ]
  },
  {
   "cell_type": "code",
   "execution_count": 52,
   "id": "8f1f812d",
   "metadata": {},
   "outputs": [
    {
     "data": {
      "text/plain": [
       "'My name is Mehak Bajaj'"
      ]
     },
     "execution_count": 52,
     "metadata": {},
     "output_type": "execute_result"
    }
   ],
   "source": [
    "name.expandtabs()"
   ]
  },
  {
   "cell_type": "code",
   "execution_count": 53,
   "id": "2f57910c",
   "metadata": {},
   "outputs": [
    {
     "data": {
      "text/plain": [
       "9"
      ]
     },
     "execution_count": 53,
     "metadata": {},
     "output_type": "execute_result"
    }
   ],
   "source": [
    "name.find(\"s\")"
   ]
  },
  {
   "cell_type": "code",
   "execution_count": 54,
   "id": "f482c3fa",
   "metadata": {},
   "outputs": [
    {
     "data": {
      "text/plain": [
       "4"
      ]
     },
     "execution_count": 54,
     "metadata": {},
     "output_type": "execute_result"
    }
   ],
   "source": [
    "name.index(\"a\")"
   ]
  },
  {
   "cell_type": "code",
   "execution_count": 55,
   "id": "8673a7bd",
   "metadata": {},
   "outputs": [
    {
     "data": {
      "text/plain": [
       "False"
      ]
     },
     "execution_count": 55,
     "metadata": {},
     "output_type": "execute_result"
    }
   ],
   "source": [
    "name.isalnum()"
   ]
  },
  {
   "cell_type": "code",
   "execution_count": 56,
   "id": "5c16c3fd",
   "metadata": {},
   "outputs": [
    {
     "data": {
      "text/plain": [
       "False"
      ]
     },
     "execution_count": 56,
     "metadata": {},
     "output_type": "execute_result"
    }
   ],
   "source": [
    "name.isalpha()"
   ]
  },
  {
   "cell_type": "code",
   "execution_count": 57,
   "id": "ad58415b",
   "metadata": {},
   "outputs": [
    {
     "data": {
      "text/plain": [
       "False"
      ]
     },
     "execution_count": 57,
     "metadata": {},
     "output_type": "execute_result"
    }
   ],
   "source": [
    "name.isdigit()\n"
   ]
  },
  {
   "cell_type": "code",
   "execution_count": 58,
   "id": "85362bd5",
   "metadata": {},
   "outputs": [
    {
     "data": {
      "text/plain": [
       "True"
      ]
     },
     "execution_count": 58,
     "metadata": {},
     "output_type": "execute_result"
    }
   ],
   "source": [
    "name.isascii()"
   ]
  },
  {
   "cell_type": "code",
   "execution_count": 59,
   "id": "2a631e82",
   "metadata": {},
   "outputs": [
    {
     "data": {
      "text/plain": [
       "False"
      ]
     },
     "execution_count": 59,
     "metadata": {},
     "output_type": "execute_result"
    }
   ],
   "source": [
    "name.isspace()"
   ]
  },
  {
   "cell_type": "code",
   "execution_count": 60,
   "id": "5ea5e795",
   "metadata": {},
   "outputs": [
    {
     "data": {
      "text/plain": [
       "'my name is mehak bajaj'"
      ]
     },
     "execution_count": 60,
     "metadata": {},
     "output_type": "execute_result"
    }
   ],
   "source": [
    "name.lower()"
   ]
  },
  {
   "cell_type": "code",
   "execution_count": 61,
   "id": "f5e557a2",
   "metadata": {},
   "outputs": [
    {
     "data": {
      "text/plain": [
       "('My name ', 'is', ' Mehak Bajaj')"
      ]
     },
     "execution_count": 61,
     "metadata": {},
     "output_type": "execute_result"
    }
   ],
   "source": [
    "name.partition(\"is\")"
   ]
  },
  {
   "cell_type": "markdown",
   "id": "4fa0fa91",
   "metadata": {},
   "source": [
    "# Q3 PALINDROME or ANAGRAM"
   ]
  },
  {
   "cell_type": "code",
   "execution_count": 62,
   "id": "5bf890d1",
   "metadata": {},
   "outputs": [
    {
     "name": "stdout",
     "output_type": "stream",
     "text": [
      "Enter String 1mno\n",
      "Enter String 2mom\n",
      "mno & mom  are Not palindrome nor anagram\n"
     ]
    }
   ],
   "source": [
    "s1= input(\"Enter String 1\").lower()\n",
    "s2= input(\"Enter String 2\").lower()\n",
    "if s1==s2[::-1]:\n",
    "    print(s1,\"&\",s2,\" are Palidrome and anagram \")\n",
    "elif  sorted(s1)==sorted(s2):\n",
    "    print(s1,\"&\",s2,\" Are not a  Palindrome but anagram\")\n",
    "else:\n",
    "    print(s1,\"&\",s2,\" are Not palindrome nor anagram\")"
   ]
  },
  {
   "cell_type": "markdown",
   "id": "a3b5da50",
   "metadata": {},
   "source": [
    "# Q4 CONVERSION TO ALPHA LOWER"
   ]
  },
  {
   "cell_type": "code",
   "execution_count": 63,
   "id": "52cd6072",
   "metadata": {},
   "outputs": [
    {
     "name": "stdout",
     "output_type": "stream",
     "text": [
      "drdarshaningleaimltrainer\n"
     ]
    }
   ],
   "source": [
    "def onlyalpha(s):\n",
    "    n=0\n",
    "    str1=\"\"\n",
    "    lst=[]\n",
    "#s=\"Dr. Darshan Ingle @AI-ML Trainer\"\n",
    "    for i in s:\n",
    "        if s[n].isalpha()==True:\n",
    "            lst.append(s[n])\n",
    "        n=n+1\n",
    "    for al in lst:\n",
    "        str1=str1+al\n",
    "    print(str1.lower())\n",
    "onlyalpha( \"Dr. Darshan Ingle @AI-ML Trainer\")"
   ]
  },
  {
   "cell_type": "code",
   "execution_count": null,
   "id": "a36bf1ff",
   "metadata": {},
   "outputs": [],
   "source": []
  }
 ],
 "metadata": {
  "kernelspec": {
   "display_name": "Python 3",
   "language": "python",
   "name": "python3"
  },
  "language_info": {
   "codemirror_mode": {
    "name": "ipython",
    "version": 3
   },
   "file_extension": ".py",
   "mimetype": "text/x-python",
   "name": "python",
   "nbconvert_exporter": "python",
   "pygments_lexer": "ipython3",
   "version": "3.8.8"
  }
 },
 "nbformat": 4,
 "nbformat_minor": 5
}
