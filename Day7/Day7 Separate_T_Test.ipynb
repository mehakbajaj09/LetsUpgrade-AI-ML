{
 "cells": [
  {
   "cell_type": "code",
   "execution_count": 5,
   "id": "09ffbdcc",
   "metadata": {},
   "outputs": [],
   "source": [
    "import pandas as pd"
   ]
  },
  {
   "cell_type": "code",
   "execution_count": 7,
   "id": "e6e18ae3",
   "metadata": {},
   "outputs": [],
   "source": [
    "ds=pd.read_csv(\"general_data.csv\")"
   ]
  },
  {
   "cell_type": "code",
   "execution_count": 9,
   "id": "6f592de4",
   "metadata": {},
   "outputs": [],
   "source": [
    "ds[\"Attrition\"].replace(to_replace=(\"No\",\"Yes\"),value=(0,1),inplace=True)"
   ]
  },
  {
   "cell_type": "code",
   "execution_count": 20,
   "id": "388c6758",
   "metadata": {},
   "outputs": [],
   "source": [
    "from scipy.stats import ttest_ind\n",
    "\n",
    "def separate_t_test(columns):\n",
    "    print(f\"{columns} vs Attrition: \\n\")\n",
    "    print(f\"NUll Hypothesis :there is no siignificant difference in {columns} between attriton yes and no\\n \")\n",
    "    print(f\"Alternative  Hypothesis :there is  siignificant difference in {columns} between attriton yes and no \\n\")\n",
    "    print(\"\\n\")\n",
    "    print(\"Performing Separate t-Test:\")\n",
    "    ds_y=ds[ds['Attrition']==1]\n",
    "    ds_n=ds[ds['Attrition']==0]\n",
    "    stats, p = ttest_ind(ds_y[columns], ds_n[columns])\n",
    "    print(f\"\\n p value is {round(p,5)}\\n\")\n",
    "    print(f\" p value is {round(p, 5)}\\n\")\n",
    "    if p<.05:\n",
    "        print(f\"As the  value is less than 0.05 The null hypothesis is rejected and alternate hypothesi is accepted\\n \")\n",
    "        print(f\"Therefore there is  significant difference in {columns} between attriton yes and no \\n\")\n",
    "    else:\n",
    "        print(f\"As the  value is greater than 0.05 The alternate hypothesis is rejected and null hypothesis is accepted\\n \")\n",
    "        print(f\"Therefore there is no  significant difference in {columns} between attriton yes and no \\n\")\n",
    "    print(\"\\n\")"
   ]
  },
  {
   "cell_type": "code",
   "execution_count": 22,
   "id": "7de557fb",
   "metadata": {},
   "outputs": [
    {
     "name": "stdout",
     "output_type": "stream",
     "text": [
      "Age vs Attrition: \n",
      "\n",
      "NUll Hypothesis :there is no siignificant difference in Age between attriton yes and no\n",
      " \n",
      "Alternative  Hypothesis :there is  siignificant difference in Age between attriton yes and no \n",
      "\n",
      "\n",
      "\n",
      "Performing Separate t-Test:\n",
      "\n",
      " p value is 0.0\n",
      "\n",
      " p value is 0.0\n",
      "\n",
      "As the  value is less than 0.05 The null hypothesis is rejected and alternate hypothesi is accepted\n",
      " \n",
      "Therefore there is  significant difference in Age between attriton yes and no \n",
      "\n",
      "\n",
      "\n"
     ]
    }
   ],
   "source": [
    "separate_t_test(\"Age\")"
   ]
  },
  {
   "cell_type": "code",
   "execution_count": 26,
   "id": "5a558b7c",
   "metadata": {},
   "outputs": [
    {
     "name": "stdout",
     "output_type": "stream",
     "text": [
      "TrainingTimesLastYear vs Attrition: \n",
      "\n",
      "NUll Hypothesis :there is no siignificant difference in TrainingTimesLastYear between attriton yes and no\n",
      " \n",
      "Alternative  Hypothesis :there is  siignificant difference in TrainingTimesLastYear between attriton yes and no \n",
      "\n",
      "\n",
      "\n",
      "Performing Separate t-Test:\n",
      "\n",
      " p value is 0.00102\n",
      "\n",
      " p value is 0.00102\n",
      "\n",
      "As the  value is less than 0.05 The null hypothesis is rejected and alternate hypothesi is accepted\n",
      " \n",
      "Therefore there is  significant difference in TrainingTimesLastYear between attriton yes and no \n",
      "\n",
      "\n",
      "\n"
     ]
    }
   ],
   "source": [
    "separate_t_test(\"TrainingTimesLastYear\")"
   ]
  },
  {
   "cell_type": "code",
   "execution_count": null,
   "id": "ec13c63b",
   "metadata": {},
   "outputs": [],
   "source": []
  }
 ],
 "metadata": {
  "kernelspec": {
   "display_name": "Python 3",
   "language": "python",
   "name": "python3"
  },
  "language_info": {
   "codemirror_mode": {
    "name": "ipython",
    "version": 3
   },
   "file_extension": ".py",
   "mimetype": "text/x-python",
   "name": "python",
   "nbconvert_exporter": "python",
   "pygments_lexer": "ipython3",
   "version": "3.8.8"
  }
 },
 "nbformat": 4,
 "nbformat_minor": 5
}
