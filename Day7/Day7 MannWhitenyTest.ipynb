{
 "cells": [
  {
   "cell_type": "code",
   "execution_count": 9,
   "id": "e6b57e05",
   "metadata": {},
   "outputs": [],
   "source": [
    "import pandas as pd"
   ]
  },
  {
   "cell_type": "code",
   "execution_count": 29,
   "id": "4e71fe96",
   "metadata": {},
   "outputs": [],
   "source": [
    "from scipy.stats import mannwhitneyu"
   ]
  },
  {
   "cell_type": "code",
   "execution_count": 30,
   "id": "e51fb4fb",
   "metadata": {},
   "outputs": [],
   "source": [
    "ds=pd.read_csv(\"general_data.csv\")"
   ]
  },
  {
   "cell_type": "code",
   "execution_count": 32,
   "id": "be91bccb",
   "metadata": {},
   "outputs": [],
   "source": [
    "ds[\"Attrition\"].replace(to_replace=(\"No\",\"Yes\"),value=(0,1),inplace=True)"
   ]
  },
  {
   "cell_type": "code",
   "execution_count": 47,
   "id": "d9463201",
   "metadata": {},
   "outputs": [],
   "source": [
    "def mwtest(columns):\n",
    "    print(f\"{columns } v/s Attrition:\\n \")\n",
    "    print(f\"NUll Hypothesis :there is no siignificant difference in {columns} between attriton yes and no\\n \")\n",
    "    print(f\"Alternative  Hypothesis :there is  siignificant difference in {columns} between attriton yes and no \\n\")\n",
    "    print(\"\\n\")\n",
    "    print(\"MannWhitney test \")\n",
    "    ds_y=ds[ds['Attrition']==1]\n",
    "    ds_n=ds[ds['Attrition']==0]\n",
    "    stats,p=mannwhitneyu(ds_y[columns],ds_n[columns])\n",
    "    print(f\"\\n p value is {round(p,5)}\\n\")\n",
    "    if p<.05:\n",
    "        print(f\"As the  value is less than 0.05 The null hypothesis is rejected and alternate hypothesi is accepted\\n \")\n",
    "        print(f\"Therefore there is  significant difference in {columns} between attriton yes and no \\n\")\n",
    "    else:\n",
    "        print(f\"As the  value is greater than 0.05 The alternate hypothesis is rejected and null hypothesis is accepted\\n \")\n",
    "        print(f\"Therefore there is no  significant difference in {columns} between attriton yes and no \\n\")\n",
    "    print(\"\\n\")"
   ]
  },
  {
   "cell_type": "code",
   "execution_count": 48,
   "id": "389315e5",
   "metadata": {},
   "outputs": [
    {
     "name": "stdout",
     "output_type": "stream",
     "text": [
      "DistanceFromHome v/s Attrition:\n",
      " \n",
      "NUll Hypothesis :there is no siignificant difference in DistanceFromHome between attriton yes and no\n",
      " \n",
      "Alternative  Hypothesis :there is  siignificant difference in DistanceFromHome between attriton yes and no \n",
      "\n",
      "\n",
      "\n",
      "MannWhitney test \n",
      "\n",
      " p value is 0.46292\n",
      "\n",
      "As the  value is greater than 0.05 The alternate hypothesis is rejected and null hypothesis is accepted\n",
      " \n",
      "Therefore there is no  significant difference in DistanceFromHome between attriton yes and no \n",
      "\n",
      "\n",
      "\n"
     ]
    }
   ],
   "source": [
    "mwtest(\"DistanceFromHome\")"
   ]
  },
  {
   "cell_type": "code",
   "execution_count": 49,
   "id": "8efe063e",
   "metadata": {},
   "outputs": [
    {
     "name": "stdout",
     "output_type": "stream",
     "text": [
      "Education v/s Attrition:\n",
      " \n",
      "NUll Hypothesis :there is no siignificant difference in Education between attriton yes and no\n",
      " \n",
      "Alternative  Hypothesis :there is  siignificant difference in Education between attriton yes and no \n",
      "\n",
      "\n",
      "\n",
      "MannWhitney test \n",
      "\n",
      " p value is 0.12035\n",
      "\n",
      "As the  value is greater than 0.05 The alternate hypothesis is rejected and null hypothesis is accepted\n",
      " \n",
      "Therefore there is no  significant difference in Education between attriton yes and no \n",
      "\n",
      "\n",
      "\n"
     ]
    }
   ],
   "source": [
    "mwtest(\"Education\")"
   ]
  },
  {
   "cell_type": "code",
   "execution_count": 50,
   "id": "2bef7c46",
   "metadata": {},
   "outputs": [
    {
     "name": "stdout",
     "output_type": "stream",
     "text": [
      "MonthlyIncome v/s Attrition:\n",
      " \n",
      "NUll Hypothesis :there is no siignificant difference in MonthlyIncome between attriton yes and no\n",
      " \n",
      "Alternative  Hypothesis :there is  siignificant difference in MonthlyIncome between attriton yes and no \n",
      "\n",
      "\n",
      "\n",
      "MannWhitney test \n",
      "\n",
      " p value is 0.05358\n",
      "\n",
      "As the  value is greater than 0.05 The alternate hypothesis is rejected and null hypothesis is accepted\n",
      " \n",
      "Therefore there is no  significant difference in MonthlyIncome between attriton yes and no \n",
      "\n",
      "\n",
      "\n"
     ]
    }
   ],
   "source": [
    "mwtest(\"MonthlyIncome\")"
   ]
  },
  {
   "cell_type": "code",
   "execution_count": 51,
   "id": "875a4baf",
   "metadata": {},
   "outputs": [
    {
     "name": "stdout",
     "output_type": "stream",
     "text": [
      "NumCompaniesWorked v/s Attrition:\n",
      " \n",
      "NUll Hypothesis :there is no siignificant difference in NumCompaniesWorked between attriton yes and no\n",
      " \n",
      "Alternative  Hypothesis :there is  siignificant difference in NumCompaniesWorked between attriton yes and no \n",
      "\n",
      "\n",
      "\n",
      "MannWhitney test \n",
      "\n",
      " p value is 0.02488\n",
      "\n",
      "As the  value is less than 0.05 The null hypothesis is rejected and alternate hypothesi is accepted\n",
      " \n",
      "Therefore there is  significant difference in NumCompaniesWorked between attriton yes and no \n",
      "\n",
      "\n",
      "\n"
     ]
    }
   ],
   "source": [
    "mwtest(\"NumCompaniesWorked\")"
   ]
  },
  {
   "cell_type": "code",
   "execution_count": 55,
   "id": "8064524e",
   "metadata": {},
   "outputs": [
    {
     "name": "stdout",
     "output_type": "stream",
     "text": [
      "PercentSalaryHike v/s Attrition:\n",
      " \n",
      "NUll Hypothesis :there is no siignificant difference in PercentSalaryHike between attriton yes and no\n",
      " \n",
      "Alternative  Hypothesis :there is  siignificant difference in PercentSalaryHike between attriton yes and no \n",
      "\n",
      "\n",
      "\n",
      "MannWhitney test \n",
      "\n",
      " p value is 0.01866\n",
      "\n",
      "As the  value is less than 0.05 The null hypothesis is rejected and alternate hypothesi is accepted\n",
      " \n",
      "Therefore there is  significant difference in PercentSalaryHike between attriton yes and no \n",
      "\n",
      "\n",
      "\n"
     ]
    }
   ],
   "source": [
    "mwtest(\"PercentSalaryHike\")"
   ]
  },
  {
   "cell_type": "code",
   "execution_count": 62,
   "id": "fde725c7",
   "metadata": {},
   "outputs": [
    {
     "name": "stdout",
     "output_type": "stream",
     "text": [
      "TrainingTimesLastYear v/s Attrition:\n",
      " \n",
      "NUll Hypothesis :there is no siignificant difference in TrainingTimesLastYear between attriton yes and no\n",
      " \n",
      "Alternative  Hypothesis :there is  siignificant difference in TrainingTimesLastYear between attriton yes and no \n",
      "\n",
      "\n",
      "\n",
      "MannWhitney test \n",
      "\n",
      " p value is 0.00517\n",
      "\n",
      "As the  value is less than 0.05 The null hypothesis is rejected and alternate hypothesi is accepted\n",
      " \n",
      "Therefore there is  significant difference in TrainingTimesLastYear between attriton yes and no \n",
      "\n",
      "\n",
      "\n"
     ]
    }
   ],
   "source": [
    "mwtest(\"TrainingTimesLastYear\")"
   ]
  },
  {
   "cell_type": "code",
   "execution_count": 66,
   "id": "3bf1c9c3",
   "metadata": {},
   "outputs": [
    {
     "name": "stdout",
     "output_type": "stream",
     "text": [
      "YearsSinceLastPromotion v/s Attrition:\n",
      " \n",
      "NUll Hypothesis :there is no siignificant difference in YearsSinceLastPromotion between attriton yes and no\n",
      " \n",
      "Alternative  Hypothesis :there is  siignificant difference in YearsSinceLastPromotion between attriton yes and no \n",
      "\n",
      "\n",
      "\n",
      "MannWhitney test \n",
      "\n",
      " p value is 0.0002\n",
      "\n",
      "As the  value is less than 0.05 The null hypothesis is rejected and alternate hypothesi is accepted\n",
      " \n",
      "Therefore there is  significant difference in YearsSinceLastPromotion between attriton yes and no \n",
      "\n",
      "\n",
      "\n"
     ]
    }
   ],
   "source": [
    "mwtest(\"YearsSinceLastPromotion\")"
   ]
  },
  {
   "cell_type": "code",
   "execution_count": 68,
   "id": "f2834dc8",
   "metadata": {},
   "outputs": [
    {
     "name": "stdout",
     "output_type": "stream",
     "text": [
      "Age v/s Attrition:\n",
      " \n",
      "NUll Hypothesis :there is no siignificant difference in Age between attriton yes and no\n",
      " \n",
      "Alternative  Hypothesis :there is  siignificant difference in Age between attriton yes and no \n",
      "\n",
      "\n",
      "\n",
      "MannWhitney test \n",
      "\n",
      " p value is 0.0\n",
      "\n",
      "As the  value is less than 0.05 The null hypothesis is rejected and alternate hypothesi is accepted\n",
      " \n",
      "Therefore there is  significant difference in Age between attriton yes and no \n",
      "\n",
      "\n",
      "\n"
     ]
    }
   ],
   "source": [
    "mwtest(\"Age\")"
   ]
  },
  {
   "cell_type": "code",
   "execution_count": 72,
   "id": "b4ac7649",
   "metadata": {},
   "outputs": [
    {
     "name": "stdout",
     "output_type": "stream",
     "text": [
      "YearsWithCurrManager v/s Attrition:\n",
      " \n",
      "NUll Hypothesis :there is no siignificant difference in YearsWithCurrManager between attriton yes and no\n",
      " \n",
      "Alternative  Hypothesis :there is  siignificant difference in YearsWithCurrManager between attriton yes and no \n",
      "\n",
      "\n",
      "\n",
      "MannWhitney test \n",
      "\n",
      " p value is 0.0\n",
      "\n",
      "As the  value is less than 0.05 The null hypothesis is rejected and alternate hypothesi is accepted\n",
      " \n",
      "Therefore there is  significant difference in YearsWithCurrManager between attriton yes and no \n",
      "\n",
      "\n",
      "\n"
     ]
    }
   ],
   "source": [
    "mwtest(\"YearsWithCurrManager\")"
   ]
  },
  {
   "cell_type": "code",
   "execution_count": 75,
   "id": "67722e9a",
   "metadata": {},
   "outputs": [
    {
     "name": "stdout",
     "output_type": "stream",
     "text": [
      "YearsAtCompany v/s Attrition:\n",
      " \n",
      "NUll Hypothesis :there is no siignificant difference in YearsAtCompany between attriton yes and no\n",
      " \n",
      "Alternative  Hypothesis :there is  siignificant difference in YearsAtCompany between attriton yes and no \n",
      "\n",
      "\n",
      "\n",
      "MannWhitney test \n",
      "\n",
      " p value is 0.0\n",
      "\n",
      "As the  value is less than 0.05 The null hypothesis is rejected and alternate hypothesi is accepted\n",
      " \n",
      "Therefore there is  significant difference in YearsAtCompany between attriton yes and no \n",
      "\n",
      "\n",
      "\n"
     ]
    }
   ],
   "source": [
    "mwtest(\"YearsAtCompany\")"
   ]
  },
  {
   "cell_type": "code",
   "execution_count": null,
   "id": "f8a81498",
   "metadata": {},
   "outputs": [],
   "source": []
  }
 ],
 "metadata": {
  "kernelspec": {
   "display_name": "Python 3",
   "language": "python",
   "name": "python3"
  },
  "language_info": {
   "codemirror_mode": {
    "name": "ipython",
    "version": 3
   },
   "file_extension": ".py",
   "mimetype": "text/x-python",
   "name": "python",
   "nbconvert_exporter": "python",
   "pygments_lexer": "ipython3",
   "version": "3.8.8"
  }
 },
 "nbformat": 4,
 "nbformat_minor": 5
}
